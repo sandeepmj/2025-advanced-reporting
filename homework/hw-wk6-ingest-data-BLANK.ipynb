{
 "cells": [
  {
   "cell_type": "markdown",
   "id": "Qim5YnoxEywd",
   "metadata": {
    "id": "Qim5YnoxEywd"
   },
   "source": [
    "# Homework for Week 6\n",
    "\n",
    "The goal for this homework is to see the relevant journalistic uses for what we learned in class.\n",
    "\n",
    "1. Ingest different types of spreadsheets into Pandas,\n",
    "2. Gather general info about our dataframes\n",
    "3. Target specific values"
   ]
  },
  {
   "cell_type": "markdown",
   "id": "1d64966a",
   "metadata": {
    "id": "1d64966a"
   },
   "source": [
    "## Pandas - Importing data\n",
    "\n",
    "Please download the following data and move it to an appropriate folder on your computer:\n",
    "\n",
    "- <a href=\"https://github.com/sandeepmj/datasets/blob/main/importing-excerpts/ems20_1st_6months_excerpt.csv\">EMS excerpt</a>,\n",
    "\n",
    "- <a href=\"https://github.com/sandeepmj/datasets/blob/main/importing-excerpts/multi-data.xlsx\">Customs, Border Patrol</a>\n",
    "\n",
    "**Give yourself time to download it. Some of the files are large!**"
   ]
  },
  {
   "cell_type": "code",
   "execution_count": null,
   "id": "e8c6fb4b",
   "metadata": {
    "executionInfo": {
     "elapsed": 177,
     "status": "ok",
     "timestamp": 1722793930384,
     "user": {
      "displayName": "Sandeep Junnarkar",
      "userId": "15658885848901522782"
     },
     "user_tz": 240
    },
    "id": "e8c6fb4b"
   },
   "outputs": [],
   "source": [
    "## import the pandas library in this cell\n",
    "\n",
    "\n"
   ]
  },
  {
   "cell_type": "markdown",
   "id": "415d55dd",
   "metadata": {
    "id": "415d55dd"
   },
   "source": [
    "### Ingest the following dataset into this note:\n",
    "\n",
    "- ```ems20_1st_6months_excerpt.csv``` into a dataframe named ```ems2020_excerpt_df```"
   ]
  },
  {
   "cell_type": "code",
   "execution_count": null,
   "id": "2609f6fb",
   "metadata": {
    "executionInfo": {
     "elapsed": 429,
     "status": "ok",
     "timestamp": 1722794172319,
     "user": {
      "displayName": "Sandeep Junnarkar",
      "userId": "15658885848901522782"
     },
     "user_tz": 240
    },
    "id": "2609f6fb"
   },
   "outputs": [],
   "source": [
    "## import data and store in dataframe\n"
   ]
  },
  {
   "cell_type": "code",
   "execution_count": null,
   "id": "ec3cb6b2",
   "metadata": {
    "colab": {
     "base_uri": "https://localhost:8080/",
     "height": 412
    },
    "executionInfo": {
     "elapsed": 185,
     "status": "ok",
     "timestamp": 1722794175493,
     "user": {
      "displayName": "Sandeep Junnarkar",
      "userId": "15658885848901522782"
     },
     "user_tz": 240
    },
    "id": "ec3cb6b2",
    "outputId": "6c5d04e6-c3c3-425d-e587-6caa3a0f20a4"
   },
   "outputs": [],
   "source": [
    "## call the first 10 rows\n"
   ]
  },
  {
   "cell_type": "code",
   "execution_count": null,
   "id": "fb59614c",
   "metadata": {
    "colab": {
     "base_uri": "https://localhost:8080/",
     "height": 255
    },
    "executionInfo": {
     "elapsed": 212,
     "status": "ok",
     "timestamp": 1722794191544,
     "user": {
      "displayName": "Sandeep Junnarkar",
      "userId": "15658885848901522782"
     },
     "user_tz": 240
    },
    "id": "fb59614c",
    "outputId": "c92d874f-2912-48e6-f19a-690cb070cc61"
   },
   "outputs": [],
   "source": [
    "## call the last 5 rows\n"
   ]
  },
  {
   "cell_type": "code",
   "execution_count": null,
   "id": "0953ae2d",
   "metadata": {
    "colab": {
     "base_uri": "https://localhost:8080/",
     "height": 726
    },
    "executionInfo": {
     "elapsed": 204,
     "status": "ok",
     "timestamp": 1722794203675,
     "user": {
      "displayName": "Sandeep Junnarkar",
      "userId": "15658885848901522782"
     },
     "user_tz": 240
    },
    "id": "0953ae2d",
    "outputId": "38bb2784-746b-4c57-8cf8-bb474395f610"
   },
   "outputs": [],
   "source": [
    "## call a 20 random rows\n"
   ]
  },
  {
   "cell_type": "code",
   "execution_count": null,
   "id": "68c744d9",
   "metadata": {
    "colab": {
     "base_uri": "https://localhost:8080/"
    },
    "executionInfo": {
     "elapsed": 190,
     "status": "ok",
     "timestamp": 1722794265103,
     "user": {
      "displayName": "Sandeep Junnarkar",
      "userId": "15658885848901522782"
     },
     "user_tz": 240
    },
    "id": "68c744d9",
    "outputId": "505b76df-c32e-4e26-dfe0-71b3b5ff0765"
   },
   "outputs": [],
   "source": [
    "## get basic overview of the data\n",
    "## what datatypes do the different columns hold?\n",
    "## how many rows and columns are there\n",
    "\n"
   ]
  },
  {
   "cell_type": "code",
   "execution_count": null,
   "id": "e81b7f89-f374-4535-a160-64373bfae1a9",
   "metadata": {},
   "outputs": [],
   "source": [
    "## call the top 7 rows"
   ]
  },
  {
   "cell_type": "code",
   "execution_count": null,
   "id": "1a056f6f-4d2f-485f-85a6-3895150c1f90",
   "metadata": {},
   "outputs": [],
   "source": [
    "## call a sample of 10"
   ]
  },
  {
   "cell_type": "code",
   "execution_count": null,
   "id": "be41246a-41bb-4ff7-bf0e-2e6b12b1024d",
   "metadata": {},
   "outputs": [],
   "source": [
    "## call the bottom 6"
   ]
  },
  {
   "cell_type": "code",
   "execution_count": null,
   "id": "d0766b0c-83a3-41e5-8112-47de18aefe80",
   "metadata": {},
   "outputs": [],
   "source": [
    "## Programmatically capture the 2245th FINAL_CALL_TYPE value and store in a variable."
   ]
  },
  {
   "cell_type": "markdown",
   "id": "e5f37584",
   "metadata": {
    "id": "e5f37584"
   },
   "source": [
    "## Targeting an Excel sheet\n",
    "\n",
    "Use the Customs and Border Protection data in this ```multi-data.xlsx``` workbook to answer the following questions.\n",
    "\n",
    "Create a dataframe called ```cbp_df```."
   ]
  },
  {
   "cell_type": "code",
   "execution_count": null,
   "id": "51a1ee71",
   "metadata": {
    "executionInfo": {
     "elapsed": 38113,
     "status": "ok",
     "timestamp": 1722794324410,
     "user": {
      "displayName": "Sandeep Junnarkar",
      "userId": "15658885848901522782"
     },
     "user_tz": 240
    },
    "id": "51a1ee71"
   },
   "outputs": [],
   "source": [
    "## import data here\n"
   ]
  },
  {
   "cell_type": "code",
   "execution_count": null,
   "id": "8885c25d",
   "metadata": {
    "colab": {
     "base_uri": "https://localhost:8080/",
     "height": 1000
    },
    "executionInfo": {
     "elapsed": 367,
     "status": "ok",
     "timestamp": 1722794334249,
     "user": {
      "displayName": "Sandeep Junnarkar",
      "userId": "15658885848901522782"
     },
     "user_tz": 240
    },
    "id": "8885c25d",
    "outputId": "494f5c2f-28ad-43b3-9c01-f15703a73ae1"
   },
   "outputs": [],
   "source": [
    "## call the top 15 rows\n",
    "\n"
   ]
  },
  {
   "cell_type": "code",
   "execution_count": null,
   "id": "85f2b882-0eea-454e-984d-7cac92e43764",
   "metadata": {},
   "outputs": [],
   "source": [
    "## get basic overview of the data\n",
    "## what datatypes do the different columns hold?\n",
    "## how many rows and columns are there"
   ]
  },
  {
   "cell_type": "code",
   "execution_count": null,
   "id": "fa00a3ad-4dd5-407c-a03e-5bd6fc9bcaa2",
   "metadata": {},
   "outputs": [],
   "source": [
    "## call the bottom 3"
   ]
  },
  {
   "cell_type": "code",
   "execution_count": null,
   "id": "cbcd841b-745e-41c1-963e-34522fb3c39e",
   "metadata": {},
   "outputs": [],
   "source": [
    "## call a sample of 20"
   ]
  },
  {
   "cell_type": "code",
   "execution_count": null,
   "id": "3fdac4ef-6290-4972-8483-5e079ba3e5ee",
   "metadata": {},
   "outputs": [],
   "source": [
    "## Programmatically capture the 8th hours_in_custody value and store in a variable."
   ]
  },
  {
   "cell_type": "code",
   "execution_count": null,
   "id": "1e2b15fa-29d4-4905-aec5-b5581fa4411d",
   "metadata": {},
   "outputs": [],
   "source": []
  }
 ],
 "metadata": {
  "colab": {
   "provenance": [
    {
     "file_id": "1kwqYZ6ZPMilHdUt6r51bfbD95V0_ksto",
     "timestamp": 1722362509890
    },
    {
     "file_id": "1d5JETO1E2J9AhJISRtE9MNtbQuxy1Cqh",
     "timestamp": 1707939570206
    },
    {
     "file_id": "1LDCNVkERpVInrYIrKVIEEZL_0e0_ttnK",
     "timestamp": 1707935996527
    },
    {
     "file_id": "1JU1Mnq7nb4jJxxmpzj1FZGfvwvWv9Uvu",
     "timestamp": 1683600889009
    }
   ]
  },
  "kernelspec": {
   "display_name": "Python [conda env:base] *",
   "language": "python",
   "name": "conda-base-py"
  },
  "language_info": {
   "codemirror_mode": {
    "name": "ipython",
    "version": 3
   },
   "file_extension": ".py",
   "mimetype": "text/x-python",
   "name": "python",
   "nbconvert_exporter": "python",
   "pygments_lexer": "ipython3",
   "version": "3.12.7"
  }
 },
 "nbformat": 4,
 "nbformat_minor": 5
}
