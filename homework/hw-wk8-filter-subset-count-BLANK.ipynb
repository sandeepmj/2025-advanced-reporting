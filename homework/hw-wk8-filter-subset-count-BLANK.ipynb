{
 "cells": [
  {
   "cell_type": "markdown",
   "id": "bb333aa4",
   "metadata": {},
   "source": [
    "# NYC traffic accidents over a 3 year period \n",
    "## Filter and Subset\n",
    "\n",
    "Ingest <a href=\"https://raw.githubusercontent.com/sandeepmj/datasets/main/nyc-accidents.csv\">this dataset</a> stored GitHub.\n",
    "\n",
    "You can find the <a href=\"https://data.cityofnewyork.us/Public-Safety/Motor-Vehicle-Collisions-Crashes/h9gi-nx95/about_data\">data source here</a>, including the data dictionary."
   ]
  },
  {
   "cell_type": "code",
   "execution_count": null,
   "id": "3a4e3c74",
   "metadata": {},
   "outputs": [],
   "source": [
    "## import necessary libraries\n",
    "\n"
   ]
  },
  {
   "cell_type": "code",
   "execution_count": null,
   "id": "506891bb",
   "metadata": {},
   "outputs": [],
   "source": [
    "## read the dataset into notebook"
   ]
  },
  {
   "cell_type": "code",
   "execution_count": null,
   "id": "d20d8cde",
   "metadata": {},
   "outputs": [],
   "source": [
    "## see the overall info about this dataset\n"
   ]
  },
  {
   "cell_type": "code",
   "execution_count": null,
   "id": "3970784a",
   "metadata": {},
   "outputs": [],
   "source": [
    "## create a series for borough using dot notation\n"
   ]
  },
  {
   "cell_type": "code",
   "execution_count": null,
   "id": "0cad6845",
   "metadata": {},
   "outputs": [],
   "source": [
    "## create a series of crash dates.\n",
    "\n"
   ]
  },
  {
   "cell_type": "code",
   "execution_count": null,
   "id": "f2b6b17a",
   "metadata": {},
   "outputs": [],
   "source": [
    "## DON'T DO THIS ONE THIS WEEK - NOT COVERED YET\n",
    "## Which borough had the most crashes?\n"
   ]
  },
  {
   "cell_type": "code",
   "execution_count": null,
   "id": "d556522d",
   "metadata": {},
   "outputs": [],
   "source": [
    "## DON'T DO THIS ONE THIS WEEK - NOT COVERED YET\n",
    "## which type of vehicle was primary vehicle (CONTRIBUTING FACTOR VEHICLE 1) involved in crashes?\n",
    "## SHOW ONLY THE TOP 7\n"
   ]
  },
  {
   "cell_type": "code",
   "execution_count": null,
   "id": "be50388e",
   "metadata": {},
   "outputs": [],
   "source": [
    "## DON'T DO THIS ONE THIS WEEK - NOT COVERED YET\n",
    "## these top 7 but as percentages as a dataframe, with the header \"pct\"\n"
   ]
  },
  {
   "cell_type": "code",
   "execution_count": null,
   "id": "83dfc384",
   "metadata": {},
   "outputs": [],
   "source": [
    "## DON'T DO THIS ONE THIS WEEK - NOT COVERED YET\n",
    "## What were 15 vehicles that were the most infrequantly involved in an accident  (CONTRIBUTING FACTOR VEHICLE 1)?\n",
    "\n"
   ]
  },
  {
   "cell_type": "code",
   "execution_count": null,
   "id": "8df45602",
   "metadata": {},
   "outputs": [],
   "source": [
    "## create a subset of data for only Queens\n",
    "## place it in a dataframe called df_q\n"
   ]
  },
  {
   "cell_type": "code",
   "execution_count": null,
   "id": "ec8c8ac9",
   "metadata": {},
   "outputs": [],
   "source": [
    "## DON'T DO THIS ONE THIS WEEK - NOT COVERED YET\n",
    "## number of people killed but return as a frame with a label \"number_killed\"\n"
   ]
  },
  {
   "cell_type": "code",
   "execution_count": null,
   "id": "907f1f21",
   "metadata": {},
   "outputs": [],
   "source": [
    "## create a dataset for Manhattan that involved taxi cabs as the primary vehicle cause\n"
   ]
  },
  {
   "cell_type": "code",
   "execution_count": null,
   "id": "32704f24",
   "metadata": {},
   "outputs": [],
   "source": [
    "## DON'T DO THIS ONE THIS WEEK - NOT COVERED YET\n",
    "## What were the top 8 causes of accidents across all the boroughs?\n",
    "## by primary vehicle cause\n"
   ]
  },
  {
   "cell_type": "code",
   "execution_count": null,
   "id": "e381cd4c",
   "metadata": {},
   "outputs": [],
   "source": [
    "## DON'T DO THIS ONE THIS WEEK - NOT COVERED YET\n",
    "## What were the top 8 causes of accidents across all the boroughs?\n",
    "## by primary vehicle cause\n",
    "### as a percent in a frame with header pct_\n"
   ]
  },
  {
   "cell_type": "code",
   "execution_count": null,
   "id": "77e3122f",
   "metadata": {},
   "outputs": [],
   "source": [
    "## DON'T DO THIS ONE THIS WEEK - NOT COVERED YET\n",
    "## What were the top 8 causes of accidents across all the boroughs?\n",
    "## by secondary vehicle cause\n"
   ]
  },
  {
   "cell_type": "code",
   "execution_count": null,
   "id": "d524c89e",
   "metadata": {},
   "outputs": [],
   "source": [
    "## DON'T DO THIS ONE THIS WEEK - NOT COVERED YET\n",
    "## What were the 5 fewest causes for primary vehicles causing the accident\n"
   ]
  },
  {
   "cell_type": "code",
   "execution_count": null,
   "id": "c67fbfac",
   "metadata": {},
   "outputs": [],
   "source": [
    "## DON'T DO THIS ONE THIS WEEK - NOT COVERED YET\n",
    "## list ALL the causes for vehicle 1 as unique values (in other words, create a list of the causes)\n",
    "\n"
   ]
  },
  {
   "cell_type": "code",
   "execution_count": null,
   "id": "3f7ad5c2",
   "metadata": {},
   "outputs": [],
   "source": [
    "## find all incidents of defective pavements causing accidents \n",
    "## and sort by borough\n"
   ]
  },
  {
   "cell_type": "code",
   "execution_count": null,
   "id": "b37ad765",
   "metadata": {},
   "outputs": [],
   "source": [
    "## find all incidents in which more than 3 people were killed"
   ]
  },
  {
   "cell_type": "code",
   "execution_count": null,
   "id": "828d51c3",
   "metadata": {},
   "outputs": [],
   "source": [
    "## find all incidents in which between 2 and 3 people were killed"
   ]
  },
  {
   "cell_type": "code",
   "execution_count": null,
   "id": "8ecf743f",
   "metadata": {},
   "outputs": [],
   "source": []
  }
 ],
 "metadata": {
  "kernelspec": {
   "display_name": "Python [conda env:base] *",
   "language": "python",
   "name": "conda-base-py"
  },
  "language_info": {
   "codemirror_mode": {
    "name": "ipython",
    "version": 3
   },
   "file_extension": ".py",
   "mimetype": "text/x-python",
   "name": "python",
   "nbconvert_exporter": "python",
   "pygments_lexer": "ipython3",
   "version": "3.12.7"
  }
 },
 "nbformat": 4,
 "nbformat_minor": 5
}
