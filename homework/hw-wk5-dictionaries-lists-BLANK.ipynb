{
 "cells": [
  {
   "cell_type": "markdown",
   "id": "Qim5YnoxEywd",
   "metadata": {
    "id": "Qim5YnoxEywd"
   },
   "source": [
    "# Homework for Week 5\n",
    "\n",
    "The goal for this homework is to see the relevant journalistic uses for what we learned in class in week 4.\n",
    "\n",
    "1. create lists and dictionaries\n",
    "2. access specific data within our lists and dictionaries,\n",
    "3. break down larger datasets into smaller chunks (subset),\n"
   ]
  },
  {
   "cell_type": "markdown",
   "id": "-zKj7Eyo2OS7",
   "metadata": {
    "id": "-zKj7Eyo2OS7"
   },
   "source": [
    "### Q. 1 Creating Lists\n",
    "\n",
    "You've <a href=\"https://apps.health.ny.gov/pubdoh/professionals/doctors/conduct/factions/AllRecordsAction.action?\">scraped thousands of documents</a> that contain disciplinary actions against doctors in New York state. You compile key words and phrases that will target certain types of violations. These include:\n",
    "\n",
    "- improper touching\n",
    "- self-medication\n",
    "- self-prescribing\n",
    "- opioid addiction\n",
    "- harassment\n",
    "- coercion\n",
    "- sexual harrassment\n",
    "- sex\n",
    "- sexual favor\n",
    "- abuse of trust\n",
    "- opioid prescriptions in return for sex\n",
    "\n",
    "Create a list called ```search_terms``` that holds the search terms above.\n",
    "\n",
    "\n"
   ]
  },
  {
   "cell_type": "code",
   "execution_count": null,
   "id": "qS2BIqEV2Nte",
   "metadata": {
    "colab": {
     "base_uri": "https://localhost:8080/"
    },
    "id": "qS2BIqEV2Nte",
    "outputId": "bdf96d2f-773e-4008-fe14-83e2dad6db3d"
   },
   "outputs": [],
   "source": [
    "## create the list here (create more cells if necessary)\n"
   ]
  },
  {
   "cell_type": "markdown",
   "id": "x2TbMdx23bBb",
   "metadata": {
    "id": "x2TbMdx23bBb"
   },
   "source": [
    "### Q. 2 Datatype\n",
    "\n",
    "What type of a data object is ```search_term```"
   ]
  },
  {
   "cell_type": "code",
   "execution_count": null,
   "id": "eOECcrDS49qy",
   "metadata": {
    "id": "eOECcrDS49qy"
   },
   "outputs": [],
   "source": [
    "## code here"
   ]
  },
  {
   "cell_type": "markdown",
   "id": "QuAdDiUJ5JPQ",
   "metadata": {
    "id": "QuAdDiUJ5JPQ"
   },
   "source": [
    "### Q. 3 Length\n",
    "\n",
    "How long is this list?"
   ]
  },
  {
   "cell_type": "code",
   "execution_count": null,
   "id": "rEIJgWcIHW7o",
   "metadata": {
    "id": "rEIJgWcIHW7o"
   },
   "outputs": [],
   "source": [
    "## code it here"
   ]
  },
  {
   "cell_type": "markdown",
   "id": "1l-qYee45N1t",
   "metadata": {
    "id": "1l-qYee45N1t"
   },
   "source": [
    "### Q. 4 Building dictionaries\n",
    "\n",
    "Create a list of dictionaries called \"donations\" using the content from the image below:\n",
    "\n",
    "<img src=\"https://sandeepmj.github.io/image-host/donors.png\">\n",
    "\n",
    "## If you want to copy and paste the content, click <a href=\"https://github.com/sandeepmj/practical_python_exercises/blob/master/support_files/giving.xlsx?raw=true\" target=\"blank\">here</a> to download the Excel file.\n",
    "\n",
    "\n",
    "You may copy and paste the contents of each cell in the XLSX file, but type out all the code required to build the list of dictionaries.\n",
    "\n",
    "\n"
   ]
  },
  {
   "cell_type": "code",
   "execution_count": null,
   "id": "ThWj1W4aHfnH",
   "metadata": {
    "id": "ThWj1W4aHfnH"
   },
   "outputs": [],
   "source": [
    "## code it here\n",
    "\n"
   ]
  },
  {
   "cell_type": "code",
   "execution_count": null,
   "id": "C2RLGEfKID2K",
   "metadata": {
    "colab": {
     "base_uri": "https://localhost:8080/"
    },
    "id": "C2RLGEfKID2K",
    "outputId": "4a274226-3a05-4e21-d323-e1700cf4944c"
   },
   "outputs": [],
   "source": [
    "## print the list of dictionaries\n",
    "\n"
   ]
  },
  {
   "cell_type": "code",
   "execution_count": null,
   "id": "YeHJHrdWII1K",
   "metadata": {
    "colab": {
     "base_uri": "https://localhost:8080/"
    },
    "id": "YeHJHrdWII1K",
    "outputId": "b3208803-b4e8-4530-ae65-919bb8d1b846"
   },
   "outputs": [],
   "source": [
    "## call donations\n",
    "\n"
   ]
  },
  {
   "cell_type": "markdown",
   "id": "7d870ac5-bbcc-45fc-9223-e2184aed39e3",
   "metadata": {},
   "source": [
    "#### Notice the difference between ```print()``` and ```calling```?"
   ]
  },
  {
   "cell_type": "code",
   "execution_count": null,
   "id": "gZ-pbtLLIaTn",
   "metadata": {
    "colab": {
     "base_uri": "https://localhost:8080/"
    },
    "id": "gZ-pbtLLIaTn",
    "outputId": "ad9a72f7-58d4-4a6f-fe99-d52fa4fa6c99"
   },
   "outputs": [],
   "source": [
    "## How many items are in this list?\n",
    "## Don't just manually count them.\n",
    "## There will come a time when you will have thousands of items!\n"
   ]
  },
  {
   "cell_type": "markdown",
   "id": "J2Mf4b3sPvLg",
   "metadata": {
    "id": "J2Mf4b3sPvLg"
   },
   "source": [
    "# Slicing\n",
    "## Natural disasters list\n",
    "\n",
    "The Small Business Administration has a list of natural disasters that cause extensive economic damage. Run the next cell to pull the list into memory"
   ]
  },
  {
   "cell_type": "code",
   "execution_count": null,
   "id": "lk8GeCDvPvLg",
   "metadata": {
    "id": "lk8GeCDvPvLg"
   },
   "outputs": [],
   "source": [
    "disasters = [\n",
    "        \"Landslides\",\n",
    "        \"Earthquake\",\n",
    "        \"Wildfires\",\n",
    "        \"Tornadoes\",\n",
    "        \"Hurricane\",\n",
    "        \"Wind Storm\",\n",
    "        \"Winter Freeze\",\n",
    "        \"Ice Storm\",\n",
    "        \"Drought\",\n",
    "        \"Tsunami\",\n",
    "        \"Flash floods\",\n",
    "        \"Mudslides\",\n",
    "        \"Torrential rainfall\",\n",
    "        \"Riverine floods\",\n",
    "        \"Tidal Surge\"\n",
    "         ]"
   ]
  },
  {
   "cell_type": "code",
   "execution_count": null,
   "id": "AJE4jVfQPvLh",
   "metadata": {
    "colab": {
     "base_uri": "https://localhost:8080/"
    },
    "id": "AJE4jVfQPvLh",
    "outputId": "0892d248-574d-4cf6-9ad1-ce21b60eba2d"
   },
   "outputs": [],
   "source": [
    "## call the disaster list here\n"
   ]
  },
  {
   "cell_type": "code",
   "execution_count": null,
   "id": "EvzyETnYPvLh",
   "metadata": {
    "colab": {
     "base_uri": "https://localhost:8080/",
     "height": 35
    },
    "id": "EvzyETnYPvLh",
    "outputId": "d733c3e0-6c0d-4393-eed3-00dc4fa77a4d"
   },
   "outputs": [],
   "source": [
    "## the first item in the list\n"
   ]
  },
  {
   "cell_type": "code",
   "execution_count": null,
   "id": "bOz8lgDCPvLh",
   "metadata": {
    "colab": {
     "base_uri": "https://localhost:8080/",
     "height": 35
    },
    "id": "bOz8lgDCPvLh",
    "outputId": "8a6cb034-2986-4b0b-a2a4-369317d37ac5"
   },
   "outputs": [],
   "source": [
    "## call the penultimate item (without manually counting the number of items)\n"
   ]
  },
  {
   "cell_type": "markdown",
   "id": "8wWZaDxpPvLh",
   "metadata": {
    "id": "8wWZaDxpPvLh"
   },
   "source": [
    "### Clarification:\n",
    "\n",
    "For the next two questions, I am referring to numerical positions rather than zero-indexed positions. In other words, you will have to translate the numerical position into zero-indexed positions in your slicing."
   ]
  },
  {
   "cell_type": "code",
   "execution_count": null,
   "id": "mN1kYkmcPvLh",
   "metadata": {
    "colab": {
     "base_uri": "https://localhost:8080/"
    },
    "id": "mN1kYkmcPvLh",
    "outputId": "c672d221-5490-4ec1-f433-1540ac7bb05b"
   },
   "outputs": [],
   "source": [
    "## create a new list called disasters_subset that holds the 3rd to 6th items inclusive\n"
   ]
  },
  {
   "cell_type": "code",
   "execution_count": null,
   "id": "IyWaWlfuPvLh",
   "metadata": {
    "colab": {
     "base_uri": "https://localhost:8080/"
    },
    "id": "IyWaWlfuPvLh",
    "outputId": "c0cfb6d8-ed62-465a-f4f0-af153a2d2f96"
   },
   "outputs": [],
   "source": [
    "## create a new list called disasters_subset2 that holds the 2nd through 8th items\n"
   ]
  }
 ],
 "metadata": {
  "colab": {
   "provenance": []
  },
  "kernelspec": {
   "display_name": "Python [conda env:base] *",
   "language": "python",
   "name": "conda-base-py"
  },
  "language_info": {
   "codemirror_mode": {
    "name": "ipython",
    "version": 3
   },
   "file_extension": ".py",
   "mimetype": "text/x-python",
   "name": "python",
   "nbconvert_exporter": "python",
   "pygments_lexer": "ipython3",
   "version": "3.12.7"
  }
 },
 "nbformat": 4,
 "nbformat_minor": 5
}
