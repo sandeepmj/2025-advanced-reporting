{
 "cells": [
  {
   "cell_type": "markdown",
   "metadata": {
    "id": "mZjFwSG0eieb"
   },
   "source": [
    "## Pandas ```Series``` v. ```DataFrames```\n",
    "\n",
    "Before we can analyze data, we need to learn a few more fundamentals aspects of data in  Pandas.\n",
    "\n",
    "Today, you'll learn to:\n",
    "\n",
    "- differentiate between a Pandas series and dataframe;\n",
    "- slice a dataframe\n",
    "- store a particular value in a dataframe into a variable"
   ]
  },
  {
   "cell_type": "code",
   "execution_count": 1,
   "metadata": {
    "id": "QQRPuja6eieW"
   },
   "outputs": [],
   "source": [
    "## import pandas\n",
    "import pandas as pd"
   ]
  },
  {
   "cell_type": "markdown",
   "metadata": {
    "id": "64zvOr8_MGUL"
   },
   "source": [
    "## Import CVS data into our Jupyter notebook\n",
    "\n"
   ]
  },
  {
   "cell_type": "code",
   "execution_count": 3,
   "metadata": {
    "colab": {
     "base_uri": "https://localhost:8080/",
     "height": 423
    },
    "id": "nVRUC0WWeieb",
    "outputId": "a2d6bcbc-1e03-40d7-9c2f-9e189f979ec3"
   },
   "outputs": [
    {
     "data": {
      "text/html": [
       "<div>\n",
       "<style scoped>\n",
       "    .dataframe tbody tr th:only-of-type {\n",
       "        vertical-align: middle;\n",
       "    }\n",
       "\n",
       "    .dataframe tbody tr th {\n",
       "        vertical-align: top;\n",
       "    }\n",
       "\n",
       "    .dataframe thead th {\n",
       "        text-align: right;\n",
       "    }\n",
       "</style>\n",
       "<table border=\"1\" class=\"dataframe\">\n",
       "  <thead>\n",
       "    <tr style=\"text-align: right;\">\n",
       "      <th></th>\n",
       "      <th>carat</th>\n",
       "      <th>diamond cut</th>\n",
       "      <th>color</th>\n",
       "      <th>clarity</th>\n",
       "      <th>depth</th>\n",
       "      <th>table</th>\n",
       "      <th>price</th>\n",
       "      <th>x</th>\n",
       "      <th>y</th>\n",
       "      <th>z</th>\n",
       "    </tr>\n",
       "  </thead>\n",
       "  <tbody>\n",
       "    <tr>\n",
       "      <th>0</th>\n",
       "      <td>0.23</td>\n",
       "      <td>Ideal</td>\n",
       "      <td>E</td>\n",
       "      <td>SI2</td>\n",
       "      <td>61.5</td>\n",
       "      <td>55.0</td>\n",
       "      <td>326</td>\n",
       "      <td>3.95</td>\n",
       "      <td>3.98</td>\n",
       "      <td>2.43</td>\n",
       "    </tr>\n",
       "    <tr>\n",
       "      <th>1</th>\n",
       "      <td>0.21</td>\n",
       "      <td>Premium</td>\n",
       "      <td>E</td>\n",
       "      <td>SI1</td>\n",
       "      <td>59.8</td>\n",
       "      <td>61.0</td>\n",
       "      <td>326</td>\n",
       "      <td>3.89</td>\n",
       "      <td>3.84</td>\n",
       "      <td>2.31</td>\n",
       "    </tr>\n",
       "    <tr>\n",
       "      <th>2</th>\n",
       "      <td>0.23</td>\n",
       "      <td>Good</td>\n",
       "      <td>E</td>\n",
       "      <td>VS1</td>\n",
       "      <td>56.9</td>\n",
       "      <td>65.0</td>\n",
       "      <td>327</td>\n",
       "      <td>4.05</td>\n",
       "      <td>4.07</td>\n",
       "      <td>2.31</td>\n",
       "    </tr>\n",
       "    <tr>\n",
       "      <th>3</th>\n",
       "      <td>0.29</td>\n",
       "      <td>Premium</td>\n",
       "      <td>I</td>\n",
       "      <td>VS2</td>\n",
       "      <td>62.4</td>\n",
       "      <td>58.0</td>\n",
       "      <td>334</td>\n",
       "      <td>4.20</td>\n",
       "      <td>4.23</td>\n",
       "      <td>2.63</td>\n",
       "    </tr>\n",
       "    <tr>\n",
       "      <th>4</th>\n",
       "      <td>0.31</td>\n",
       "      <td>Good</td>\n",
       "      <td>J</td>\n",
       "      <td>SI2</td>\n",
       "      <td>63.3</td>\n",
       "      <td>58.0</td>\n",
       "      <td>335</td>\n",
       "      <td>4.34</td>\n",
       "      <td>4.35</td>\n",
       "      <td>2.75</td>\n",
       "    </tr>\n",
       "    <tr>\n",
       "      <th>...</th>\n",
       "      <td>...</td>\n",
       "      <td>...</td>\n",
       "      <td>...</td>\n",
       "      <td>...</td>\n",
       "      <td>...</td>\n",
       "      <td>...</td>\n",
       "      <td>...</td>\n",
       "      <td>...</td>\n",
       "      <td>...</td>\n",
       "      <td>...</td>\n",
       "    </tr>\n",
       "    <tr>\n",
       "      <th>53935</th>\n",
       "      <td>0.72</td>\n",
       "      <td>Ideal</td>\n",
       "      <td>D</td>\n",
       "      <td>SI1</td>\n",
       "      <td>60.8</td>\n",
       "      <td>57.0</td>\n",
       "      <td>2757</td>\n",
       "      <td>5.75</td>\n",
       "      <td>5.76</td>\n",
       "      <td>3.50</td>\n",
       "    </tr>\n",
       "    <tr>\n",
       "      <th>53936</th>\n",
       "      <td>0.72</td>\n",
       "      <td>Good</td>\n",
       "      <td>D</td>\n",
       "      <td>SI1</td>\n",
       "      <td>63.1</td>\n",
       "      <td>55.0</td>\n",
       "      <td>2757</td>\n",
       "      <td>5.69</td>\n",
       "      <td>5.75</td>\n",
       "      <td>3.61</td>\n",
       "    </tr>\n",
       "    <tr>\n",
       "      <th>53937</th>\n",
       "      <td>0.70</td>\n",
       "      <td>Very Good</td>\n",
       "      <td>D</td>\n",
       "      <td>SI1</td>\n",
       "      <td>62.8</td>\n",
       "      <td>60.0</td>\n",
       "      <td>2757</td>\n",
       "      <td>5.66</td>\n",
       "      <td>5.68</td>\n",
       "      <td>3.56</td>\n",
       "    </tr>\n",
       "    <tr>\n",
       "      <th>53938</th>\n",
       "      <td>0.86</td>\n",
       "      <td>Premium</td>\n",
       "      <td>H</td>\n",
       "      <td>SI2</td>\n",
       "      <td>61.0</td>\n",
       "      <td>58.0</td>\n",
       "      <td>2757</td>\n",
       "      <td>6.15</td>\n",
       "      <td>6.12</td>\n",
       "      <td>3.74</td>\n",
       "    </tr>\n",
       "    <tr>\n",
       "      <th>53939</th>\n",
       "      <td>0.75</td>\n",
       "      <td>Ideal</td>\n",
       "      <td>D</td>\n",
       "      <td>SI2</td>\n",
       "      <td>62.2</td>\n",
       "      <td>55.0</td>\n",
       "      <td>2757</td>\n",
       "      <td>5.83</td>\n",
       "      <td>5.87</td>\n",
       "      <td>3.64</td>\n",
       "    </tr>\n",
       "  </tbody>\n",
       "</table>\n",
       "<p>53940 rows × 10 columns</p>\n",
       "</div>"
      ],
      "text/plain": [
       "       carat diamond cut color clarity  depth  table  price     x     y     z\n",
       "0       0.23       Ideal     E     SI2   61.5   55.0    326  3.95  3.98  2.43\n",
       "1       0.21     Premium     E     SI1   59.8   61.0    326  3.89  3.84  2.31\n",
       "2       0.23        Good     E     VS1   56.9   65.0    327  4.05  4.07  2.31\n",
       "3       0.29     Premium     I     VS2   62.4   58.0    334  4.20  4.23  2.63\n",
       "4       0.31        Good     J     SI2   63.3   58.0    335  4.34  4.35  2.75\n",
       "...      ...         ...   ...     ...    ...    ...    ...   ...   ...   ...\n",
       "53935   0.72       Ideal     D     SI1   60.8   57.0   2757  5.75  5.76  3.50\n",
       "53936   0.72        Good     D     SI1   63.1   55.0   2757  5.69  5.75  3.61\n",
       "53937   0.70   Very Good     D     SI1   62.8   60.0   2757  5.66  5.68  3.56\n",
       "53938   0.86     Premium     H     SI2   61.0   58.0   2757  6.15  6.12  3.74\n",
       "53939   0.75       Ideal     D     SI2   62.2   55.0   2757  5.83  5.87  3.64\n",
       "\n",
       "[53940 rows x 10 columns]"
      ]
     },
     "execution_count": 3,
     "metadata": {},
     "output_type": "execute_result"
    }
   ],
   "source": [
    "## read diamonds into a df\n",
    "df = pd.read_csv(\"https://raw.githubusercontent.com/sandeepmj/datasets/main/diamonds.csv\")\n",
    "df"
   ]
  },
  {
   "cell_type": "code",
   "execution_count": 5,
   "metadata": {
    "colab": {
     "base_uri": "https://localhost:8080/",
     "height": 204
    },
    "id": "dqL9-AN7DW7y",
    "outputId": "899c9621-dc44-435d-8110-1a76bf68a662"
   },
   "outputs": [
    {
     "data": {
      "text/plain": [
       "pandas.core.frame.DataFrame"
      ]
     },
     "execution_count": 5,
     "metadata": {},
     "output_type": "execute_result"
    }
   ],
   "source": [
    "## what type of data is a df\n",
    "type(df)"
   ]
  },
  {
   "cell_type": "markdown",
   "metadata": {
    "id": "rOYDiW8qeieb"
   },
   "source": [
    "#### A ```dataframe``` is two-dimensional labeled data structure...\n",
    "\n",
    "![Screen Shot 2023-02-09 at 8.13.56 AM.png](data:image/png;base64,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)"
   ]
  },
  {
   "cell_type": "markdown",
   "metadata": {
    "id": "h3LSLL_teieb"
   },
   "source": [
    "#### very much like tabular data in a spreadsheet:\n",
    "\n",
    "![Screen Shot 2023-02-09 at 9.16.53 AM.png](data:image/png;base64,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)"
   ]
  },
  {
   "cell_type": "markdown",
   "metadata": {
    "id": "NxO8BIHMGddO"
   },
   "source": [
    "We see now how a ```list of dictionaries``` is the same as a ```dataframe``` which is the same as **tabular data in a spreadsheet**."
   ]
  },
  {
   "cell_type": "markdown",
   "metadata": {
    "id": "Jbtr458heieb"
   },
   "source": [
    "#### A ```Series``` is a one-dimensional array of data.\n",
    "\n",
    "#### Multiple ```series``` make up a ```dataframe```\n",
    "\n",
    "The key is to know what you are working with because once again, there are specific operations you can run on a ```series``` that you can't run on a ```dataframe```, and vise versa."
   ]
  },
  {
   "cell_type": "code",
   "execution_count": 7,
   "metadata": {
    "colab": {
     "base_uri": "https://localhost:8080/"
    },
    "id": "f8D_wAoUGddO",
    "outputId": "7089a8f5-e2dd-43b7-e821-0acd2761bc44"
   },
   "outputs": [
    {
     "name": "stdout",
     "output_type": "stream",
     "text": [
      "<class 'pandas.core.frame.DataFrame'>\n",
      "RangeIndex: 53940 entries, 0 to 53939\n",
      "Data columns (total 10 columns):\n",
      " #   Column       Non-Null Count  Dtype  \n",
      "---  ------       --------------  -----  \n",
      " 0   carat        53940 non-null  float64\n",
      " 1   diamond cut  53940 non-null  object \n",
      " 2   color        53940 non-null  object \n",
      " 3   clarity      53940 non-null  object \n",
      " 4   depth        53940 non-null  float64\n",
      " 5   table        53940 non-null  float64\n",
      " 6   price        53940 non-null  int64  \n",
      " 7   x            53940 non-null  float64\n",
      " 8   y            53940 non-null  float64\n",
      " 9   z            53940 non-null  float64\n",
      "dtypes: float64(6), int64(1), object(3)\n",
      "memory usage: 4.1+ MB\n"
     ]
    }
   ],
   "source": [
    "### get the info\n",
    "## We have a dataframe with each column being a series\n",
    "df.info()"
   ]
  },
  {
   "cell_type": "markdown",
   "metadata": {
    "id": "Ne7h06oqGddO"
   },
   "source": [
    "## calling a series\n",
    "\n",
    "```df.name_of_series```\n",
    "\n",
    "Note: this is called ```dot notation```.\n",
    "\n",
    "It is not the preferred method but it is common."
   ]
  },
  {
   "cell_type": "code",
   "execution_count": 9,
   "metadata": {
    "colab": {
     "base_uri": "https://localhost:8080/"
    },
    "id": "18phApSAeiec",
    "outputId": "d0bb8d62-9210-45a8-ec19-fd73ddeabf1e"
   },
   "outputs": [
    {
     "data": {
      "text/plain": [
       "0        0.23\n",
       "1        0.21\n",
       "2        0.23\n",
       "3        0.29\n",
       "4        0.31\n",
       "         ... \n",
       "53935    0.72\n",
       "53936    0.72\n",
       "53937    0.70\n",
       "53938    0.86\n",
       "53939    0.75\n",
       "Name: carat, Length: 53940, dtype: float64"
      ]
     },
     "execution_count": 9,
     "metadata": {},
     "output_type": "execute_result"
    }
   ],
   "source": [
    "## call the series carat\n",
    "df.carat"
   ]
  },
  {
   "cell_type": "code",
   "execution_count": 11,
   "metadata": {
    "colab": {
     "base_uri": "https://localhost:8080/",
     "height": 204
    },
    "id": "aq1r4DKQEBlI",
    "outputId": "26b197bb-ef9a-47e2-f397-dc58c639d26c"
   },
   "outputs": [
    {
     "data": {
      "text/plain": [
       "pandas.core.series.Series"
      ]
     },
     "execution_count": 11,
     "metadata": {},
     "output_type": "execute_result"
    }
   ],
   "source": [
    "## what type of data?\n",
    "type(df.carat)"
   ]
  },
  {
   "cell_type": "markdown",
   "metadata": {},
   "source": [
    "#### You can do calculations on a single seriers, like an entire row in a spreadsheet."
   ]
  },
  {
   "cell_type": "code",
   "execution_count": 13,
   "metadata": {
    "colab": {
     "base_uri": "https://localhost:8080/"
    },
    "id": "K1cyH5H2eiec",
    "outputId": "95b7c401-b920-4e9a-e787-1931d21f575b"
   },
   "outputs": [
    {
     "data": {
      "text/plain": [
       "0        0.46\n",
       "1        0.42\n",
       "2        0.46\n",
       "3        0.58\n",
       "4        0.62\n",
       "         ... \n",
       "53935    1.44\n",
       "53936    1.44\n",
       "53937    1.40\n",
       "53938    1.72\n",
       "53939    1.50\n",
       "Name: carat, Length: 53940, dtype: float64"
      ]
     },
     "execution_count": 13,
     "metadata": {},
     "output_type": "execute_result"
    }
   ],
   "source": [
    "## multiply carat series by 2\n",
    "df.carat * 2"
   ]
  },
  {
   "cell_type": "code",
   "execution_count": 15,
   "metadata": {
    "colab": {
     "base_uri": "https://localhost:8080/",
     "height": 423
    },
    "id": "AkBZQoXweiec",
    "outputId": "c196a6b6-bf46-4e34-911c-ea4b81ea663f"
   },
   "outputs": [
    {
     "data": {
      "text/html": [
       "<div>\n",
       "<style scoped>\n",
       "    .dataframe tbody tr th:only-of-type {\n",
       "        vertical-align: middle;\n",
       "    }\n",
       "\n",
       "    .dataframe tbody tr th {\n",
       "        vertical-align: top;\n",
       "    }\n",
       "\n",
       "    .dataframe thead th {\n",
       "        text-align: right;\n",
       "    }\n",
       "</style>\n",
       "<table border=\"1\" class=\"dataframe\">\n",
       "  <thead>\n",
       "    <tr style=\"text-align: right;\">\n",
       "      <th></th>\n",
       "      <th>carat</th>\n",
       "      <th>diamond cut</th>\n",
       "      <th>color</th>\n",
       "      <th>clarity</th>\n",
       "      <th>depth</th>\n",
       "      <th>table</th>\n",
       "      <th>price</th>\n",
       "      <th>x</th>\n",
       "      <th>y</th>\n",
       "      <th>z</th>\n",
       "    </tr>\n",
       "  </thead>\n",
       "  <tbody>\n",
       "    <tr>\n",
       "      <th>0</th>\n",
       "      <td>0.46</td>\n",
       "      <td>IdealIdeal</td>\n",
       "      <td>EE</td>\n",
       "      <td>SI2SI2</td>\n",
       "      <td>123.0</td>\n",
       "      <td>110.0</td>\n",
       "      <td>652</td>\n",
       "      <td>7.90</td>\n",
       "      <td>7.96</td>\n",
       "      <td>4.86</td>\n",
       "    </tr>\n",
       "    <tr>\n",
       "      <th>1</th>\n",
       "      <td>0.42</td>\n",
       "      <td>PremiumPremium</td>\n",
       "      <td>EE</td>\n",
       "      <td>SI1SI1</td>\n",
       "      <td>119.6</td>\n",
       "      <td>122.0</td>\n",
       "      <td>652</td>\n",
       "      <td>7.78</td>\n",
       "      <td>7.68</td>\n",
       "      <td>4.62</td>\n",
       "    </tr>\n",
       "    <tr>\n",
       "      <th>2</th>\n",
       "      <td>0.46</td>\n",
       "      <td>GoodGood</td>\n",
       "      <td>EE</td>\n",
       "      <td>VS1VS1</td>\n",
       "      <td>113.8</td>\n",
       "      <td>130.0</td>\n",
       "      <td>654</td>\n",
       "      <td>8.10</td>\n",
       "      <td>8.14</td>\n",
       "      <td>4.62</td>\n",
       "    </tr>\n",
       "    <tr>\n",
       "      <th>3</th>\n",
       "      <td>0.58</td>\n",
       "      <td>PremiumPremium</td>\n",
       "      <td>II</td>\n",
       "      <td>VS2VS2</td>\n",
       "      <td>124.8</td>\n",
       "      <td>116.0</td>\n",
       "      <td>668</td>\n",
       "      <td>8.40</td>\n",
       "      <td>8.46</td>\n",
       "      <td>5.26</td>\n",
       "    </tr>\n",
       "    <tr>\n",
       "      <th>4</th>\n",
       "      <td>0.62</td>\n",
       "      <td>GoodGood</td>\n",
       "      <td>JJ</td>\n",
       "      <td>SI2SI2</td>\n",
       "      <td>126.6</td>\n",
       "      <td>116.0</td>\n",
       "      <td>670</td>\n",
       "      <td>8.68</td>\n",
       "      <td>8.70</td>\n",
       "      <td>5.50</td>\n",
       "    </tr>\n",
       "    <tr>\n",
       "      <th>...</th>\n",
       "      <td>...</td>\n",
       "      <td>...</td>\n",
       "      <td>...</td>\n",
       "      <td>...</td>\n",
       "      <td>...</td>\n",
       "      <td>...</td>\n",
       "      <td>...</td>\n",
       "      <td>...</td>\n",
       "      <td>...</td>\n",
       "      <td>...</td>\n",
       "    </tr>\n",
       "    <tr>\n",
       "      <th>53935</th>\n",
       "      <td>1.44</td>\n",
       "      <td>IdealIdeal</td>\n",
       "      <td>DD</td>\n",
       "      <td>SI1SI1</td>\n",
       "      <td>121.6</td>\n",
       "      <td>114.0</td>\n",
       "      <td>5514</td>\n",
       "      <td>11.50</td>\n",
       "      <td>11.52</td>\n",
       "      <td>7.00</td>\n",
       "    </tr>\n",
       "    <tr>\n",
       "      <th>53936</th>\n",
       "      <td>1.44</td>\n",
       "      <td>GoodGood</td>\n",
       "      <td>DD</td>\n",
       "      <td>SI1SI1</td>\n",
       "      <td>126.2</td>\n",
       "      <td>110.0</td>\n",
       "      <td>5514</td>\n",
       "      <td>11.38</td>\n",
       "      <td>11.50</td>\n",
       "      <td>7.22</td>\n",
       "    </tr>\n",
       "    <tr>\n",
       "      <th>53937</th>\n",
       "      <td>1.40</td>\n",
       "      <td>Very GoodVery Good</td>\n",
       "      <td>DD</td>\n",
       "      <td>SI1SI1</td>\n",
       "      <td>125.6</td>\n",
       "      <td>120.0</td>\n",
       "      <td>5514</td>\n",
       "      <td>11.32</td>\n",
       "      <td>11.36</td>\n",
       "      <td>7.12</td>\n",
       "    </tr>\n",
       "    <tr>\n",
       "      <th>53938</th>\n",
       "      <td>1.72</td>\n",
       "      <td>PremiumPremium</td>\n",
       "      <td>HH</td>\n",
       "      <td>SI2SI2</td>\n",
       "      <td>122.0</td>\n",
       "      <td>116.0</td>\n",
       "      <td>5514</td>\n",
       "      <td>12.30</td>\n",
       "      <td>12.24</td>\n",
       "      <td>7.48</td>\n",
       "    </tr>\n",
       "    <tr>\n",
       "      <th>53939</th>\n",
       "      <td>1.50</td>\n",
       "      <td>IdealIdeal</td>\n",
       "      <td>DD</td>\n",
       "      <td>SI2SI2</td>\n",
       "      <td>124.4</td>\n",
       "      <td>110.0</td>\n",
       "      <td>5514</td>\n",
       "      <td>11.66</td>\n",
       "      <td>11.74</td>\n",
       "      <td>7.28</td>\n",
       "    </tr>\n",
       "  </tbody>\n",
       "</table>\n",
       "<p>53940 rows × 10 columns</p>\n",
       "</div>"
      ],
      "text/plain": [
       "       carat         diamond cut color clarity  depth  table  price      x  \\\n",
       "0       0.46          IdealIdeal    EE  SI2SI2  123.0  110.0    652   7.90   \n",
       "1       0.42      PremiumPremium    EE  SI1SI1  119.6  122.0    652   7.78   \n",
       "2       0.46            GoodGood    EE  VS1VS1  113.8  130.0    654   8.10   \n",
       "3       0.58      PremiumPremium    II  VS2VS2  124.8  116.0    668   8.40   \n",
       "4       0.62            GoodGood    JJ  SI2SI2  126.6  116.0    670   8.68   \n",
       "...      ...                 ...   ...     ...    ...    ...    ...    ...   \n",
       "53935   1.44          IdealIdeal    DD  SI1SI1  121.6  114.0   5514  11.50   \n",
       "53936   1.44            GoodGood    DD  SI1SI1  126.2  110.0   5514  11.38   \n",
       "53937   1.40  Very GoodVery Good    DD  SI1SI1  125.6  120.0   5514  11.32   \n",
       "53938   1.72      PremiumPremium    HH  SI2SI2  122.0  116.0   5514  12.30   \n",
       "53939   1.50          IdealIdeal    DD  SI2SI2  124.4  110.0   5514  11.66   \n",
       "\n",
       "           y     z  \n",
       "0       7.96  4.86  \n",
       "1       7.68  4.62  \n",
       "2       8.14  4.62  \n",
       "3       8.46  5.26  \n",
       "4       8.70  5.50  \n",
       "...      ...   ...  \n",
       "53935  11.52  7.00  \n",
       "53936  11.50  7.22  \n",
       "53937  11.36  7.12  \n",
       "53938  12.24  7.48  \n",
       "53939  11.74  7.28  \n",
       "\n",
       "[53940 rows x 10 columns]"
      ]
     },
     "execution_count": 15,
     "metadata": {},
     "output_type": "execute_result"
    }
   ],
   "source": [
    "### WHAT happens if we multiple a df by 2?\n",
    "df * 2"
   ]
  },
  {
   "cell_type": "code",
   "execution_count": 17,
   "metadata": {
    "colab": {
     "base_uri": "https://localhost:8080/"
    },
    "id": "Ng3_xkGbKpER",
    "outputId": "212178a7-79e2-4729-b7be-c167439bf3bd"
   },
   "outputs": [
    {
     "data": {
      "text/plain": [
       "0        0.897\n",
       "1        0.819\n",
       "2        0.897\n",
       "3        1.131\n",
       "4        1.209\n",
       "         ...  \n",
       "53935    2.808\n",
       "53936    2.808\n",
       "53937    2.730\n",
       "53938    3.354\n",
       "53939    2.925\n",
       "Name: carat, Length: 53940, dtype: float64"
      ]
     },
     "execution_count": 17,
     "metadata": {},
     "output_type": "execute_result"
    }
   ],
   "source": [
    "## multiply by a float\n",
    "df.carat * 3.9"
   ]
  },
  {
   "cell_type": "code",
   "execution_count": 21,
   "metadata": {
    "colab": {
     "base_uri": "https://localhost:8080/",
     "height": 443
    },
    "id": "tVKzqItzeiec",
    "outputId": "1a209603-d494-445c-a3da-de022e710953"
   },
   "outputs": [
    {
     "ename": "TypeError",
     "evalue": "can't multiply sequence by non-int of type 'float'",
     "output_type": "error",
     "traceback": [
      "\u001b[0;31m---------------------------------------------------------------------------\u001b[0m",
      "\u001b[0;31mTypeError\u001b[0m                                 Traceback (most recent call last)",
      "File \u001b[0;32m/opt/anaconda3/lib/python3.12/site-packages/pandas/core/ops/array_ops.py:218\u001b[0m, in \u001b[0;36m_na_arithmetic_op\u001b[0;34m(left, right, op, is_cmp)\u001b[0m\n\u001b[1;32m    217\u001b[0m \u001b[38;5;28;01mtry\u001b[39;00m:\n\u001b[0;32m--> 218\u001b[0m     result \u001b[38;5;241m=\u001b[39m func(left, right)\n\u001b[1;32m    219\u001b[0m \u001b[38;5;28;01mexcept\u001b[39;00m \u001b[38;5;167;01mTypeError\u001b[39;00m:\n",
      "File \u001b[0;32m/opt/anaconda3/lib/python3.12/site-packages/pandas/core/computation/expressions.py:242\u001b[0m, in \u001b[0;36mevaluate\u001b[0;34m(op, a, b, use_numexpr)\u001b[0m\n\u001b[1;32m    240\u001b[0m     \u001b[38;5;28;01mif\u001b[39;00m use_numexpr:\n\u001b[1;32m    241\u001b[0m         \u001b[38;5;66;03m# error: \"None\" not callable\u001b[39;00m\n\u001b[0;32m--> 242\u001b[0m         \u001b[38;5;28;01mreturn\u001b[39;00m _evaluate(op, op_str, a, b)  \u001b[38;5;66;03m# type: ignore[misc]\u001b[39;00m\n\u001b[1;32m    243\u001b[0m \u001b[38;5;28;01mreturn\u001b[39;00m _evaluate_standard(op, op_str, a, b)\n",
      "File \u001b[0;32m/opt/anaconda3/lib/python3.12/site-packages/pandas/core/computation/expressions.py:131\u001b[0m, in \u001b[0;36m_evaluate_numexpr\u001b[0;34m(op, op_str, a, b)\u001b[0m\n\u001b[1;32m    130\u001b[0m \u001b[38;5;28;01mif\u001b[39;00m result \u001b[38;5;129;01mis\u001b[39;00m \u001b[38;5;28;01mNone\u001b[39;00m:\n\u001b[0;32m--> 131\u001b[0m     result \u001b[38;5;241m=\u001b[39m _evaluate_standard(op, op_str, a, b)\n\u001b[1;32m    133\u001b[0m \u001b[38;5;28;01mreturn\u001b[39;00m result\n",
      "File \u001b[0;32m/opt/anaconda3/lib/python3.12/site-packages/pandas/core/computation/expressions.py:73\u001b[0m, in \u001b[0;36m_evaluate_standard\u001b[0;34m(op, op_str, a, b)\u001b[0m\n\u001b[1;32m     72\u001b[0m     _store_test_result(\u001b[38;5;28;01mFalse\u001b[39;00m)\n\u001b[0;32m---> 73\u001b[0m \u001b[38;5;28;01mreturn\u001b[39;00m op(a, b)\n",
      "\u001b[0;31mTypeError\u001b[0m: can't multiply sequence by non-int of type 'float'",
      "\nDuring handling of the above exception, another exception occurred:\n",
      "\u001b[0;31mTypeError\u001b[0m                                 Traceback (most recent call last)",
      "Cell \u001b[0;32mIn[21], line 3\u001b[0m\n\u001b[1;32m      1\u001b[0m \u001b[38;5;66;03m## multiple your df by the same float\u001b[39;00m\n\u001b[1;32m      2\u001b[0m \u001b[38;5;66;03m## this will break\u001b[39;00m\n\u001b[0;32m----> 3\u001b[0m df \u001b[38;5;241m*\u001b[39m \u001b[38;5;241m3.9\u001b[39m\n",
      "File \u001b[0;32m/opt/anaconda3/lib/python3.12/site-packages/pandas/core/ops/common.py:76\u001b[0m, in \u001b[0;36m_unpack_zerodim_and_defer.<locals>.new_method\u001b[0;34m(self, other)\u001b[0m\n\u001b[1;32m     72\u001b[0m             \u001b[38;5;28;01mreturn\u001b[39;00m \u001b[38;5;28mNotImplemented\u001b[39m\n\u001b[1;32m     74\u001b[0m other \u001b[38;5;241m=\u001b[39m item_from_zerodim(other)\n\u001b[0;32m---> 76\u001b[0m \u001b[38;5;28;01mreturn\u001b[39;00m method(\u001b[38;5;28mself\u001b[39m, other)\n",
      "File \u001b[0;32m/opt/anaconda3/lib/python3.12/site-packages/pandas/core/arraylike.py:202\u001b[0m, in \u001b[0;36mOpsMixin.__mul__\u001b[0;34m(self, other)\u001b[0m\n\u001b[1;32m    200\u001b[0m \u001b[38;5;129m@unpack_zerodim_and_defer\u001b[39m(\u001b[38;5;124m\"\u001b[39m\u001b[38;5;124m__mul__\u001b[39m\u001b[38;5;124m\"\u001b[39m)\n\u001b[1;32m    201\u001b[0m \u001b[38;5;28;01mdef\u001b[39;00m \u001b[38;5;21m__mul__\u001b[39m(\u001b[38;5;28mself\u001b[39m, other):\n\u001b[0;32m--> 202\u001b[0m     \u001b[38;5;28;01mreturn\u001b[39;00m \u001b[38;5;28mself\u001b[39m\u001b[38;5;241m.\u001b[39m_arith_method(other, operator\u001b[38;5;241m.\u001b[39mmul)\n",
      "File \u001b[0;32m/opt/anaconda3/lib/python3.12/site-packages/pandas/core/frame.py:7913\u001b[0m, in \u001b[0;36mDataFrame._arith_method\u001b[0;34m(self, other, op)\u001b[0m\n\u001b[1;32m   7910\u001b[0m \u001b[38;5;28mself\u001b[39m, other \u001b[38;5;241m=\u001b[39m \u001b[38;5;28mself\u001b[39m\u001b[38;5;241m.\u001b[39m_align_for_op(other, axis, flex\u001b[38;5;241m=\u001b[39m\u001b[38;5;28;01mTrue\u001b[39;00m, level\u001b[38;5;241m=\u001b[39m\u001b[38;5;28;01mNone\u001b[39;00m)\n\u001b[1;32m   7912\u001b[0m \u001b[38;5;28;01mwith\u001b[39;00m np\u001b[38;5;241m.\u001b[39merrstate(\u001b[38;5;28mall\u001b[39m\u001b[38;5;241m=\u001b[39m\u001b[38;5;124m\"\u001b[39m\u001b[38;5;124mignore\u001b[39m\u001b[38;5;124m\"\u001b[39m):\n\u001b[0;32m-> 7913\u001b[0m     new_data \u001b[38;5;241m=\u001b[39m \u001b[38;5;28mself\u001b[39m\u001b[38;5;241m.\u001b[39m_dispatch_frame_op(other, op, axis\u001b[38;5;241m=\u001b[39maxis)\n\u001b[1;32m   7914\u001b[0m \u001b[38;5;28;01mreturn\u001b[39;00m \u001b[38;5;28mself\u001b[39m\u001b[38;5;241m.\u001b[39m_construct_result(new_data)\n",
      "File \u001b[0;32m/opt/anaconda3/lib/python3.12/site-packages/pandas/core/frame.py:7945\u001b[0m, in \u001b[0;36mDataFrame._dispatch_frame_op\u001b[0;34m(self, right, func, axis)\u001b[0m\n\u001b[1;32m   7942\u001b[0m right \u001b[38;5;241m=\u001b[39m lib\u001b[38;5;241m.\u001b[39mitem_from_zerodim(right)\n\u001b[1;32m   7943\u001b[0m \u001b[38;5;28;01mif\u001b[39;00m \u001b[38;5;129;01mnot\u001b[39;00m is_list_like(right):\n\u001b[1;32m   7944\u001b[0m     \u001b[38;5;66;03m# i.e. scalar, faster than checking np.ndim(right) == 0\u001b[39;00m\n\u001b[0;32m-> 7945\u001b[0m     bm \u001b[38;5;241m=\u001b[39m \u001b[38;5;28mself\u001b[39m\u001b[38;5;241m.\u001b[39m_mgr\u001b[38;5;241m.\u001b[39mapply(array_op, right\u001b[38;5;241m=\u001b[39mright)\n\u001b[1;32m   7946\u001b[0m     \u001b[38;5;28;01mreturn\u001b[39;00m \u001b[38;5;28mself\u001b[39m\u001b[38;5;241m.\u001b[39m_constructor_from_mgr(bm, axes\u001b[38;5;241m=\u001b[39mbm\u001b[38;5;241m.\u001b[39maxes)\n\u001b[1;32m   7948\u001b[0m \u001b[38;5;28;01melif\u001b[39;00m \u001b[38;5;28misinstance\u001b[39m(right, DataFrame):\n",
      "File \u001b[0;32m/opt/anaconda3/lib/python3.12/site-packages/pandas/core/internals/managers.py:361\u001b[0m, in \u001b[0;36mBaseBlockManager.apply\u001b[0;34m(self, f, align_keys, **kwargs)\u001b[0m\n\u001b[1;32m    358\u001b[0m             kwargs[k] \u001b[38;5;241m=\u001b[39m obj[b\u001b[38;5;241m.\u001b[39mmgr_locs\u001b[38;5;241m.\u001b[39mindexer]\n\u001b[1;32m    360\u001b[0m \u001b[38;5;28;01mif\u001b[39;00m \u001b[38;5;28mcallable\u001b[39m(f):\n\u001b[0;32m--> 361\u001b[0m     applied \u001b[38;5;241m=\u001b[39m b\u001b[38;5;241m.\u001b[39mapply(f, \u001b[38;5;241m*\u001b[39m\u001b[38;5;241m*\u001b[39mkwargs)\n\u001b[1;32m    362\u001b[0m \u001b[38;5;28;01melse\u001b[39;00m:\n\u001b[1;32m    363\u001b[0m     applied \u001b[38;5;241m=\u001b[39m \u001b[38;5;28mgetattr\u001b[39m(b, f)(\u001b[38;5;241m*\u001b[39m\u001b[38;5;241m*\u001b[39mkwargs)\n",
      "File \u001b[0;32m/opt/anaconda3/lib/python3.12/site-packages/pandas/core/internals/blocks.py:393\u001b[0m, in \u001b[0;36mBlock.apply\u001b[0;34m(self, func, **kwargs)\u001b[0m\n\u001b[1;32m    387\u001b[0m \u001b[38;5;129m@final\u001b[39m\n\u001b[1;32m    388\u001b[0m \u001b[38;5;28;01mdef\u001b[39;00m \u001b[38;5;21mapply\u001b[39m(\u001b[38;5;28mself\u001b[39m, func, \u001b[38;5;241m*\u001b[39m\u001b[38;5;241m*\u001b[39mkwargs) \u001b[38;5;241m-\u001b[39m\u001b[38;5;241m>\u001b[39m \u001b[38;5;28mlist\u001b[39m[Block]:\n\u001b[1;32m    389\u001b[0m \u001b[38;5;250m    \u001b[39m\u001b[38;5;124;03m\"\"\"\u001b[39;00m\n\u001b[1;32m    390\u001b[0m \u001b[38;5;124;03m    apply the function to my values; return a block if we are not\u001b[39;00m\n\u001b[1;32m    391\u001b[0m \u001b[38;5;124;03m    one\u001b[39;00m\n\u001b[1;32m    392\u001b[0m \u001b[38;5;124;03m    \"\"\"\u001b[39;00m\n\u001b[0;32m--> 393\u001b[0m     result \u001b[38;5;241m=\u001b[39m func(\u001b[38;5;28mself\u001b[39m\u001b[38;5;241m.\u001b[39mvalues, \u001b[38;5;241m*\u001b[39m\u001b[38;5;241m*\u001b[39mkwargs)\n\u001b[1;32m    395\u001b[0m     result \u001b[38;5;241m=\u001b[39m maybe_coerce_values(result)\n\u001b[1;32m    396\u001b[0m     \u001b[38;5;28;01mreturn\u001b[39;00m \u001b[38;5;28mself\u001b[39m\u001b[38;5;241m.\u001b[39m_split_op_result(result)\n",
      "File \u001b[0;32m/opt/anaconda3/lib/python3.12/site-packages/pandas/core/ops/array_ops.py:283\u001b[0m, in \u001b[0;36marithmetic_op\u001b[0;34m(left, right, op)\u001b[0m\n\u001b[1;32m    279\u001b[0m     _bool_arith_check(op, left, right)  \u001b[38;5;66;03m# type: ignore[arg-type]\u001b[39;00m\n\u001b[1;32m    281\u001b[0m     \u001b[38;5;66;03m# error: Argument 1 to \"_na_arithmetic_op\" has incompatible type\u001b[39;00m\n\u001b[1;32m    282\u001b[0m     \u001b[38;5;66;03m# \"Union[ExtensionArray, ndarray[Any, Any]]\"; expected \"ndarray[Any, Any]\"\u001b[39;00m\n\u001b[0;32m--> 283\u001b[0m     res_values \u001b[38;5;241m=\u001b[39m _na_arithmetic_op(left, right, op)  \u001b[38;5;66;03m# type: ignore[arg-type]\u001b[39;00m\n\u001b[1;32m    285\u001b[0m \u001b[38;5;28;01mreturn\u001b[39;00m res_values\n",
      "File \u001b[0;32m/opt/anaconda3/lib/python3.12/site-packages/pandas/core/ops/array_ops.py:227\u001b[0m, in \u001b[0;36m_na_arithmetic_op\u001b[0;34m(left, right, op, is_cmp)\u001b[0m\n\u001b[1;32m    219\u001b[0m \u001b[38;5;28;01mexcept\u001b[39;00m \u001b[38;5;167;01mTypeError\u001b[39;00m:\n\u001b[1;32m    220\u001b[0m     \u001b[38;5;28;01mif\u001b[39;00m \u001b[38;5;129;01mnot\u001b[39;00m is_cmp \u001b[38;5;129;01mand\u001b[39;00m (\n\u001b[1;32m    221\u001b[0m         left\u001b[38;5;241m.\u001b[39mdtype \u001b[38;5;241m==\u001b[39m \u001b[38;5;28mobject\u001b[39m \u001b[38;5;129;01mor\u001b[39;00m \u001b[38;5;28mgetattr\u001b[39m(right, \u001b[38;5;124m\"\u001b[39m\u001b[38;5;124mdtype\u001b[39m\u001b[38;5;124m\"\u001b[39m, \u001b[38;5;28;01mNone\u001b[39;00m) \u001b[38;5;241m==\u001b[39m \u001b[38;5;28mobject\u001b[39m\n\u001b[1;32m    222\u001b[0m     ):\n\u001b[0;32m   (...)\u001b[0m\n\u001b[1;32m    225\u001b[0m         \u001b[38;5;66;03m# Don't do this for comparisons, as that will handle complex numbers\u001b[39;00m\n\u001b[1;32m    226\u001b[0m         \u001b[38;5;66;03m#  incorrectly, see GH#32047\u001b[39;00m\n\u001b[0;32m--> 227\u001b[0m         result \u001b[38;5;241m=\u001b[39m _masked_arith_op(left, right, op)\n\u001b[1;32m    228\u001b[0m     \u001b[38;5;28;01melse\u001b[39;00m:\n\u001b[1;32m    229\u001b[0m         \u001b[38;5;28;01mraise\u001b[39;00m\n",
      "File \u001b[0;32m/opt/anaconda3/lib/python3.12/site-packages/pandas/core/ops/array_ops.py:182\u001b[0m, in \u001b[0;36m_masked_arith_op\u001b[0;34m(x, y, op)\u001b[0m\n\u001b[1;32m    179\u001b[0m         mask \u001b[38;5;241m=\u001b[39m np\u001b[38;5;241m.\u001b[39mwhere(y \u001b[38;5;241m==\u001b[39m \u001b[38;5;241m1\u001b[39m, \u001b[38;5;28;01mFalse\u001b[39;00m, mask)\n\u001b[1;32m    181\u001b[0m     \u001b[38;5;28;01mif\u001b[39;00m mask\u001b[38;5;241m.\u001b[39many():\n\u001b[0;32m--> 182\u001b[0m         result[mask] \u001b[38;5;241m=\u001b[39m op(xrav[mask], y)\n\u001b[1;32m    184\u001b[0m np\u001b[38;5;241m.\u001b[39mputmask(result, \u001b[38;5;241m~\u001b[39mmask, np\u001b[38;5;241m.\u001b[39mnan)\n\u001b[1;32m    185\u001b[0m result \u001b[38;5;241m=\u001b[39m result\u001b[38;5;241m.\u001b[39mreshape(x\u001b[38;5;241m.\u001b[39mshape)  \u001b[38;5;66;03m# 2D compat\u001b[39;00m\n",
      "\u001b[0;31mTypeError\u001b[0m: can't multiply sequence by non-int of type 'float'"
     ]
    }
   ],
   "source": [
    "## multiple your df by the same float\n",
    "## this will break\n",
    "df * 3.9"
   ]
  },
  {
   "cell_type": "markdown",
   "metadata": {
    "id": "0Yp1KzLSeiec",
    "outputId": "89932199-db1f-4ebf-db3c-3b3b3d700253"
   },
   "source": [
    "### Why is ```dot notation``` not the preferred method?"
   ]
  },
  {
   "cell_type": "code",
   "execution_count": 23,
   "metadata": {
    "colab": {
     "base_uri": "https://localhost:8080/",
     "height": 206
    },
    "id": "eBN8c-n6GddP",
    "outputId": "c7461032-c9da-4510-8ec3-a356840e0512"
   },
   "outputs": [
    {
     "data": {
      "text/html": [
       "<div>\n",
       "<style scoped>\n",
       "    .dataframe tbody tr th:only-of-type {\n",
       "        vertical-align: middle;\n",
       "    }\n",
       "\n",
       "    .dataframe tbody tr th {\n",
       "        vertical-align: top;\n",
       "    }\n",
       "\n",
       "    .dataframe thead th {\n",
       "        text-align: right;\n",
       "    }\n",
       "</style>\n",
       "<table border=\"1\" class=\"dataframe\">\n",
       "  <thead>\n",
       "    <tr style=\"text-align: right;\">\n",
       "      <th></th>\n",
       "      <th>carat</th>\n",
       "      <th>diamond cut</th>\n",
       "      <th>color</th>\n",
       "      <th>clarity</th>\n",
       "      <th>depth</th>\n",
       "      <th>table</th>\n",
       "      <th>price</th>\n",
       "      <th>x</th>\n",
       "      <th>y</th>\n",
       "      <th>z</th>\n",
       "    </tr>\n",
       "  </thead>\n",
       "  <tbody>\n",
       "    <tr>\n",
       "      <th>0</th>\n",
       "      <td>0.23</td>\n",
       "      <td>Ideal</td>\n",
       "      <td>E</td>\n",
       "      <td>SI2</td>\n",
       "      <td>61.5</td>\n",
       "      <td>55.0</td>\n",
       "      <td>326</td>\n",
       "      <td>3.95</td>\n",
       "      <td>3.98</td>\n",
       "      <td>2.43</td>\n",
       "    </tr>\n",
       "    <tr>\n",
       "      <th>1</th>\n",
       "      <td>0.21</td>\n",
       "      <td>Premium</td>\n",
       "      <td>E</td>\n",
       "      <td>SI1</td>\n",
       "      <td>59.8</td>\n",
       "      <td>61.0</td>\n",
       "      <td>326</td>\n",
       "      <td>3.89</td>\n",
       "      <td>3.84</td>\n",
       "      <td>2.31</td>\n",
       "    </tr>\n",
       "    <tr>\n",
       "      <th>2</th>\n",
       "      <td>0.23</td>\n",
       "      <td>Good</td>\n",
       "      <td>E</td>\n",
       "      <td>VS1</td>\n",
       "      <td>56.9</td>\n",
       "      <td>65.0</td>\n",
       "      <td>327</td>\n",
       "      <td>4.05</td>\n",
       "      <td>4.07</td>\n",
       "      <td>2.31</td>\n",
       "    </tr>\n",
       "    <tr>\n",
       "      <th>3</th>\n",
       "      <td>0.29</td>\n",
       "      <td>Premium</td>\n",
       "      <td>I</td>\n",
       "      <td>VS2</td>\n",
       "      <td>62.4</td>\n",
       "      <td>58.0</td>\n",
       "      <td>334</td>\n",
       "      <td>4.20</td>\n",
       "      <td>4.23</td>\n",
       "      <td>2.63</td>\n",
       "    </tr>\n",
       "    <tr>\n",
       "      <th>4</th>\n",
       "      <td>0.31</td>\n",
       "      <td>Good</td>\n",
       "      <td>J</td>\n",
       "      <td>SI2</td>\n",
       "      <td>63.3</td>\n",
       "      <td>58.0</td>\n",
       "      <td>335</td>\n",
       "      <td>4.34</td>\n",
       "      <td>4.35</td>\n",
       "      <td>2.75</td>\n",
       "    </tr>\n",
       "  </tbody>\n",
       "</table>\n",
       "</div>"
      ],
      "text/plain": [
       "   carat diamond cut color clarity  depth  table  price     x     y     z\n",
       "0   0.23       Ideal     E     SI2   61.5   55.0    326  3.95  3.98  2.43\n",
       "1   0.21     Premium     E     SI1   59.8   61.0    326  3.89  3.84  2.31\n",
       "2   0.23        Good     E     VS1   56.9   65.0    327  4.05  4.07  2.31\n",
       "3   0.29     Premium     I     VS2   62.4   58.0    334  4.20  4.23  2.63\n",
       "4   0.31        Good     J     SI2   63.3   58.0    335  4.34  4.35  2.75"
      ]
     },
     "execution_count": 23,
     "metadata": {},
     "output_type": "execute_result"
    }
   ],
   "source": [
    "## call the head\n",
    "df.head()"
   ]
  },
  {
   "cell_type": "code",
   "execution_count": 25,
   "metadata": {
    "colab": {
     "base_uri": "https://localhost:8080/",
     "height": 106
    },
    "id": "idPWHb_teiec",
    "outputId": "f89dfaaf-9a69-48c4-d538-e3d186a9c21c"
   },
   "outputs": [
    {
     "ename": "SyntaxError",
     "evalue": "invalid syntax (4093398248.py, line 3)",
     "output_type": "error",
     "traceback": [
      "\u001b[0;36m  Cell \u001b[0;32mIn[25], line 3\u001b[0;36m\u001b[0m\n\u001b[0;31m    df.diamond cut\u001b[0m\n\u001b[0m               ^\u001b[0m\n\u001b[0;31mSyntaxError\u001b[0m\u001b[0;31m:\u001b[0m invalid syntax\n"
     ]
    }
   ],
   "source": [
    "## call diamond cut series\n",
    "## will break\n",
    "df.diamond cut"
   ]
  },
  {
   "cell_type": "markdown",
   "metadata": {
    "id": "_Ic1x_4yGddP"
   },
   "source": [
    "### Using ```square brackets``` is the preferred method because it permits multi-word column names:\n",
    "\n",
    "```df[\"some column name\"]```"
   ]
  },
  {
   "cell_type": "code",
   "execution_count": 27,
   "metadata": {
    "colab": {
     "base_uri": "https://localhost:8080/"
    },
    "id": "lKrwR36mE3oa",
    "outputId": "fae9fb7f-e803-430c-fde5-55a0f1d80c0f"
   },
   "outputs": [
    {
     "data": {
      "text/plain": [
       "0            Ideal\n",
       "1          Premium\n",
       "2             Good\n",
       "3          Premium\n",
       "4             Good\n",
       "           ...    \n",
       "53935        Ideal\n",
       "53936         Good\n",
       "53937    Very Good\n",
       "53938      Premium\n",
       "53939        Ideal\n",
       "Name: diamond cut, Length: 53940, dtype: object"
      ]
     },
     "execution_count": 27,
     "metadata": {},
     "output_type": "execute_result"
    }
   ],
   "source": [
    "## CALL the diamond cut series\n",
    "df[\"diamond cut\"]"
   ]
  },
  {
   "cell_type": "code",
   "execution_count": 31,
   "metadata": {
    "colab": {
     "base_uri": "https://localhost:8080/"
    },
    "id": "z0op_jZqLRxj",
    "outputId": "62e8bc05-2cc4-4e99-c616-ad9aa171159d"
   },
   "outputs": [
    {
     "data": {
      "text/plain": [
       "0        0.23\n",
       "1        0.21\n",
       "2        0.23\n",
       "3        0.29\n",
       "4        0.31\n",
       "         ... \n",
       "53935    0.72\n",
       "53936    0.72\n",
       "53937    0.70\n",
       "53938    0.86\n",
       "53939    0.75\n",
       "Name: carat, Length: 53940, dtype: float64"
      ]
     },
     "execution_count": 31,
     "metadata": {},
     "output_type": "execute_result"
    }
   ],
   "source": [
    "## single named cols\n",
    "df[\"carat\"]"
   ]
  },
  {
   "cell_type": "markdown",
   "metadata": {},
   "source": [
    "#### Does ```df[\"carat\"]``` remind you of?"
   ]
  },
  {
   "cell_type": "code",
   "execution_count": null,
   "metadata": {},
   "outputs": [],
   "source": [
    "## Here are the first 5 rows of the df as a list of dictionaries\n",
    "diamonds_list_of_dicts = [\n",
    "    {'carat': 0.23, 'diamond cut': 'Ideal', 'color': 'E', 'clarity': 'SI2', 'depth': 61.5, 'table': 55.0, 'price': 326, 'x': 3.95, 'y': 3.98, 'z': 2.43},\n",
    "    {'carat': 0.21, 'diamond cut': 'Premium', 'color': 'E', 'clarity': 'SI1', 'depth': 59.8, 'table': 61.0, 'price': 326, 'x': 3.89, 'y': 3.84, 'z': 2.31},\n",
    "    {'carat': 0.23, 'diamond cut': 'Good', 'color': 'E', 'clarity': 'VS1', 'depth': 56.9, 'table': 65.0, 'price': 327, 'x': 4.05, 'y': 4.07, 'z': 2.31},\n",
    "    {'carat': 0.29, 'diamond cut': 'Premium', 'color': 'I', 'clarity': 'VS2', 'depth': 62.4, 'table': 58.0, 'price': 334, 'x': 4.2, 'y': 4.23, 'z': 2.63},\n",
    "    {'carat': 0.31, 'diamond cut': 'Good', 'color': 'J', 'clarity': 'SI2', 'depth': 63.3, 'table': 58.0, 'price': 335, 'x': 4.34, 'y': 4.35, 'z': 2.75}]"
   ]
  },
  {
   "cell_type": "code",
   "execution_count": 37,
   "metadata": {},
   "outputs": [
    {
     "data": {
      "text/plain": [
       "{'carat': [0.23, 0.21, 0.23, 0.29, 0.31],\n",
       " 'diamond cut': ['Ideal', 'Premium', 'Good', 'Premium', 'Good'],\n",
       " 'color': ['E', 'E', 'E', 'I', 'J'],\n",
       " 'clarity': ['SI2', 'SI1', 'VS1', 'VS2', 'SI2'],\n",
       " 'depth': [61.5, 59.8, 56.9, 62.4, 63.3],\n",
       " 'table': [55.0, 61.0, 65.0, 58.0, 58.0],\n",
       " 'price': [326, 326, 327, 334, 335],\n",
       " 'x': [3.95, 3.89, 4.05, 4.2, 4.34],\n",
       " 'y': [3.98, 3.84, 4.07, 4.23, 4.35],\n",
       " 'z': [2.43, 2.31, 2.31, 2.63, 2.75]}"
      ]
     },
     "execution_count": 37,
     "metadata": {},
     "output_type": "execute_result"
    }
   ],
   "source": [
    "# Now, here's the first 5 rows of the df as a dictionary that holds lists\n",
    "\n",
    "diamonds_dict =\\\n",
    "{'carat': [0.23, 0.21, 0.23, 0.29, 0.31],\n",
    " 'diamond cut': ['Ideal', 'Premium', 'Good', 'Premium', 'Good'],\n",
    " 'color': ['E', 'E', 'E', 'I', 'J'],\n",
    " 'clarity': ['SI2', 'SI1', 'VS1', 'VS2', 'SI2'],\n",
    " 'depth': [61.5, 59.8, 56.9, 62.4, 63.3],\n",
    " 'table': [55.0, 61.0, 65.0, 58.0, 58.0],\n",
    " 'price': [326, 326, 327, 334, 335],\n",
    " 'x': [3.95, 3.89, 4.05, 4.2, 4.34],\n",
    " 'y': [3.98, 3.84, 4.07, 4.23, 4.35],\n",
    " 'z': [2.43, 2.31, 2.31, 2.63, 2.75]}\n",
    "\n",
    "diamonds_dict"
   ]
  },
  {
   "cell_type": "code",
   "execution_count": 41,
   "metadata": {},
   "outputs": [
    {
     "data": {
      "text/plain": [
       "[0.23, 0.21, 0.23, 0.29, 0.31]"
      ]
     },
     "execution_count": 41,
     "metadata": {},
     "output_type": "execute_result"
    }
   ],
   "source": [
    "diamonds_dict[\"carat\"]"
   ]
  },
  {
   "cell_type": "code",
   "execution_count": 45,
   "metadata": {},
   "outputs": [
    {
     "data": {
      "text/plain": [
       "list"
      ]
     },
     "execution_count": 45,
     "metadata": {},
     "output_type": "execute_result"
    }
   ],
   "source": [
    "type(diamonds_dict[\"carat\"])"
   ]
  },
  {
   "cell_type": "code",
   "execution_count": 43,
   "metadata": {
    "collapsed": true,
    "jupyter": {
     "outputs_hidden": true
    },
    "scrolled": true
   },
   "outputs": [
    {
     "data": {
      "text/plain": [
       "0        0.23\n",
       "1        0.21\n",
       "2        0.23\n",
       "3        0.29\n",
       "4        0.31\n",
       "         ... \n",
       "53935    0.72\n",
       "53936    0.72\n",
       "53937    0.70\n",
       "53938    0.86\n",
       "53939    0.75\n",
       "Name: carat, Length: 53940, dtype: float64"
      ]
     },
     "execution_count": 43,
     "metadata": {},
     "output_type": "execute_result"
    }
   ],
   "source": [
    "df[\"carat\"]"
   ]
  },
  {
   "cell_type": "code",
   "execution_count": 47,
   "metadata": {},
   "outputs": [
    {
     "data": {
      "text/plain": [
       "pandas.core.series.Series"
      ]
     },
     "execution_count": 47,
     "metadata": {},
     "output_type": "execute_result"
    }
   ],
   "source": [
    "type(df[\"carat\"])"
   ]
  },
  {
   "cell_type": "code",
   "execution_count": 39,
   "metadata": {},
   "outputs": [
    {
     "data": {
      "text/html": [
       "<div>\n",
       "<style scoped>\n",
       "    .dataframe tbody tr th:only-of-type {\n",
       "        vertical-align: middle;\n",
       "    }\n",
       "\n",
       "    .dataframe tbody tr th {\n",
       "        vertical-align: top;\n",
       "    }\n",
       "\n",
       "    .dataframe thead th {\n",
       "        text-align: right;\n",
       "    }\n",
       "</style>\n",
       "<table border=\"1\" class=\"dataframe\">\n",
       "  <thead>\n",
       "    <tr style=\"text-align: right;\">\n",
       "      <th></th>\n",
       "      <th>carat</th>\n",
       "      <th>diamond cut</th>\n",
       "      <th>color</th>\n",
       "      <th>clarity</th>\n",
       "      <th>depth</th>\n",
       "      <th>table</th>\n",
       "      <th>price</th>\n",
       "      <th>x</th>\n",
       "      <th>y</th>\n",
       "      <th>z</th>\n",
       "    </tr>\n",
       "  </thead>\n",
       "  <tbody>\n",
       "    <tr>\n",
       "      <th>0</th>\n",
       "      <td>0.23</td>\n",
       "      <td>Ideal</td>\n",
       "      <td>E</td>\n",
       "      <td>SI2</td>\n",
       "      <td>61.5</td>\n",
       "      <td>55.0</td>\n",
       "      <td>326</td>\n",
       "      <td>3.95</td>\n",
       "      <td>3.98</td>\n",
       "      <td>2.43</td>\n",
       "    </tr>\n",
       "    <tr>\n",
       "      <th>1</th>\n",
       "      <td>0.21</td>\n",
       "      <td>Premium</td>\n",
       "      <td>E</td>\n",
       "      <td>SI1</td>\n",
       "      <td>59.8</td>\n",
       "      <td>61.0</td>\n",
       "      <td>326</td>\n",
       "      <td>3.89</td>\n",
       "      <td>3.84</td>\n",
       "      <td>2.31</td>\n",
       "    </tr>\n",
       "    <tr>\n",
       "      <th>2</th>\n",
       "      <td>0.23</td>\n",
       "      <td>Good</td>\n",
       "      <td>E</td>\n",
       "      <td>VS1</td>\n",
       "      <td>56.9</td>\n",
       "      <td>65.0</td>\n",
       "      <td>327</td>\n",
       "      <td>4.05</td>\n",
       "      <td>4.07</td>\n",
       "      <td>2.31</td>\n",
       "    </tr>\n",
       "    <tr>\n",
       "      <th>3</th>\n",
       "      <td>0.29</td>\n",
       "      <td>Premium</td>\n",
       "      <td>I</td>\n",
       "      <td>VS2</td>\n",
       "      <td>62.4</td>\n",
       "      <td>58.0</td>\n",
       "      <td>334</td>\n",
       "      <td>4.20</td>\n",
       "      <td>4.23</td>\n",
       "      <td>2.63</td>\n",
       "    </tr>\n",
       "    <tr>\n",
       "      <th>4</th>\n",
       "      <td>0.31</td>\n",
       "      <td>Good</td>\n",
       "      <td>J</td>\n",
       "      <td>SI2</td>\n",
       "      <td>63.3</td>\n",
       "      <td>58.0</td>\n",
       "      <td>335</td>\n",
       "      <td>4.34</td>\n",
       "      <td>4.35</td>\n",
       "      <td>2.75</td>\n",
       "    </tr>\n",
       "  </tbody>\n",
       "</table>\n",
       "</div>"
      ],
      "text/plain": [
       "   carat diamond cut color clarity  depth  table  price     x     y     z\n",
       "0   0.23       Ideal     E     SI2   61.5   55.0    326  3.95  3.98  2.43\n",
       "1   0.21     Premium     E     SI1   59.8   61.0    326  3.89  3.84  2.31\n",
       "2   0.23        Good     E     VS1   56.9   65.0    327  4.05  4.07  2.31\n",
       "3   0.29     Premium     I     VS2   62.4   58.0    334  4.20  4.23  2.63\n",
       "4   0.31        Good     J     SI2   63.3   58.0    335  4.34  4.35  2.75"
      ]
     },
     "execution_count": 39,
     "metadata": {},
     "output_type": "execute_result"
    }
   ],
   "source": [
    "pd.DataFrame(diamonds_dict)"
   ]
  },
  {
   "cell_type": "code",
   "execution_count": null,
   "metadata": {},
   "outputs": [],
   "source": [
    "## call dictionary and its key carat\n"
   ]
  },
  {
   "cell_type": "code",
   "execution_count": null,
   "metadata": {},
   "outputs": [],
   "source": [
    "## call df carat as series using square bracket notation\n"
   ]
  },
  {
   "cell_type": "markdown",
   "metadata": {
    "id": "hJ3fosyheiec"
   },
   "source": [
    "### Why even call a series?\n",
    "\n",
    "There are many reasons that we will explore in this and subsequent courses, but here are a couple:\n",
    "\n"
   ]
  },
  {
   "cell_type": "code",
   "execution_count": 49,
   "metadata": {
    "colab": {
     "base_uri": "https://localhost:8080/"
    },
    "id": "JGAVR_eBeiec",
    "outputId": "b1030e3b-2874-404c-addd-04d74f937655"
   },
   "outputs": [
    {
     "data": {
      "text/plain": [
       "array(['Ideal', 'Premium', 'Good', 'Very Good', 'Fair'], dtype=object)"
      ]
     },
     "execution_count": 49,
     "metadata": {},
     "output_type": "execute_result"
    }
   ],
   "source": [
    "### What are the unique values of \"diamond cut\"?\n",
    "df[\"diamond cut\"].unique()"
   ]
  },
  {
   "cell_type": "code",
   "execution_count": 51,
   "metadata": {
    "colab": {
     "base_uri": "https://localhost:8080/"
    },
    "id": "B7khTi2beiec",
    "outputId": "5f3c10e5-465c-4497-bad7-58d455dfa9f9"
   },
   "outputs": [
    {
     "data": {
      "text/plain": [
       "5"
      ]
     },
     "execution_count": 51,
     "metadata": {},
     "output_type": "execute_result"
    }
   ],
   "source": [
    "## how many unique diamond cut values are there?\n",
    "df[\"diamond cut\"].nunique()"
   ]
  },
  {
   "cell_type": "code",
   "execution_count": 53,
   "metadata": {
    "colab": {
     "base_uri": "https://localhost:8080/"
    },
    "id": "KNX0hqXkeiec",
    "outputId": "6835371c-21dc-48c2-aba3-bd13ccf36858"
   },
   "outputs": [
    {
     "data": {
      "text/plain": [
       "273"
      ]
     },
     "execution_count": 53,
     "metadata": {},
     "output_type": "execute_result"
    }
   ],
   "source": [
    "## How many unique carat sizes are there?\n",
    "df[\"carat\"].nunique()"
   ]
  },
  {
   "cell_type": "markdown",
   "metadata": {
    "id": "POVUoVaxlzfU"
   },
   "source": [
    "### Tapping the power of ```Dataframes```\n",
    "\n",
    "We'll spend most our time analyzing ```dataframes``` in this course.\n",
    "\n"
   ]
  },
  {
   "cell_type": "markdown",
   "metadata": {
    "id": "THtF8MGR_4yr"
   },
   "source": [
    "# Slicing data in Pandas dataframes"
   ]
  },
  {
   "cell_type": "markdown",
   "metadata": {
    "id": "8QyzSpQea_qA"
   },
   "source": [
    "## ```.iloc```\n",
    "\n",
    "Access df data by integer-location based indexing for selection by position\n",
    "\n",
    "```df.iloc[start_index:end_index]``` returns a slice of the data based on positional values"
   ]
  },
  {
   "cell_type": "code",
   "execution_count": null,
   "metadata": {
    "colab": {
     "base_uri": "https://localhost:8080/",
     "height": 175
    },
    "id": "F2HnbUz79gn2",
    "outputId": "de8f9e44-78a8-4da1-8cc1-cc675a0c206e"
   },
   "outputs": [],
   "source": [
    "## return the first 4 items (not index position)\n"
   ]
  },
  {
   "cell_type": "code",
   "execution_count": null,
   "metadata": {
    "colab": {
     "base_uri": "https://localhost:8080/",
     "height": 175
    },
    "id": "-knx0v-TGddP",
    "outputId": "cf06e7a6-0204-4b90-bd8d-e905abdd6f70"
   },
   "outputs": [],
   "source": [
    "## slice df\n"
   ]
  },
  {
   "cell_type": "code",
   "execution_count": null,
   "metadata": {
    "colab": {
     "base_uri": "https://localhost:8080/"
    },
    "id": "c9kPd0HsbDAJ",
    "outputId": "a9e65dc8-12ea-42dc-8e67-0ce26f322686"
   },
   "outputs": [],
   "source": [
    "## return what's the 4th item as\n"
   ]
  },
  {
   "cell_type": "code",
   "execution_count": null,
   "metadata": {
    "colab": {
     "base_uri": "https://localhost:8080/",
     "height": 204
    },
    "id": "BSy_SMXFGddP",
    "outputId": "55da9156-5132-4ea6-f843-0d998f40fa66"
   },
   "outputs": [],
   "source": [
    "## what type is it?\n"
   ]
  },
  {
   "cell_type": "code",
   "execution_count": null,
   "metadata": {
    "colab": {
     "base_uri": "https://localhost:8080/",
     "height": 547
    },
    "id": "2BNj2fS5GddQ",
    "outputId": "61829e04-3fb6-4f3a-e4ca-7736bc9b8c9f"
   },
   "outputs": [],
   "source": [
    "## slicing a single item won't work\n"
   ]
  },
  {
   "cell_type": "markdown",
   "metadata": {
    "id": "ZHGTb3X5GddQ"
   },
   "source": [
    "### Double brackets returns a frame\n",
    "```df.iloc[[4]]```"
   ]
  },
  {
   "cell_type": "code",
   "execution_count": null,
   "metadata": {
    "colab": {
     "base_uri": "https://localhost:8080/",
     "height": 81
    },
    "id": "N2hL8-dx90Ws",
    "outputId": "934885f3-b789-4b79-fe0b-85858f27393a"
   },
   "outputs": [],
   "source": [
    "## return what's the 4th item as a dataframe\n",
    "## remember you have to call the index position\n"
   ]
  },
  {
   "cell_type": "code",
   "execution_count": null,
   "metadata": {
    "colab": {
     "base_uri": "https://localhost:8080/",
     "height": 204
    },
    "id": "9cUGsLUvNbuL",
    "outputId": "04028958-ed95-4b7f-b822-aa5dbfe9825f"
   },
   "outputs": [],
   "source": [
    "## type\n"
   ]
  },
  {
   "cell_type": "markdown",
   "metadata": {},
   "source": [
    "#### ```to_frame(\"Some Label\")``` also returns a dataframe with a custom label."
   ]
  },
  {
   "cell_type": "code",
   "execution_count": null,
   "metadata": {
    "colab": {
     "base_uri": "https://localhost:8080/",
     "height": 363
    },
    "id": "K7ZIaerDNjrU",
    "outputId": "3f05e46f-b9d5-4af4-ee6d-6c61844bd44d"
   },
   "outputs": [],
   "source": [
    "## use to_frame\n"
   ]
  },
  {
   "cell_type": "code",
   "execution_count": null,
   "metadata": {
    "colab": {
     "base_uri": "https://localhost:8080/",
     "height": 206
    },
    "id": "zVaHrOsqGddQ",
    "outputId": "38eefa3f-4bed-4599-fe77-36401336f695"
   },
   "outputs": [],
   "source": [
    "## slicing with double brackets also doesn't work\n"
   ]
  },
  {
   "cell_type": "markdown",
   "metadata": {
    "id": "aHb-Cyl2-xIP"
   },
   "source": [
    "## Store a value from my dataframe into a variable\n",
    "\n",
    "We use ```.iat``` to accomplish this:\n",
    "\n",
    "```df[\"column_name\"].iat[index_number]```"
   ]
  },
  {
   "cell_type": "code",
   "execution_count": 56,
   "metadata": {},
   "outputs": [
    {
     "data": {
      "text/html": [
       "<div>\n",
       "<style scoped>\n",
       "    .dataframe tbody tr th:only-of-type {\n",
       "        vertical-align: middle;\n",
       "    }\n",
       "\n",
       "    .dataframe tbody tr th {\n",
       "        vertical-align: top;\n",
       "    }\n",
       "\n",
       "    .dataframe thead th {\n",
       "        text-align: right;\n",
       "    }\n",
       "</style>\n",
       "<table border=\"1\" class=\"dataframe\">\n",
       "  <thead>\n",
       "    <tr style=\"text-align: right;\">\n",
       "      <th></th>\n",
       "      <th>carat</th>\n",
       "      <th>diamond cut</th>\n",
       "      <th>color</th>\n",
       "      <th>clarity</th>\n",
       "      <th>depth</th>\n",
       "      <th>table</th>\n",
       "      <th>price</th>\n",
       "      <th>x</th>\n",
       "      <th>y</th>\n",
       "      <th>z</th>\n",
       "    </tr>\n",
       "  </thead>\n",
       "  <tbody>\n",
       "    <tr>\n",
       "      <th>0</th>\n",
       "      <td>0.23</td>\n",
       "      <td>Ideal</td>\n",
       "      <td>E</td>\n",
       "      <td>SI2</td>\n",
       "      <td>61.5</td>\n",
       "      <td>55.0</td>\n",
       "      <td>326</td>\n",
       "      <td>3.95</td>\n",
       "      <td>3.98</td>\n",
       "      <td>2.43</td>\n",
       "    </tr>\n",
       "    <tr>\n",
       "      <th>1</th>\n",
       "      <td>0.21</td>\n",
       "      <td>Premium</td>\n",
       "      <td>E</td>\n",
       "      <td>SI1</td>\n",
       "      <td>59.8</td>\n",
       "      <td>61.0</td>\n",
       "      <td>326</td>\n",
       "      <td>3.89</td>\n",
       "      <td>3.84</td>\n",
       "      <td>2.31</td>\n",
       "    </tr>\n",
       "    <tr>\n",
       "      <th>2</th>\n",
       "      <td>0.23</td>\n",
       "      <td>Good</td>\n",
       "      <td>E</td>\n",
       "      <td>VS1</td>\n",
       "      <td>56.9</td>\n",
       "      <td>65.0</td>\n",
       "      <td>327</td>\n",
       "      <td>4.05</td>\n",
       "      <td>4.07</td>\n",
       "      <td>2.31</td>\n",
       "    </tr>\n",
       "    <tr>\n",
       "      <th>3</th>\n",
       "      <td>0.29</td>\n",
       "      <td>Premium</td>\n",
       "      <td>I</td>\n",
       "      <td>VS2</td>\n",
       "      <td>62.4</td>\n",
       "      <td>58.0</td>\n",
       "      <td>334</td>\n",
       "      <td>4.20</td>\n",
       "      <td>4.23</td>\n",
       "      <td>2.63</td>\n",
       "    </tr>\n",
       "    <tr>\n",
       "      <th>4</th>\n",
       "      <td>0.31</td>\n",
       "      <td>Good</td>\n",
       "      <td>J</td>\n",
       "      <td>SI2</td>\n",
       "      <td>63.3</td>\n",
       "      <td>58.0</td>\n",
       "      <td>335</td>\n",
       "      <td>4.34</td>\n",
       "      <td>4.35</td>\n",
       "      <td>2.75</td>\n",
       "    </tr>\n",
       "  </tbody>\n",
       "</table>\n",
       "</div>"
      ],
      "text/plain": [
       "   carat diamond cut color clarity  depth  table  price     x     y     z\n",
       "0   0.23       Ideal     E     SI2   61.5   55.0    326  3.95  3.98  2.43\n",
       "1   0.21     Premium     E     SI1   59.8   61.0    326  3.89  3.84  2.31\n",
       "2   0.23        Good     E     VS1   56.9   65.0    327  4.05  4.07  2.31\n",
       "3   0.29     Premium     I     VS2   62.4   58.0    334  4.20  4.23  2.63\n",
       "4   0.31        Good     J     SI2   63.3   58.0    335  4.34  4.35  2.75"
      ]
     },
     "execution_count": 56,
     "metadata": {},
     "output_type": "execute_result"
    }
   ],
   "source": [
    "df.head()"
   ]
  },
  {
   "cell_type": "code",
   "execution_count": 60,
   "metadata": {
    "colab": {
     "base_uri": "https://localhost:8080/"
    },
    "id": "en8aGUfdHJtU",
    "outputId": "56d25439-640f-40ec-d26b-eb2227be835c"
   },
   "outputs": [],
   "source": [
    "## capture the carat value in 4th item and store in a variable called target_carat\n",
    "target_value = df[\"carat\"].iat[3]"
   ]
  },
  {
   "cell_type": "code",
   "execution_count": 62,
   "metadata": {},
   "outputs": [
    {
     "data": {
      "text/plain": [
       "2.9"
      ]
     },
     "execution_count": 62,
     "metadata": {},
     "output_type": "execute_result"
    }
   ],
   "source": [
    "target_value * 10"
   ]
  },
  {
   "cell_type": "markdown",
   "metadata": {
    "id": "_PNuqWCbAH0o"
   },
   "source": [
    "## Congratulations!\n",
    "You just learned to:\n",
    "\n",
    "- differentiate between a Pandas series and dataframe;\n",
    "- slice a dataframe\n",
    "- store a particular value in a dataframe into a variable"
   ]
  }
 ],
 "metadata": {
  "celltoolbar": "Slideshow",
  "colab": {
   "provenance": []
  },
  "kernelspec": {
   "display_name": "Python [conda env:base] *",
   "language": "python",
   "name": "conda-base-py"
  },
  "language_info": {
   "codemirror_mode": {
    "name": "ipython",
    "version": 3
   },
   "file_extension": ".py",
   "mimetype": "text/x-python",
   "name": "python",
   "nbconvert_exporter": "python",
   "pygments_lexer": "ipython3",
   "version": "3.12.7"
  }
 },
 "nbformat": 4,
 "nbformat_minor": 4
}
