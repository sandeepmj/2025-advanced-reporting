{
 "cells": [
  {
   "cell_type": "markdown",
   "metadata": {
    "id": "EeUxEjdjxgs2"
   },
   "source": [
    "# Deploying Custom Python Functions in Pandas\n",
    "\n",
    "**Our real-world challenge:** We have several datasets (Census, SNAP, homeless shelters) that we need to merge together to glean insight. Our challenge is that the columns in common between all the datasets have slightly different data formatting. We have to standardize those values.\n",
    "\n",
    "We will have to:\n",
    "1. build a custom Python function, with conditional logic, to standardize our data,\n",
    "2. apply that function across multiple columns,\n",
    "3. merge our datasets "
   ]
  },
  {
   "cell_type": "code",
   "execution_count": 2,
   "metadata": {
    "id": "ahziNmLNu_Bz"
   },
   "outputs": [],
   "source": [
    "## import library\n",
    "import pandas as pd"
   ]
  },
  {
   "cell_type": "markdown",
   "metadata": {
    "id": "kN2Hjh2VzdHU"
   },
   "source": [
    "## Import relevant data"
   ]
  },
  {
   "cell_type": "code",
   "execution_count": 4,
   "metadata": {
    "colab": {
     "base_uri": "https://localhost:8080/",
     "height": 1000
    },
    "id": "vpoFHsoqvDLf",
    "outputId": "ec3b109f-f64c-421b-c7c2-512577b7248e"
   },
   "outputs": [
    {
     "data": {
      "text/html": [
       "<div>\n",
       "<style scoped>\n",
       "    .dataframe tbody tr th:only-of-type {\n",
       "        vertical-align: middle;\n",
       "    }\n",
       "\n",
       "    .dataframe tbody tr th {\n",
       "        vertical-align: top;\n",
       "    }\n",
       "\n",
       "    .dataframe thead th {\n",
       "        text-align: right;\n",
       "    }\n",
       "</style>\n",
       "<table border=\"1\" class=\"dataframe\">\n",
       "  <thead>\n",
       "    <tr style=\"text-align: right;\">\n",
       "      <th></th>\n",
       "      <th>Year</th>\n",
       "      <th>GeoType</th>\n",
       "      <th>Borough</th>\n",
       "      <th>Community District Number</th>\n",
       "      <th>Community District Name</th>\n",
       "      <th>Total Population</th>\n",
       "      <th>Average household size</th>\n",
       "      <th>Children</th>\n",
       "      <th>Latino</th>\n",
       "      <th>White non-Hispanic</th>\n",
       "      <th>Black non-Hispanic</th>\n",
       "      <th>Asian</th>\n",
       "      <th>Other race</th>\n",
       "      <th>Two or more races</th>\n",
       "      <th>Total housing units</th>\n",
       "      <th>Occupied housing units</th>\n",
       "      <th>Vacant housing units</th>\n",
       "    </tr>\n",
       "  </thead>\n",
       "  <tbody>\n",
       "    <tr>\n",
       "      <th>0</th>\n",
       "      <td>2020</td>\n",
       "      <td>CD</td>\n",
       "      <td>Queens</td>\n",
       "      <td>407</td>\n",
       "      <td>Queens Community District 7</td>\n",
       "      <td>269,587</td>\n",
       "      <td>2.75</td>\n",
       "      <td>45,543</td>\n",
       "      <td>48,845</td>\n",
       "      <td>55,882</td>\n",
       "      <td>5,412</td>\n",
       "      <td>154,404</td>\n",
       "      <td>1,575</td>\n",
       "      <td>3,469</td>\n",
       "      <td>102,836</td>\n",
       "      <td>97,059</td>\n",
       "      <td>5,777</td>\n",
       "    </tr>\n",
       "    <tr>\n",
       "      <th>1</th>\n",
       "      <td>2020</td>\n",
       "      <td>CD</td>\n",
       "      <td>Brooklyn</td>\n",
       "      <td>311</td>\n",
       "      <td>Brooklyn Community District 11</td>\n",
       "      <td>198,870</td>\n",
       "      <td>2.94</td>\n",
       "      <td>42,380</td>\n",
       "      <td>31,489</td>\n",
       "      <td>72,496</td>\n",
       "      <td>2,353</td>\n",
       "      <td>86,067</td>\n",
       "      <td>1,081</td>\n",
       "      <td>5,384</td>\n",
       "      <td>71,074</td>\n",
       "      <td>67,236</td>\n",
       "      <td>3,838</td>\n",
       "    </tr>\n",
       "    <tr>\n",
       "      <th>2</th>\n",
       "      <td>2020</td>\n",
       "      <td>CD</td>\n",
       "      <td>Queens</td>\n",
       "      <td>404</td>\n",
       "      <td>Queens Community District 4</td>\n",
       "      <td>181,025</td>\n",
       "      <td>3.24</td>\n",
       "      <td>38,213</td>\n",
       "      <td>93,972</td>\n",
       "      <td>9,329</td>\n",
       "      <td>7,679</td>\n",
       "      <td>65,963</td>\n",
       "      <td>1,692</td>\n",
       "      <td>2,390</td>\n",
       "      <td>57,748</td>\n",
       "      <td>55,202</td>\n",
       "      <td>2,546</td>\n",
       "    </tr>\n",
       "    <tr>\n",
       "      <th>3</th>\n",
       "      <td>2020</td>\n",
       "      <td>CD</td>\n",
       "      <td>Queens</td>\n",
       "      <td>408</td>\n",
       "      <td>Queens Community District 8</td>\n",
       "      <td>161,402</td>\n",
       "      <td>2.76</td>\n",
       "      <td>32,754</td>\n",
       "      <td>29,486</td>\n",
       "      <td>44,302</td>\n",
       "      <td>18,682</td>\n",
       "      <td>60,413</td>\n",
       "      <td>3,200</td>\n",
       "      <td>5,319</td>\n",
       "      <td>59,385</td>\n",
       "      <td>56,623</td>\n",
       "      <td>2,762</td>\n",
       "    </tr>\n",
       "    <tr>\n",
       "      <th>4</th>\n",
       "      <td>2020</td>\n",
       "      <td>CD</td>\n",
       "      <td>Queens</td>\n",
       "      <td>411</td>\n",
       "      <td>Queens Community District 11</td>\n",
       "      <td>122,211</td>\n",
       "      <td>2.69</td>\n",
       "      <td>21,612</td>\n",
       "      <td>14,460</td>\n",
       "      <td>41,967</td>\n",
       "      <td>2,641</td>\n",
       "      <td>59,980</td>\n",
       "      <td>779</td>\n",
       "      <td>2,384</td>\n",
       "      <td>47,357</td>\n",
       "      <td>45,204</td>\n",
       "      <td>2,153</td>\n",
       "    </tr>\n",
       "  </tbody>\n",
       "</table>\n",
       "</div>"
      ],
      "text/plain": [
       "   Year GeoType   Borough  Community District Number  \\\n",
       "0  2020      CD    Queens                        407   \n",
       "1  2020      CD  Brooklyn                        311   \n",
       "2  2020      CD    Queens                        404   \n",
       "3  2020      CD    Queens                        408   \n",
       "4  2020      CD    Queens                        411   \n",
       "\n",
       "          Community District Name Total Population  Average household size  \\\n",
       "0     Queens Community District 7          269,587                    2.75   \n",
       "1  Brooklyn Community District 11          198,870                    2.94   \n",
       "2     Queens Community District 4          181,025                    3.24   \n",
       "3     Queens Community District 8          161,402                    2.76   \n",
       "4    Queens Community District 11          122,211                    2.69   \n",
       "\n",
       "  Children  Latino White non-Hispanic Black non-Hispanic    Asian Other race  \\\n",
       "0   45,543  48,845             55,882              5,412  154,404      1,575   \n",
       "1   42,380  31,489             72,496              2,353   86,067      1,081   \n",
       "2   38,213  93,972              9,329              7,679   65,963      1,692   \n",
       "3   32,754  29,486             44,302             18,682   60,413      3,200   \n",
       "4   21,612  14,460             41,967              2,641   59,980        779   \n",
       "\n",
       "  Two or more races Total housing units Occupied housing units  \\\n",
       "0             3,469             102,836                 97,059   \n",
       "1             5,384              71,074                 67,236   \n",
       "2             2,390              57,748                 55,202   \n",
       "3             5,319              59,385                 56,623   \n",
       "4             2,384              47,357                 45,204   \n",
       "\n",
       "  Vacant housing units  \n",
       "0                5,777  \n",
       "1                3,838  \n",
       "2                2,546  \n",
       "3                2,762  \n",
       "4                2,153  "
      ]
     },
     "execution_count": 4,
     "metadata": {},
     "output_type": "execute_result"
    }
   ],
   "source": [
    "## import census data and get sample of 15\n",
    "dfcensus = pd.read_csv(\"https://raw.githubusercontent.com/sandeepmj/datasets/main/conditional-conversion/NYC_Census_2020_2010_geotype.csv\")\n",
    "dfcensus.head()"
   ]
  },
  {
   "cell_type": "code",
   "execution_count": 5,
   "metadata": {
    "colab": {
     "base_uri": "https://localhost:8080/"
    },
    "id": "Uegn5DZX2y0v",
    "outputId": "0cd178c2-8c75-45fe-f8c5-c084e29b2089"
   },
   "outputs": [
    {
     "name": "stdout",
     "output_type": "stream",
     "text": [
      "<class 'pandas.core.frame.DataFrame'>\n",
      "RangeIndex: 59 entries, 0 to 58\n",
      "Data columns (total 17 columns):\n",
      " #   Column                     Non-Null Count  Dtype  \n",
      "---  ------                     --------------  -----  \n",
      " 0   Year                       59 non-null     int64  \n",
      " 1   GeoType                    59 non-null     object \n",
      " 2   Borough                    59 non-null     object \n",
      " 3   Community District Number  59 non-null     int64  \n",
      " 4   Community District Name    59 non-null     object \n",
      " 5   Total Population           59 non-null     object \n",
      " 6   Average household size     59 non-null     float64\n",
      " 7   Children                   59 non-null     object \n",
      " 8   Latino                     59 non-null     object \n",
      " 9   White non-Hispanic         59 non-null     object \n",
      " 10  Black non-Hispanic         59 non-null     object \n",
      " 11  Asian                      59 non-null     object \n",
      " 12  Other race                 59 non-null     object \n",
      " 13  Two or more races          59 non-null     object \n",
      " 14  Total housing units        59 non-null     object \n",
      " 15  Occupied housing units     59 non-null     object \n",
      " 16  Vacant housing units       59 non-null     object \n",
      "dtypes: float64(1), int64(2), object(14)\n",
      "memory usage: 8.0+ KB\n"
     ]
    }
   ],
   "source": [
    "# get info\n",
    "dfcensus.info()"
   ]
  },
  {
   "cell_type": "code",
   "execution_count": 6,
   "metadata": {
    "colab": {
     "base_uri": "https://localhost:8080/",
     "height": 520
    },
    "id": "KX_kgd-hwtio",
    "outputId": "75235e7f-e253-4d66-af95-c38b3596731e"
   },
   "outputs": [
    {
     "data": {
      "text/html": [
       "<div>\n",
       "<style scoped>\n",
       "    .dataframe tbody tr th:only-of-type {\n",
       "        vertical-align: middle;\n",
       "    }\n",
       "\n",
       "    .dataframe tbody tr th {\n",
       "        vertical-align: top;\n",
       "    }\n",
       "\n",
       "    .dataframe thead th {\n",
       "        text-align: right;\n",
       "    }\n",
       "</style>\n",
       "<table border=\"1\" class=\"dataframe\">\n",
       "  <thead>\n",
       "    <tr style=\"text-align: right;\">\n",
       "      <th></th>\n",
       "      <th>Month</th>\n",
       "      <th>Boro</th>\n",
       "      <th>Community District</th>\n",
       "      <th>BC_SNAP_Recipients</th>\n",
       "      <th>BC_SNAP_Households</th>\n",
       "    </tr>\n",
       "  </thead>\n",
       "  <tbody>\n",
       "    <tr>\n",
       "      <th>0</th>\n",
       "      <td>9/1/20</td>\n",
       "      <td>Manhattan</td>\n",
       "      <td>M01</td>\n",
       "      <td>2276</td>\n",
       "      <td>1799</td>\n",
       "    </tr>\n",
       "    <tr>\n",
       "      <th>1</th>\n",
       "      <td>9/1/20</td>\n",
       "      <td>Manhattan</td>\n",
       "      <td>M02</td>\n",
       "      <td>2994</td>\n",
       "      <td>2438</td>\n",
       "    </tr>\n",
       "    <tr>\n",
       "      <th>2</th>\n",
       "      <td>9/1/20</td>\n",
       "      <td>Manhattan</td>\n",
       "      <td>M03</td>\n",
       "      <td>37879</td>\n",
       "      <td>26041</td>\n",
       "    </tr>\n",
       "    <tr>\n",
       "      <th>3</th>\n",
       "      <td>9/1/20</td>\n",
       "      <td>Manhattan</td>\n",
       "      <td>M04</td>\n",
       "      <td>13035</td>\n",
       "      <td>9802</td>\n",
       "    </tr>\n",
       "    <tr>\n",
       "      <th>4</th>\n",
       "      <td>9/1/20</td>\n",
       "      <td>Manhattan</td>\n",
       "      <td>M05</td>\n",
       "      <td>6159</td>\n",
       "      <td>4317</td>\n",
       "    </tr>\n",
       "    <tr>\n",
       "      <th>...</th>\n",
       "      <td>...</td>\n",
       "      <td>...</td>\n",
       "      <td>...</td>\n",
       "      <td>...</td>\n",
       "      <td>...</td>\n",
       "    </tr>\n",
       "    <tr>\n",
       "      <th>1116</th>\n",
       "      <td>3/1/23</td>\n",
       "      <td>Queens</td>\n",
       "      <td>Q13</td>\n",
       "      <td>23430</td>\n",
       "      <td>14876</td>\n",
       "    </tr>\n",
       "    <tr>\n",
       "      <th>1117</th>\n",
       "      <td>3/1/23</td>\n",
       "      <td>Queens</td>\n",
       "      <td>Q14</td>\n",
       "      <td>31366</td>\n",
       "      <td>17378</td>\n",
       "    </tr>\n",
       "    <tr>\n",
       "      <th>1118</th>\n",
       "      <td>3/1/23</td>\n",
       "      <td>Staten Island</td>\n",
       "      <td>S01</td>\n",
       "      <td>41354</td>\n",
       "      <td>22254</td>\n",
       "    </tr>\n",
       "    <tr>\n",
       "      <th>1119</th>\n",
       "      <td>3/1/23</td>\n",
       "      <td>Staten Island</td>\n",
       "      <td>S02</td>\n",
       "      <td>18554</td>\n",
       "      <td>10695</td>\n",
       "    </tr>\n",
       "    <tr>\n",
       "      <th>1120</th>\n",
       "      <td>3/1/23</td>\n",
       "      <td>Staten Island</td>\n",
       "      <td>S03</td>\n",
       "      <td>13658</td>\n",
       "      <td>8389</td>\n",
       "    </tr>\n",
       "  </tbody>\n",
       "</table>\n",
       "<p>1121 rows × 5 columns</p>\n",
       "</div>"
      ],
      "text/plain": [
       "       Month           Boro Community District  BC_SNAP_Recipients  \\\n",
       "0     9/1/20      Manhattan                M01                2276   \n",
       "1     9/1/20      Manhattan                M02                2994   \n",
       "2     9/1/20      Manhattan                M03               37879   \n",
       "3     9/1/20      Manhattan                M04               13035   \n",
       "4     9/1/20      Manhattan                M05                6159   \n",
       "...      ...            ...                ...                 ...   \n",
       "1116  3/1/23         Queens                Q13               23430   \n",
       "1117  3/1/23         Queens                Q14               31366   \n",
       "1118  3/1/23  Staten Island                S01               41354   \n",
       "1119  3/1/23  Staten Island                S02               18554   \n",
       "1120  3/1/23  Staten Island                S03               13658   \n",
       "\n",
       "      BC_SNAP_Households  \n",
       "0                   1799  \n",
       "1                   2438  \n",
       "2                  26041  \n",
       "3                   9802  \n",
       "4                   4317  \n",
       "...                  ...  \n",
       "1116               14876  \n",
       "1117               17378  \n",
       "1118               22254  \n",
       "1119               10695  \n",
       "1120                8389  \n",
       "\n",
       "[1121 rows x 5 columns]"
      ]
     },
     "execution_count": 6,
     "metadata": {},
     "output_type": "execute_result"
    }
   ],
   "source": [
    "## import SNAP benefits and see sample of 15\n",
    "dfsnap = pd.read_csv(\"https://raw.githubusercontent.com/sandeepmj/datasets/main/conditional-conversion/SNAP_benefits_borough.csv\")\n",
    "dfsnap"
   ]
  },
  {
   "cell_type": "code",
   "execution_count": 7,
   "metadata": {
    "colab": {
     "base_uri": "https://localhost:8080/"
    },
    "id": "6wovGkDX24J4",
    "outputId": "d8f3b47f-3a95-4997-b8db-296c9f34ed26"
   },
   "outputs": [
    {
     "name": "stdout",
     "output_type": "stream",
     "text": [
      "<class 'pandas.core.frame.DataFrame'>\n",
      "RangeIndex: 1121 entries, 0 to 1120\n",
      "Data columns (total 5 columns):\n",
      " #   Column              Non-Null Count  Dtype \n",
      "---  ------              --------------  ----- \n",
      " 0   Month               1121 non-null   object\n",
      " 1   Boro                1121 non-null   object\n",
      " 2   Community District  1121 non-null   object\n",
      " 3   BC_SNAP_Recipients  1121 non-null   int64 \n",
      " 4   BC_SNAP_Households  1121 non-null   int64 \n",
      "dtypes: int64(2), object(3)\n",
      "memory usage: 43.9+ KB\n"
     ]
    }
   ],
   "source": [
    "## get info\n",
    "dfsnap.info()"
   ]
  },
  {
   "cell_type": "code",
   "execution_count": 8,
   "metadata": {
    "colab": {
     "base_uri": "https://localhost:8080/",
     "height": 653
    },
    "id": "i21I-P0mxVhb",
    "outputId": "4365d43d-efcc-4d06-905b-efa741893c9d"
   },
   "outputs": [
    {
     "data": {
      "text/html": [
       "<div>\n",
       "<style scoped>\n",
       "    .dataframe tbody tr th:only-of-type {\n",
       "        vertical-align: middle;\n",
       "    }\n",
       "\n",
       "    .dataframe tbody tr th {\n",
       "        vertical-align: top;\n",
       "    }\n",
       "\n",
       "    .dataframe thead th {\n",
       "        text-align: right;\n",
       "    }\n",
       "</style>\n",
       "<table border=\"1\" class=\"dataframe\">\n",
       "  <thead>\n",
       "    <tr style=\"text-align: right;\">\n",
       "      <th></th>\n",
       "      <th>Report Date</th>\n",
       "      <th>Borough</th>\n",
       "      <th>Community District</th>\n",
       "      <th>Census Type</th>\n",
       "      <th>Adult Family Commercial Hotel</th>\n",
       "      <th>Adult Family Shelter</th>\n",
       "      <th>Adult Shelter</th>\n",
       "      <th>Adult Shelter Commercial Hotel</th>\n",
       "      <th>Family Cluster</th>\n",
       "      <th>Family with Children Commercial Hotel</th>\n",
       "      <th>Family with Children Shelter</th>\n",
       "    </tr>\n",
       "  </thead>\n",
       "  <tbody>\n",
       "    <tr>\n",
       "      <th>0</th>\n",
       "      <td>10/31/20</td>\n",
       "      <td>Bronx</td>\n",
       "      <td>1</td>\n",
       "      <td>Individuals</td>\n",
       "      <td>NaN</td>\n",
       "      <td>189.0</td>\n",
       "      <td>73.0</td>\n",
       "      <td>140.0</td>\n",
       "      <td>31.0</td>\n",
       "      <td>64.0</td>\n",
       "      <td>1202.0</td>\n",
       "    </tr>\n",
       "    <tr>\n",
       "      <th>1</th>\n",
       "      <td>10/31/20</td>\n",
       "      <td>Bronx</td>\n",
       "      <td>2</td>\n",
       "      <td>Individuals</td>\n",
       "      <td>NaN</td>\n",
       "      <td>160.0</td>\n",
       "      <td>0.0</td>\n",
       "      <td>NaN</td>\n",
       "      <td>204.0</td>\n",
       "      <td>NaN</td>\n",
       "      <td>866.0</td>\n",
       "    </tr>\n",
       "    <tr>\n",
       "      <th>2</th>\n",
       "      <td>10/31/20</td>\n",
       "      <td>Bronx</td>\n",
       "      <td>3</td>\n",
       "      <td>Individuals</td>\n",
       "      <td>NaN</td>\n",
       "      <td>258.0</td>\n",
       "      <td>218.0</td>\n",
       "      <td>123.0</td>\n",
       "      <td>62.0</td>\n",
       "      <td>115.0</td>\n",
       "      <td>1295.0</td>\n",
       "    </tr>\n",
       "    <tr>\n",
       "      <th>3</th>\n",
       "      <td>10/31/20</td>\n",
       "      <td>Bronx</td>\n",
       "      <td>4</td>\n",
       "      <td>Individuals</td>\n",
       "      <td>NaN</td>\n",
       "      <td>NaN</td>\n",
       "      <td>206.0</td>\n",
       "      <td>99.0</td>\n",
       "      <td>910.0</td>\n",
       "      <td>NaN</td>\n",
       "      <td>2134.0</td>\n",
       "    </tr>\n",
       "    <tr>\n",
       "      <th>4</th>\n",
       "      <td>10/31/20</td>\n",
       "      <td>Bronx</td>\n",
       "      <td>5</td>\n",
       "      <td>Individuals</td>\n",
       "      <td>NaN</td>\n",
       "      <td>203.0</td>\n",
       "      <td>0.0</td>\n",
       "      <td>NaN</td>\n",
       "      <td>755.0</td>\n",
       "      <td>NaN</td>\n",
       "      <td>1054.0</td>\n",
       "    </tr>\n",
       "    <tr>\n",
       "      <th>...</th>\n",
       "      <td>...</td>\n",
       "      <td>...</td>\n",
       "      <td>...</td>\n",
       "      <td>...</td>\n",
       "      <td>...</td>\n",
       "      <td>...</td>\n",
       "      <td>...</td>\n",
       "      <td>...</td>\n",
       "      <td>...</td>\n",
       "      <td>...</td>\n",
       "      <td>...</td>\n",
       "    </tr>\n",
       "    <tr>\n",
       "      <th>3181</th>\n",
       "      <td>3/31/23</td>\n",
       "      <td>Queens</td>\n",
       "      <td>13</td>\n",
       "      <td>Individuals</td>\n",
       "      <td>NaN</td>\n",
       "      <td>NaN</td>\n",
       "      <td>131.0</td>\n",
       "      <td>895.0</td>\n",
       "      <td>NaN</td>\n",
       "      <td>NaN</td>\n",
       "      <td>832.0</td>\n",
       "    </tr>\n",
       "    <tr>\n",
       "      <th>3182</th>\n",
       "      <td>3/31/23</td>\n",
       "      <td>Queens</td>\n",
       "      <td>14</td>\n",
       "      <td>Individuals</td>\n",
       "      <td>NaN</td>\n",
       "      <td>321.0</td>\n",
       "      <td>102.0</td>\n",
       "      <td>339.0</td>\n",
       "      <td>NaN</td>\n",
       "      <td>NaN</td>\n",
       "      <td>180.0</td>\n",
       "    </tr>\n",
       "    <tr>\n",
       "      <th>3183</th>\n",
       "      <td>3/31/23</td>\n",
       "      <td>Staten Island</td>\n",
       "      <td>1</td>\n",
       "      <td>Individuals</td>\n",
       "      <td>NaN</td>\n",
       "      <td>NaN</td>\n",
       "      <td>NaN</td>\n",
       "      <td>NaN</td>\n",
       "      <td>NaN</td>\n",
       "      <td>NaN</td>\n",
       "      <td>135.0</td>\n",
       "    </tr>\n",
       "    <tr>\n",
       "      <th>3184</th>\n",
       "      <td>3/31/23</td>\n",
       "      <td>Staten Island</td>\n",
       "      <td>2</td>\n",
       "      <td>Individuals</td>\n",
       "      <td>NaN</td>\n",
       "      <td>NaN</td>\n",
       "      <td>NaN</td>\n",
       "      <td>NaN</td>\n",
       "      <td>NaN</td>\n",
       "      <td>546.0</td>\n",
       "      <td>NaN</td>\n",
       "    </tr>\n",
       "    <tr>\n",
       "      <th>3185</th>\n",
       "      <td>3/31/23</td>\n",
       "      <td>Staten Island</td>\n",
       "      <td>3</td>\n",
       "      <td>Individuals</td>\n",
       "      <td>NaN</td>\n",
       "      <td>NaN</td>\n",
       "      <td>NaN</td>\n",
       "      <td>NaN</td>\n",
       "      <td>NaN</td>\n",
       "      <td>NaN</td>\n",
       "      <td>NaN</td>\n",
       "    </tr>\n",
       "  </tbody>\n",
       "</table>\n",
       "<p>3186 rows × 11 columns</p>\n",
       "</div>"
      ],
      "text/plain": [
       "     Report Date        Borough  Community District  Census Type  \\\n",
       "0       10/31/20          Bronx                   1  Individuals   \n",
       "1       10/31/20          Bronx                   2  Individuals   \n",
       "2       10/31/20          Bronx                   3  Individuals   \n",
       "3       10/31/20          Bronx                   4  Individuals   \n",
       "4       10/31/20          Bronx                   5  Individuals   \n",
       "...          ...            ...                 ...          ...   \n",
       "3181     3/31/23         Queens                  13  Individuals   \n",
       "3182     3/31/23         Queens                  14  Individuals   \n",
       "3183     3/31/23  Staten Island                   1  Individuals   \n",
       "3184     3/31/23  Staten Island                   2  Individuals   \n",
       "3185     3/31/23  Staten Island                   3  Individuals   \n",
       "\n",
       "      Adult Family Commercial Hotel  Adult Family Shelter  Adult Shelter  \\\n",
       "0                               NaN                 189.0           73.0   \n",
       "1                               NaN                 160.0            0.0   \n",
       "2                               NaN                 258.0          218.0   \n",
       "3                               NaN                   NaN          206.0   \n",
       "4                               NaN                 203.0            0.0   \n",
       "...                             ...                   ...            ...   \n",
       "3181                            NaN                   NaN          131.0   \n",
       "3182                            NaN                 321.0          102.0   \n",
       "3183                            NaN                   NaN            NaN   \n",
       "3184                            NaN                   NaN            NaN   \n",
       "3185                            NaN                   NaN            NaN   \n",
       "\n",
       "      Adult Shelter Commercial Hotel  Family Cluster  \\\n",
       "0                              140.0            31.0   \n",
       "1                                NaN           204.0   \n",
       "2                              123.0            62.0   \n",
       "3                               99.0           910.0   \n",
       "4                                NaN           755.0   \n",
       "...                              ...             ...   \n",
       "3181                           895.0             NaN   \n",
       "3182                           339.0             NaN   \n",
       "3183                             NaN             NaN   \n",
       "3184                             NaN             NaN   \n",
       "3185                             NaN             NaN   \n",
       "\n",
       "      Family with Children Commercial Hotel  Family with Children Shelter  \n",
       "0                                      64.0                        1202.0  \n",
       "1                                       NaN                         866.0  \n",
       "2                                     115.0                        1295.0  \n",
       "3                                       NaN                        2134.0  \n",
       "4                                       NaN                        1054.0  \n",
       "...                                     ...                           ...  \n",
       "3181                                    NaN                         832.0  \n",
       "3182                                    NaN                         180.0  \n",
       "3183                                    NaN                         135.0  \n",
       "3184                                  546.0                           NaN  \n",
       "3185                                    NaN                           NaN  \n",
       "\n",
       "[3186 rows x 11 columns]"
      ]
     },
     "execution_count": 8,
     "metadata": {},
     "output_type": "execute_result"
    }
   ],
   "source": [
    "## import homeless shelter data and get sample of 15\n",
    "dfshelter = pd.read_csv(\"https://raw.githubusercontent.com/sandeepmj/datasets/main/conditional-conversion/HomelessShelterbyBorough.csv\")\n",
    "dfshelter"
   ]
  },
  {
   "cell_type": "code",
   "execution_count": 9,
   "metadata": {
    "colab": {
     "base_uri": "https://localhost:8080/"
    },
    "id": "Wh0EVTAI28le",
    "outputId": "a4bc23c7-c880-4464-b035-34bfb09e5907"
   },
   "outputs": [
    {
     "name": "stdout",
     "output_type": "stream",
     "text": [
      "<class 'pandas.core.frame.DataFrame'>\n",
      "RangeIndex: 3186 entries, 0 to 3185\n",
      "Data columns (total 11 columns):\n",
      " #   Column                                 Non-Null Count  Dtype  \n",
      "---  ------                                 --------------  -----  \n",
      " 0   Report Date                            3186 non-null   object \n",
      " 1   Borough                                3186 non-null   object \n",
      " 2   Community District                     3186 non-null   int64  \n",
      " 3   Census Type                            3186 non-null   object \n",
      " 4   Adult Family Commercial Hotel          80 non-null     float64\n",
      " 5   Adult Family Shelter                   802 non-null    float64\n",
      " 6   Adult Shelter                          1797 non-null   float64\n",
      " 7   Adult Shelter Commercial Hotel         1242 non-null   float64\n",
      " 8   Family Cluster                         402 non-null    float64\n",
      " 9   Family with Children Commercial Hotel  886 non-null    float64\n",
      " 10  Family with Children Shelter           2168 non-null   float64\n",
      "dtypes: float64(7), int64(1), object(3)\n",
      "memory usage: 273.9+ KB\n"
     ]
    }
   ],
   "source": [
    "## get info\n",
    "dfshelter.info()"
   ]
  },
  {
   "cell_type": "markdown",
   "metadata": {
    "id": "g1b5tyqIydfs"
   },
   "source": [
    "#### What are the differences and challenges?"
   ]
  },
  {
   "cell_type": "markdown",
   "metadata": {},
   "source": [
    "## 1. Conditional Statements: decision-making based on conditions\n",
    "\n",
    "> We want our code to flow based on inputs, calculations and other needs. Without flow control, a program would execute linearly without any logical progression.\n",
    ">\n",
    "### A Conditional Statements\n",
    "\n",
    "\n",
    "<img src=\"https://sandeepmj.github.io/image-host/if-else.png\" width=\"300\">\n"
   ]
  },
  {
   "cell_type": "code",
   "execution_count": 12,
   "metadata": {},
   "outputs": [
    {
     "name": "stdout",
     "output_type": "stream",
     "text": [
      "No booze for you!\n"
     ]
    }
   ],
   "source": [
    "## Write an expression that evaluates someone's age and decides \n",
    "## whether they can be served alcohol\n",
    "\n",
    "age = 20\n",
    "if age < 21:\n",
    "    print(\"No booze for you!\")\n",
    "else:\n",
    "    print(\"What will you have?\")"
   ]
  },
  {
   "cell_type": "markdown",
   "metadata": {},
   "source": [
    "### More often than not, there are multiple conditions that have to be tested:\n",
    "<img src=\"https://sandeepmj.github.io/image-host/if-elif-else.png\" width=\"300\">"
   ]
  },
  {
   "cell_type": "markdown",
   "metadata": {},
   "source": [
    "<b>Create a credit rating expression based on the following values</b>\n",
    "\n",
    "- 300-579: Poor\n",
    "- 580-669: Fair\n",
    "- 670-739: Good\n",
    "- 740-799: Very good\n",
    "- 800-850: Excellent\n",
    "\n",
    "Your output should say \"Your credit of (whatever) is (rating)!\""
   ]
  },
  {
   "cell_type": "code",
   "execution_count": 15,
   "metadata": {},
   "outputs": [
    {
     "name": "stdout",
     "output_type": "stream",
     "text": [
      "Your credit of -689 is poor.\n"
     ]
    }
   ],
   "source": [
    "credit = -689\n",
    "\n",
    "if credit <= 579:\n",
    "    print(f\"Your credit of {credit} is poor.\")\n",
    "elif 580 <= credit <= 669:\n",
    "    print(f\"Your credit of {credit} is fair.\")\n",
    "elif 670 <= credit <= 739:\n",
    "    print(f\"Your credit of {credit} is good.\")\n",
    "elif 740 <= credit <= 799:\n",
    "    print(f\"Your credit of {credit} is very good.\")\n",
    "else:\n",
    "    print(f\"Your credit of {credit} is excellent.\") "
   ]
  },
  {
   "cell_type": "markdown",
   "metadata": {},
   "source": [
    "## Tenary Expression\n",
    "```variable = value1 if some_condition else value2```"
   ]
  },
  {
   "cell_type": "code",
   "execution_count": 17,
   "metadata": {},
   "outputs": [
    {
     "data": {
      "text/plain": [
       "'What would you like to drink?'"
      ]
     },
     "execution_count": 17,
     "metadata": {},
     "output_type": "execute_result"
    }
   ],
   "source": [
    "## simple credit approved or not approved\n",
    "age = 42\n",
    "\"What would you like to drink?\" if age >= 21 else \"No Booze for you\""
   ]
  },
  {
   "cell_type": "markdown",
   "metadata": {},
   "source": [
    "## Multiple Tenary Expression\n",
    "```variable = (value1 if condition1 ```\n",
    "              ```(else value2 if condition2```\n",
    "              ```else value3) ```"
   ]
  },
  {
   "cell_type": "code",
   "execution_count": 19,
   "metadata": {},
   "outputs": [
    {
     "data": {
      "text/plain": [
       "'Not approved'"
      ]
     },
     "execution_count": 19,
     "metadata": {},
     "output_type": "execute_result"
    }
   ],
   "source": [
    "credit = 580\n",
    "\n",
    "(\"Not approved\" if credit < 669\n",
    "else \"Excellent rate\" if credit >= 750\n",
    "else \"You are approved\")"
   ]
  },
  {
   "cell_type": "markdown",
   "metadata": {
    "id": "o-tYzEX1znw1"
   },
   "source": [
    "## Functions\n",
    "\n",
    "The real power in any programming language is the **Function**.\n",
    "\n",
    "A function is:\n",
    "\n",
    "* a little block of script (one line or many) that performs specific task or a series of tasks.\n",
    "* reusable and helps us make our code DRY.\n",
    "* triggered when something \"invokes\" or \"calls\" it.\n",
    "* ideally modular – it performs a narrow task and you call several functions to perform more complex tasks."
   ]
  },
  {
   "cell_type": "markdown",
   "metadata": {
    "id": "btVWR80f8OLX"
   },
   "source": [
    "#### Build a function called myFunction that adds 2 numbers together\n",
    "## it should print ```\"The total is (whatever the number is)!\"```"
   ]
  },
  {
   "cell_type": "code",
   "execution_count": 22,
   "metadata": {
    "id": "D45qzyrP0H2O"
   },
   "outputs": [],
   "source": [
    "## built it here\n",
    "def addNumbers(number1, number2):\n",
    "    total = number1 + number2\n",
    "    print(f\"The total is {total}\")"
   ]
  },
  {
   "cell_type": "code",
   "execution_count": 23,
   "metadata": {
    "colab": {
     "base_uri": "https://localhost:8080/"
    },
    "id": "vd-kd4Wh0PsC",
    "outputId": "42c9d6a5-0807-476f-dff6-b85a17991737"
   },
   "outputs": [
    {
     "name": "stdout",
     "output_type": "stream",
     "text": [
      "The total is 9\n"
     ]
    }
   ],
   "source": [
    "## Call the using 4 and 5 as the arguments\n",
    "addNumbers(4, 5)"
   ]
  },
  {
   "cell_type": "markdown",
   "metadata": {
    "id": "NErgVUpU0ctH"
   },
   "source": [
    "### A function with parameters\n",
    "\n",
    "<img src=\"https://sandeepmj.github.io/image-host/function-parameters.png\">"
   ]
  },
  {
   "cell_type": "markdown",
   "metadata": {
    "id": "aZlQfOD51VsD"
   },
   "source": [
    "### Calling a function with arguments\n",
    "\n",
    "![Screen Shot 2022-01-25 at 7.50.08 PM.png](data:image/png;base64,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)"
   ]
  },
  {
   "cell_type": "markdown",
   "metadata": {
    "id": "4E625BM_1arS"
   },
   "source": [
    "### Return Statements\n",
    "\n",
    "So far we have only printed out values processed by a function.\n",
    "\n",
    "But we really want to retain the value the function creates.\n",
    "\n",
    "We can then pass that value to other parts of our calculations and code."
   ]
  },
  {
   "cell_type": "code",
   "execution_count": 27,
   "metadata": {
    "colab": {
     "base_uri": "https://localhost:8080/"
    },
    "id": "X7aJBEmf0dOy",
    "outputId": "492b197c-3a94-477b-d7ac-d2ad3635d426"
   },
   "outputs": [
    {
     "name": "stdout",
     "output_type": "stream",
     "text": [
      "The total is 10\n"
     ]
    }
   ],
   "source": [
    "## let's save our previous function's result in a variable called Calc\n",
    "addNumbers(6,4)"
   ]
  },
  {
   "cell_type": "code",
   "execution_count": 28,
   "metadata": {
    "colab": {
     "base_uri": "https://localhost:8080/"
    },
    "id": "aottSIfJ0mrK",
    "outputId": "922b5271-26a1-40ac-dfe5-87aac482240b"
   },
   "outputs": [
    {
     "ename": "NameError",
     "evalue": "name 'some_value' is not defined",
     "output_type": "error",
     "traceback": [
      "\u001b[0;31m---------------------------------------------------------------------------\u001b[0m",
      "\u001b[0;31mNameError\u001b[0m                                 Traceback (most recent call last)",
      "Cell \u001b[0;32mIn[28], line 2\u001b[0m\n\u001b[1;32m      1\u001b[0m \u001b[38;5;66;03m## Print myCalc. What does it hold?\u001b[39;00m\n\u001b[0;32m----> 2\u001b[0m \u001b[38;5;28mprint\u001b[39m(some_value)\n",
      "\u001b[0;31mNameError\u001b[0m: name 'some_value' is not defined"
     ]
    }
   ],
   "source": [
    "## Print myCalc. What does it hold?\n",
    "print(some_value)"
   ]
  },
  {
   "cell_type": "code",
   "execution_count": null,
   "metadata": {
    "colab": {
     "base_uri": "https://localhost:8080/"
    },
    "id": "RA5FzbpP1wLc",
    "outputId": "9c62243a-8074-42fe-cf1c-814a0624bfeb"
   },
   "outputs": [],
   "source": [
    "## what type of data?\n",
    "type(some_value)"
   ]
  },
  {
   "cell_type": "markdown",
   "metadata": {
    "id": "6z9iAjhB14qp"
   },
   "source": [
    "### The return Statement"
   ]
  },
  {
   "cell_type": "code",
   "execution_count": null,
   "metadata": {
    "id": "hoNIlg5N10e9"
   },
   "outputs": [],
   "source": [
    "## Tweak our function by adding return statement\n",
    "## instead of printing a value we want to return a value(or values).\n",
    "\n",
    "def addNumbers(number1, number2):\n",
    "    total = number1 + number2\n",
    "    print(f\"The total is {total}\")\n",
    "    return total"
   ]
  },
  {
   "cell_type": "code",
   "execution_count": null,
   "metadata": {
    "colab": {
     "base_uri": "https://localhost:8080/"
    },
    "id": "9oqonAy118xz",
    "outputId": "56e29b2b-0e79-4aa5-9e3e-c3ba91217dfd"
   },
   "outputs": [],
   "source": [
    "## call the function add_numbers_ret\n",
    "## and store in variable called myCalc\n",
    "my_calc = addNumbers(10, 20)"
   ]
  },
  {
   "cell_type": "code",
   "execution_count": null,
   "metadata": {
    "colab": {
     "base_uri": "https://localhost:8080/"
    },
    "id": "Z8GFKKvm2C3z",
    "outputId": "521726d6-3dcf-4da7-9980-e05184037b67"
   },
   "outputs": [],
   "source": [
    "## print myCalc\n",
    "my_calc"
   ]
  },
  {
   "cell_type": "code",
   "execution_count": null,
   "metadata": {
    "colab": {
     "base_uri": "https://localhost:8080/"
    },
    "id": "iL0d3VnO2FbD",
    "outputId": "9b39fc87-233c-4dda-86df-8e7ca1511d7c"
   },
   "outputs": [],
   "source": [
    "## What type is myCalc?\n",
    "type(my_calc)"
   ]
  },
  {
   "cell_type": "code",
   "execution_count": null,
   "metadata": {},
   "outputs": [],
   "source": [
    "## conditional credit check and put into function\n",
    "\n",
    "def creditCheck(credit):\n",
    "    \n",
    "    if credit <= 579:\n",
    "        print(f\"Your credit of {credit} is poor.\")\n",
    "    elif 580 <= credit <= 669:\n",
    "        print(f\"Your credit of {credit} is fair.\")\n",
    "    elif 670 <= credit <= 739:\n",
    "        print(f\"Your credit of {credit} is good.\")\n",
    "    elif 740 <= credit <= 850:\n",
    "        print(f\"Your credit of {credit} is very good.\")\n",
    "    else:\n",
    "        print(f\"Your credit of {credit} is excellent.\") "
   ]
  },
  {
   "cell_type": "code",
   "execution_count": null,
   "metadata": {},
   "outputs": [],
   "source": []
  },
  {
   "cell_type": "code",
   "execution_count": null,
   "metadata": {},
   "outputs": [],
   "source": []
  },
  {
   "cell_type": "code",
   "execution_count": null,
   "metadata": {},
   "outputs": [],
   "source": []
  },
  {
   "cell_type": "code",
   "execution_count": null,
   "metadata": {},
   "outputs": [],
   "source": []
  },
  {
   "cell_type": "code",
   "execution_count": null,
   "metadata": {},
   "outputs": [],
   "source": [
    "creditCheck(450)"
   ]
  },
  {
   "cell_type": "code",
   "execution_count": null,
   "metadata": {},
   "outputs": [],
   "source": []
  },
  {
   "cell_type": "code",
   "execution_count": null,
   "metadata": {},
   "outputs": [],
   "source": []
  },
  {
   "cell_type": "code",
   "execution_count": null,
   "metadata": {},
   "outputs": [],
   "source": [
    "creditCheck(806)"
   ]
  },
  {
   "cell_type": "markdown",
   "metadata": {},
   "source": [
    "### Lambda (or anonymous) Functions\n",
    "\n",
    "* Lambda functions allow you to create a custom calculation.\n",
    "* You can then apply this calculation to targeted columns in your Pandas dataframe.\n",
    "* Lambda functions, also known as ```anonymous functions```, are considered quick, throwaway functions."
   ]
  },
  {
   "cell_type": "markdown",
   "metadata": {},
   "source": [
    "### Structure of a Lamba Function\n",
    "\n",
    "\n",
    " ```lambda arguments: expression```\n",
    "\n",
    " A real lambda function:\n",
    "\n",
    " ```lambda x: x * 2```\n",
    "\n",
    " Compared to:\n",
    " ```def times2(x):\n",
    "    return x*2```"
   ]
  },
  {
   "cell_type": "markdown",
   "metadata": {},
   "source": [
    "### Applying Lambdas to Pandas dataframes\n",
    "\n",
    "* In Pandas, we ```apply()``` lambda expressions to columns.\n",
    "\n",
    "Here we create a new column by multiplying existing values in each row of a column by 2.\n",
    "\n",
    "```df['new_column'] = df['existing_column'].apply(lambda x: x * 2)```"
   ]
  },
  {
   "cell_type": "code",
   "execution_count": null,
   "metadata": {},
   "outputs": [],
   "source": [
    "## create a df with mock data\n",
    "\n",
    "data = {'firm': ['Bilk Inc.', 'Vine & Co.', 'Kiln Inc.', 'Y & Y Consulting', 'Trending Inc.', \"State Insurance\"],\n",
    "   'net_2020': [1150, 2300, 3400, 1500, 6500, 1000 ],\n",
    "        'net_2021': [1216, 2619, 3701, 1890, 5630, 1099 ]\n",
    "           }\n",
    "df = pd.DataFrame(data)\n",
    "\n",
    "df"
   ]
  },
  {
   "cell_type": "code",
   "execution_count": null,
   "metadata": {},
   "outputs": [],
   "source": [
    "## create a copy to test something\n",
    "dfx = df.copy()\n",
    "dfx"
   ]
  },
  {
   "cell_type": "code",
   "execution_count": null,
   "metadata": {},
   "outputs": [],
   "source": [
    "## create a col 2022 which increases the col 2021 by 10 percent\n",
    "dfx[\"net_2022\"] = dfx[\"net_2021\"].apply(lambda target_row: target_row *1.1)\n",
    "dfx"
   ]
  },
  {
   "cell_type": "markdown",
   "metadata": {},
   "source": [
    "### ```apply()``` v. ```vectorization```\n",
    "\n",
    "In our previous example, our apply function is applied by looping row by row and applying it to each value. This can be highly inefficient.\n",
    "\n",
    "In our next cell, we simply use ```vectorization``` and it does the entire column or row at one time. This is much more efficient."
   ]
  },
  {
   "cell_type": "code",
   "execution_count": null,
   "metadata": {},
   "outputs": [],
   "source": [
    "## vectorize\n",
    "dfx[\"net_2022_vectorized\"] = dfx[\"net_2021\"] * 1.1\n",
    "dfx"
   ]
  },
  {
   "cell_type": "markdown",
   "metadata": {},
   "source": [
    "### When Should You Use .apply() Instead?\n",
    "- When operations involve multiple columns and require complex logic.\n",
    "- We can tap ```lambdas``` using values from specific columns for our calculations\n",
    "\n",
    "```df['new_col'] = df.apply(lambda x: x['column1'] + x['column2'], axis = 1)```\n"
   ]
  },
  {
   "cell_type": "code",
   "execution_count": null,
   "metadata": {},
   "outputs": [],
   "source": [
    "## Find the difference between net_2020 and net_2022\n",
    "dfx[\"3-yr-diff\"] = dfx.apply(lambda x: x[\"net_2022\"] - x[\"net_2020\"], axis = 1)\n",
    "dfx"
   ]
  },
  {
   "cell_type": "code",
   "execution_count": null,
   "metadata": {},
   "outputs": [],
   "source": [
    "## try it without axis = 1\n",
    "## will break\n",
    "dfx[\"3-yr-diff-2\"] = dfx.apply(lambda x: x[\"net_2022\"] - x[\"net_2020\"], axis = 1)\n",
    "dfx"
   ]
  },
  {
   "cell_type": "markdown",
   "metadata": {},
   "source": [
    "## So what is ```axis = 1``` in Pandas?\n",
    "\n",
    "Basically, the axis parameter determines whether the operation is applied to rows or columns:\n",
    "\n",
    "<img src=\"https://raw.githubusercontent.com/sandeepmj/22spring-advanced-data/main/img/axis.png\" width=\"75%\">"
   ]
  },
  {
   "cell_type": "code",
   "execution_count": null,
   "metadata": {},
   "outputs": [],
   "source": [
    "## Axis Summary\n",
    "axis = pd.read_csv(\"https://raw.githubusercontent.com/sandeepmj/datasets/main/axis.csv\")\n",
    "axis"
   ]
  },
  {
   "cell_type": "markdown",
   "metadata": {},
   "source": [
    "### What is the percentage change between net_2021 and net_2022 in dfx?¶\n"
   ]
  },
  {
   "cell_type": "markdown",
   "metadata": {},
   "source": [
    "#### create a function that gets the percent change between two numbers\n",
    "NAME YOUR FUNCTION: pct_chg"
   ]
  },
  {
   "cell_type": "code",
   "execution_count": null,
   "metadata": {},
   "outputs": [],
   "source": [
    "## code function here\n"
   ]
  },
  {
   "cell_type": "code",
   "execution_count": null,
   "metadata": {},
   "outputs": [],
   "source": [
    "## test it here\n"
   ]
  },
  {
   "cell_type": "code",
   "execution_count": null,
   "metadata": {},
   "outputs": [],
   "source": []
  },
  {
   "cell_type": "code",
   "execution_count": null,
   "metadata": {
    "scrolled": true
   },
   "outputs": [],
   "source": [
    "## APPLY to your function\n"
   ]
  },
  {
   "cell_type": "markdown",
   "metadata": {},
   "source": [
    "**What's happening** :\n",
    "\n",
    "- The apply() function is being used with axis=1, meaning it operates row-wise.\n",
    "- The ```lambda x:``` function processes each row of dfx, one at a time.\n",
    "- The x represents a single row (not the entire DataFrame, just one row at a time).\n",
    "- ```x['net_2022']``` and ```x['net_2021']``` extract values from the row."
   ]
  },
  {
   "cell_type": "code",
   "execution_count": null,
   "metadata": {},
   "outputs": [],
   "source": [
    "## mix in conditional to create new column that says loss or profit\n",
    "df[\"net_2022\"] = df[\"net_2021\"] * 1.1\n",
    "df"
   ]
  },
  {
   "cell_type": "code",
   "execution_count": null,
   "metadata": {},
   "outputs": [],
   "source": [
    "df[\"category\"] =\\\n",
    "df.apply(lambda x: \"increase\" if x[\"net_2022\"] > x[\"net_2020\"] else \"decrease\", axis = 1)"
   ]
  },
  {
   "cell_type": "code",
   "execution_count": null,
   "metadata": {},
   "outputs": [],
   "source": [
    "df"
   ]
  },
  {
   "cell_type": "markdown",
   "metadata": {
    "id": "2F9zMVLQ2X0m"
   },
   "source": [
    "## Back to our original goal of standardizing our three dataframes"
   ]
  },
  {
   "cell_type": "code",
   "execution_count": null,
   "metadata": {
    "colab": {
     "base_uri": "https://localhost:8080/",
     "height": 363
    },
    "id": "t1P6Rax5HahF",
    "outputId": "bf8d8d61-ec4b-4257-bc3a-927ef9f1d2f7"
   },
   "outputs": [],
   "source": [
    "## remind us of census data\n",
    "dfcensus.head()"
   ]
  },
  {
   "cell_type": "code",
   "execution_count": null,
   "metadata": {},
   "outputs": [],
   "source": []
  },
  {
   "cell_type": "code",
   "execution_count": null,
   "metadata": {},
   "outputs": [],
   "source": [
    "dfsnap.head(3)"
   ]
  },
  {
   "cell_type": "code",
   "execution_count": null,
   "metadata": {},
   "outputs": [],
   "source": [
    "dfsnap.sample(20)"
   ]
  },
  {
   "cell_type": "code",
   "execution_count": null,
   "metadata": {},
   "outputs": [],
   "source": [
    "dfshelter"
   ]
  },
  {
   "cell_type": "code",
   "execution_count": null,
   "metadata": {},
   "outputs": [],
   "source": [
    "dfcensus.head(2)"
   ]
  },
  {
   "cell_type": "code",
   "execution_count": null,
   "metadata": {},
   "outputs": [],
   "source": [
    "dfcensus.info()"
   ]
  },
  {
   "cell_type": "markdown",
   "metadata": {
    "id": "kQU3iP8p3ETh"
   },
   "source": [
    "### Function fo standardize census CDN\n",
    "\n",
    "\n"
   ]
  },
  {
   "cell_type": "code",
   "execution_count": null,
   "metadata": {
    "id": "ivGTHy-W2d3r"
   },
   "outputs": [],
   "source": [
    "## function to convert CDN for census data\n",
    "def convertCensus(cdn):\n",
    "    string_cdn = str(cdn)\n",
    "    first_digit = string_cdn[0]\n",
    "    # print(first_digit)\n",
    "    last_2_digits = string_cdn[1:]\n",
    "    # print(last_2_digits)\n",
    "    if first_digit == \"1\":\n",
    "        cdn_code = f\"M{last_2_digits}\"\n",
    "    elif first_digit == \"2\":\n",
    "        cdn_code = f\"B{last_2_digits}\"\n",
    "    elif first_digit == \"3\":\n",
    "        cdn_code = f\"K{last_2_digits}\"\n",
    "    elif first_digit == \"4\":\n",
    "        cdn_code = f\"Q{last_2_digits}\"\n",
    "    elif first_digit == \"5\":\n",
    "        cdn_code = f\"S{last_2_digits}\"\n",
    "    else: cdn_code = \"FLAG\"\n",
    "    return cdn_code\n",
    "    "
   ]
  },
  {
   "cell_type": "code",
   "execution_count": null,
   "metadata": {},
   "outputs": [],
   "source": [
    "convertCensus(407)"
   ]
  },
  {
   "cell_type": "code",
   "execution_count": null,
   "metadata": {},
   "outputs": [],
   "source": [
    "dfcensus.head(3)"
   ]
  },
  {
   "cell_type": "code",
   "execution_count": null,
   "metadata": {
    "id": "BPW5NBor3ZCT"
   },
   "outputs": [],
   "source": [
    "## run it\n",
    "dfcensus[\"updated_cdn\"] = \\\n",
    "dfcensus[\"Community District Number\"].apply(lambda x: convertCensus(x))\n",
    "dfcensus"
   ]
  },
  {
   "cell_type": "code",
   "execution_count": null,
   "metadata": {
    "colab": {
     "base_uri": "https://localhost:8080/",
     "height": 843
    },
    "id": "96k-J5NQ3cap",
    "outputId": "aac94547-7417-4a07-dca9-d0cb950d0636"
   },
   "outputs": [],
   "source": [
    "## did it work?\n"
   ]
  },
  {
   "cell_type": "code",
   "execution_count": null,
   "metadata": {
    "colab": {
     "base_uri": "https://localhost:8080/"
    },
    "id": "9Z4E7xbM3eTo",
    "outputId": "572c25d1-1717-4515-f624-8c9ce33ece78"
   },
   "outputs": [],
   "source": [
    "## let's move it closer to original CDN\n"
   ]
  },
  {
   "cell_type": "code",
   "execution_count": null,
   "metadata": {
    "id": "oG7rd5Rl3s8n"
   },
   "outputs": [],
   "source": [
    "## reorder\n",
    "list(dfcensus.columns)"
   ]
  },
  {
   "cell_type": "code",
   "execution_count": null,
   "metadata": {
    "colab": {
     "base_uri": "https://localhost:8080/",
     "height": 1000
    },
    "id": "n9UXEmx43zB5",
    "outputId": "d7a0a58f-6105-4e1c-9593-1e6668998158"
   },
   "outputs": [],
   "source": [
    "## call census data\n",
    "dfcensus = dfcensus[['Year',\n",
    " 'GeoType',\n",
    " 'Borough',\n",
    "    'updated_cdn',\n",
    " 'Total Population',\n",
    " 'Average household size',\n",
    " 'Children',\n",
    " 'Latino',\n",
    " 'White non-Hispanic',\n",
    " 'Black non-Hispanic',\n",
    " 'Asian',\n",
    " 'Other race',\n",
    " 'Two or more races',\n",
    " 'Total housing units',\n",
    " 'Occupied housing units',\n",
    " 'Vacant housing units',\n",
    " ]]"
   ]
  },
  {
   "cell_type": "code",
   "execution_count": null,
   "metadata": {},
   "outputs": [],
   "source": [
    "dfcensus"
   ]
  },
  {
   "cell_type": "markdown",
   "metadata": {
    "id": "D5pm9xZy4aLH"
   },
   "source": [
    "## Homework\n",
    "### Standardize shelter data"
   ]
  },
  {
   "cell_type": "code",
   "execution_count": 41,
   "metadata": {
    "colab": {
     "base_uri": "https://localhost:8080/",
     "height": 609
    },
    "id": "lMlx5VPCPh5n",
    "outputId": "bd395951-03c5-4deb-c66e-e2c019b5efb3"
   },
   "outputs": [
    {
     "data": {
      "text/html": [
       "<div>\n",
       "<style scoped>\n",
       "    .dataframe tbody tr th:only-of-type {\n",
       "        vertical-align: middle;\n",
       "    }\n",
       "\n",
       "    .dataframe tbody tr th {\n",
       "        vertical-align: top;\n",
       "    }\n",
       "\n",
       "    .dataframe thead th {\n",
       "        text-align: right;\n",
       "    }\n",
       "</style>\n",
       "<table border=\"1\" class=\"dataframe\">\n",
       "  <thead>\n",
       "    <tr style=\"text-align: right;\">\n",
       "      <th></th>\n",
       "      <th>Report Date</th>\n",
       "      <th>Borough</th>\n",
       "      <th>Community District</th>\n",
       "      <th>Census Type</th>\n",
       "      <th>Adult Family Commercial Hotel</th>\n",
       "      <th>Adult Family Shelter</th>\n",
       "      <th>Adult Shelter</th>\n",
       "      <th>Adult Shelter Commercial Hotel</th>\n",
       "      <th>Family Cluster</th>\n",
       "      <th>Family with Children Commercial Hotel</th>\n",
       "      <th>Family with Children Shelter</th>\n",
       "    </tr>\n",
       "  </thead>\n",
       "  <tbody>\n",
       "    <tr>\n",
       "      <th>808</th>\n",
       "      <td>10/31/21</td>\n",
       "      <td>Manhattan</td>\n",
       "      <td>10</td>\n",
       "      <td>Individuals</td>\n",
       "      <td>NaN</td>\n",
       "      <td>NaN</td>\n",
       "      <td>576.0</td>\n",
       "      <td>NaN</td>\n",
       "      <td>NaN</td>\n",
       "      <td>NaN</td>\n",
       "      <td>537.0</td>\n",
       "    </tr>\n",
       "    <tr>\n",
       "      <th>2781</th>\n",
       "      <td>9/30/22</td>\n",
       "      <td>Bronx</td>\n",
       "      <td>9</td>\n",
       "      <td>Individuals</td>\n",
       "      <td>NaN</td>\n",
       "      <td>NaN</td>\n",
       "      <td>262.0</td>\n",
       "      <td>NaN</td>\n",
       "      <td>NaN</td>\n",
       "      <td>128.0</td>\n",
       "      <td>1191.0</td>\n",
       "    </tr>\n",
       "    <tr>\n",
       "      <th>2312</th>\n",
       "      <td>3/31/20</td>\n",
       "      <td>Bronx</td>\n",
       "      <td>11</td>\n",
       "      <td>Individuals</td>\n",
       "      <td>NaN</td>\n",
       "      <td>NaN</td>\n",
       "      <td>NaN</td>\n",
       "      <td>NaN</td>\n",
       "      <td>NaN</td>\n",
       "      <td>NaN</td>\n",
       "      <td>NaN</td>\n",
       "    </tr>\n",
       "    <tr>\n",
       "      <th>3074</th>\n",
       "      <td>2/28/23</td>\n",
       "      <td>Bronx</td>\n",
       "      <td>7</td>\n",
       "      <td>Individuals</td>\n",
       "      <td>NaN</td>\n",
       "      <td>NaN</td>\n",
       "      <td>613.0</td>\n",
       "      <td>NaN</td>\n",
       "      <td>NaN</td>\n",
       "      <td>105.0</td>\n",
       "      <td>452.0</td>\n",
       "    </tr>\n",
       "    <tr>\n",
       "      <th>1910</th>\n",
       "      <td>8/31/19</td>\n",
       "      <td>Brooklyn</td>\n",
       "      <td>10</td>\n",
       "      <td>Individuals</td>\n",
       "      <td>NaN</td>\n",
       "      <td>NaN</td>\n",
       "      <td>NaN</td>\n",
       "      <td>NaN</td>\n",
       "      <td>NaN</td>\n",
       "      <td>NaN</td>\n",
       "      <td>NaN</td>\n",
       "    </tr>\n",
       "    <tr>\n",
       "      <th>1695</th>\n",
       "      <td>1/31/19</td>\n",
       "      <td>Queens</td>\n",
       "      <td>1</td>\n",
       "      <td>Individuals</td>\n",
       "      <td>NaN</td>\n",
       "      <td>NaN</td>\n",
       "      <td>199.0</td>\n",
       "      <td>NaN</td>\n",
       "      <td>NaN</td>\n",
       "      <td>268.0</td>\n",
       "      <td>393.0</td>\n",
       "    </tr>\n",
       "    <tr>\n",
       "      <th>2881</th>\n",
       "      <td>10/31/22</td>\n",
       "      <td>Queens</td>\n",
       "      <td>8</td>\n",
       "      <td>Individuals</td>\n",
       "      <td>NaN</td>\n",
       "      <td>NaN</td>\n",
       "      <td>NaN</td>\n",
       "      <td>NaN</td>\n",
       "      <td>NaN</td>\n",
       "      <td>NaN</td>\n",
       "      <td>299.0</td>\n",
       "    </tr>\n",
       "    <tr>\n",
       "      <th>2967</th>\n",
       "      <td>12/31/22</td>\n",
       "      <td>Brooklyn</td>\n",
       "      <td>6</td>\n",
       "      <td>Individuals</td>\n",
       "      <td>NaN</td>\n",
       "      <td>99.0</td>\n",
       "      <td>263.0</td>\n",
       "      <td>279.0</td>\n",
       "      <td>NaN</td>\n",
       "      <td>NaN</td>\n",
       "      <td>565.0</td>\n",
       "    </tr>\n",
       "    <tr>\n",
       "      <th>1360</th>\n",
       "      <td>8/31/18</td>\n",
       "      <td>Bronx</td>\n",
       "      <td>4</td>\n",
       "      <td>Individuals</td>\n",
       "      <td>NaN</td>\n",
       "      <td>NaN</td>\n",
       "      <td>431.0</td>\n",
       "      <td>74.0</td>\n",
       "      <td>1601.0</td>\n",
       "      <td>NaN</td>\n",
       "      <td>1947.0</td>\n",
       "    </tr>\n",
       "    <tr>\n",
       "      <th>2810</th>\n",
       "      <td>9/30/22</td>\n",
       "      <td>Manhattan</td>\n",
       "      <td>8</td>\n",
       "      <td>Individuals</td>\n",
       "      <td>NaN</td>\n",
       "      <td>NaN</td>\n",
       "      <td>38.0</td>\n",
       "      <td>NaN</td>\n",
       "      <td>NaN</td>\n",
       "      <td>NaN</td>\n",
       "      <td>NaN</td>\n",
       "    </tr>\n",
       "    <tr>\n",
       "      <th>3141</th>\n",
       "      <td>3/31/23</td>\n",
       "      <td>Brooklyn</td>\n",
       "      <td>3</td>\n",
       "      <td>Individuals</td>\n",
       "      <td>159.0</td>\n",
       "      <td>NaN</td>\n",
       "      <td>554.0</td>\n",
       "      <td>192.0</td>\n",
       "      <td>NaN</td>\n",
       "      <td>507.0</td>\n",
       "      <td>420.0</td>\n",
       "    </tr>\n",
       "    <tr>\n",
       "      <th>1739</th>\n",
       "      <td>4/30/19</td>\n",
       "      <td>Brooklyn</td>\n",
       "      <td>16</td>\n",
       "      <td>Individuals</td>\n",
       "      <td>NaN</td>\n",
       "      <td>NaN</td>\n",
       "      <td>658.0</td>\n",
       "      <td>114.0</td>\n",
       "      <td>NaN</td>\n",
       "      <td>377.0</td>\n",
       "      <td>2543.0</td>\n",
       "    </tr>\n",
       "    <tr>\n",
       "      <th>81</th>\n",
       "      <td>11/30/20</td>\n",
       "      <td>Brooklyn</td>\n",
       "      <td>11</td>\n",
       "      <td>Individuals</td>\n",
       "      <td>NaN</td>\n",
       "      <td>NaN</td>\n",
       "      <td>NaN</td>\n",
       "      <td>NaN</td>\n",
       "      <td>NaN</td>\n",
       "      <td>NaN</td>\n",
       "      <td>NaN</td>\n",
       "    </tr>\n",
       "    <tr>\n",
       "      <th>1905</th>\n",
       "      <td>8/31/19</td>\n",
       "      <td>Brooklyn</td>\n",
       "      <td>5</td>\n",
       "      <td>Individuals</td>\n",
       "      <td>NaN</td>\n",
       "      <td>NaN</td>\n",
       "      <td>920.0</td>\n",
       "      <td>246.0</td>\n",
       "      <td>NaN</td>\n",
       "      <td>269.0</td>\n",
       "      <td>832.0</td>\n",
       "    </tr>\n",
       "    <tr>\n",
       "      <th>1411</th>\n",
       "      <td>8/31/18</td>\n",
       "      <td>Queens</td>\n",
       "      <td>13</td>\n",
       "      <td>Individuals</td>\n",
       "      <td>NaN</td>\n",
       "      <td>NaN</td>\n",
       "      <td>NaN</td>\n",
       "      <td>432.0</td>\n",
       "      <td>NaN</td>\n",
       "      <td>327.0</td>\n",
       "      <td>828.0</td>\n",
       "    </tr>\n",
       "    <tr>\n",
       "      <th>1458</th>\n",
       "      <td>9/30/18</td>\n",
       "      <td>Queens</td>\n",
       "      <td>1</td>\n",
       "      <td>Individuals</td>\n",
       "      <td>NaN</td>\n",
       "      <td>NaN</td>\n",
       "      <td>199.0</td>\n",
       "      <td>NaN</td>\n",
       "      <td>NaN</td>\n",
       "      <td>255.0</td>\n",
       "      <td>365.0</td>\n",
       "    </tr>\n",
       "    <tr>\n",
       "      <th>2905</th>\n",
       "      <td>11/30/22</td>\n",
       "      <td>Brooklyn</td>\n",
       "      <td>3</td>\n",
       "      <td>Individuals</td>\n",
       "      <td>166.0</td>\n",
       "      <td>NaN</td>\n",
       "      <td>557.0</td>\n",
       "      <td>201.0</td>\n",
       "      <td>NaN</td>\n",
       "      <td>236.0</td>\n",
       "      <td>451.0</td>\n",
       "    </tr>\n",
       "    <tr>\n",
       "      <th>1727</th>\n",
       "      <td>4/30/19</td>\n",
       "      <td>Brooklyn</td>\n",
       "      <td>4</td>\n",
       "      <td>Individuals</td>\n",
       "      <td>NaN</td>\n",
       "      <td>NaN</td>\n",
       "      <td>362.0</td>\n",
       "      <td>61.0</td>\n",
       "      <td>52.0</td>\n",
       "      <td>159.0</td>\n",
       "      <td>828.0</td>\n",
       "    </tr>\n",
       "    <tr>\n",
       "      <th>1101</th>\n",
       "      <td>3/31/22</td>\n",
       "      <td>Queens</td>\n",
       "      <td>9</td>\n",
       "      <td>Individuals</td>\n",
       "      <td>NaN</td>\n",
       "      <td>NaN</td>\n",
       "      <td>97.0</td>\n",
       "      <td>NaN</td>\n",
       "      <td>NaN</td>\n",
       "      <td>NaN</td>\n",
       "      <td>NaN</td>\n",
       "    </tr>\n",
       "    <tr>\n",
       "      <th>1749</th>\n",
       "      <td>4/30/19</td>\n",
       "      <td>Manhattan</td>\n",
       "      <td>8</td>\n",
       "      <td>Individuals</td>\n",
       "      <td>NaN</td>\n",
       "      <td>NaN</td>\n",
       "      <td>80.0</td>\n",
       "      <td>NaN</td>\n",
       "      <td>NaN</td>\n",
       "      <td>NaN</td>\n",
       "      <td>NaN</td>\n",
       "    </tr>\n",
       "  </tbody>\n",
       "</table>\n",
       "</div>"
      ],
      "text/plain": [
       "     Report Date    Borough  Community District  Census Type  \\\n",
       "808     10/31/21  Manhattan                  10  Individuals   \n",
       "2781     9/30/22      Bronx                   9  Individuals   \n",
       "2312     3/31/20      Bronx                  11  Individuals   \n",
       "3074     2/28/23      Bronx                   7  Individuals   \n",
       "1910     8/31/19   Brooklyn                  10  Individuals   \n",
       "1695     1/31/19     Queens                   1  Individuals   \n",
       "2881    10/31/22     Queens                   8  Individuals   \n",
       "2967    12/31/22   Brooklyn                   6  Individuals   \n",
       "1360     8/31/18      Bronx                   4  Individuals   \n",
       "2810     9/30/22  Manhattan                   8  Individuals   \n",
       "3141     3/31/23   Brooklyn                   3  Individuals   \n",
       "1739     4/30/19   Brooklyn                  16  Individuals   \n",
       "81      11/30/20   Brooklyn                  11  Individuals   \n",
       "1905     8/31/19   Brooklyn                   5  Individuals   \n",
       "1411     8/31/18     Queens                  13  Individuals   \n",
       "1458     9/30/18     Queens                   1  Individuals   \n",
       "2905    11/30/22   Brooklyn                   3  Individuals   \n",
       "1727     4/30/19   Brooklyn                   4  Individuals   \n",
       "1101     3/31/22     Queens                   9  Individuals   \n",
       "1749     4/30/19  Manhattan                   8  Individuals   \n",
       "\n",
       "      Adult Family Commercial Hotel  Adult Family Shelter  Adult Shelter  \\\n",
       "808                             NaN                   NaN          576.0   \n",
       "2781                            NaN                   NaN          262.0   \n",
       "2312                            NaN                   NaN            NaN   \n",
       "3074                            NaN                   NaN          613.0   \n",
       "1910                            NaN                   NaN            NaN   \n",
       "1695                            NaN                   NaN          199.0   \n",
       "2881                            NaN                   NaN            NaN   \n",
       "2967                            NaN                  99.0          263.0   \n",
       "1360                            NaN                   NaN          431.0   \n",
       "2810                            NaN                   NaN           38.0   \n",
       "3141                          159.0                   NaN          554.0   \n",
       "1739                            NaN                   NaN          658.0   \n",
       "81                              NaN                   NaN            NaN   \n",
       "1905                            NaN                   NaN          920.0   \n",
       "1411                            NaN                   NaN            NaN   \n",
       "1458                            NaN                   NaN          199.0   \n",
       "2905                          166.0                   NaN          557.0   \n",
       "1727                            NaN                   NaN          362.0   \n",
       "1101                            NaN                   NaN           97.0   \n",
       "1749                            NaN                   NaN           80.0   \n",
       "\n",
       "      Adult Shelter Commercial Hotel  Family Cluster  \\\n",
       "808                              NaN             NaN   \n",
       "2781                             NaN             NaN   \n",
       "2312                             NaN             NaN   \n",
       "3074                             NaN             NaN   \n",
       "1910                             NaN             NaN   \n",
       "1695                             NaN             NaN   \n",
       "2881                             NaN             NaN   \n",
       "2967                           279.0             NaN   \n",
       "1360                            74.0          1601.0   \n",
       "2810                             NaN             NaN   \n",
       "3141                           192.0             NaN   \n",
       "1739                           114.0             NaN   \n",
       "81                               NaN             NaN   \n",
       "1905                           246.0             NaN   \n",
       "1411                           432.0             NaN   \n",
       "1458                             NaN             NaN   \n",
       "2905                           201.0             NaN   \n",
       "1727                            61.0            52.0   \n",
       "1101                             NaN             NaN   \n",
       "1749                             NaN             NaN   \n",
       "\n",
       "      Family with Children Commercial Hotel  Family with Children Shelter  \n",
       "808                                     NaN                         537.0  \n",
       "2781                                  128.0                        1191.0  \n",
       "2312                                    NaN                           NaN  \n",
       "3074                                  105.0                         452.0  \n",
       "1910                                    NaN                           NaN  \n",
       "1695                                  268.0                         393.0  \n",
       "2881                                    NaN                         299.0  \n",
       "2967                                    NaN                         565.0  \n",
       "1360                                    NaN                        1947.0  \n",
       "2810                                    NaN                           NaN  \n",
       "3141                                  507.0                         420.0  \n",
       "1739                                  377.0                        2543.0  \n",
       "81                                      NaN                           NaN  \n",
       "1905                                  269.0                         832.0  \n",
       "1411                                  327.0                         828.0  \n",
       "1458                                  255.0                         365.0  \n",
       "2905                                  236.0                         451.0  \n",
       "1727                                  159.0                         828.0  \n",
       "1101                                    NaN                           NaN  \n",
       "1749                                    NaN                           NaN  "
      ]
     },
     "execution_count": 41,
     "metadata": {},
     "output_type": "execute_result"
    }
   ],
   "source": [
    "## recall dfshelter\n",
    "dfshelter.sample(20)"
   ]
  },
  {
   "cell_type": "code",
   "execution_count": 43,
   "metadata": {
    "id": "8nY6TzqY4Tb1"
   },
   "outputs": [],
   "source": [
    "## function to convert shelter CDN\n",
    "def convertShelter(boro,cdn):\n",
    "  if boro == \"Bronx\":\n",
    "    letter = \"B\"\n",
    "  elif boro == \"Queens\":\n",
    "    letter = \"Q\"\n",
    "  elif boro == \"Staten Island\":\n",
    "    letter = \"S\"\n",
    "  elif boro == \"Manhattan\":\n",
    "    letter = \"M\"\n",
    "  elif boro == \"Brooklyn\":\n",
    "    letter = \"K\"\n",
    "  else: return \"FLAG\"\n",
    "  if len(str(cdn)) <= 1:\n",
    "    code = f\"0{cdn}\"\n",
    "  else: code = cdn\n",
    "  return f\"{letter}{code}\""
   ]
  },
  {
   "cell_type": "code",
   "execution_count": 45,
   "metadata": {
    "colab": {
     "base_uri": "https://localhost:8080/",
     "height": 36
    },
    "id": "2R8u0LBtTSAK",
    "outputId": "82b3c0ee-4346-43cc-ab6b-ee7ac5d05a09"
   },
   "outputs": [
    {
     "data": {
      "text/plain": [
       "'Q01'"
      ]
     },
     "execution_count": 45,
     "metadata": {},
     "output_type": "execute_result"
    }
   ],
   "source": [
    "## test it \n",
    "convertShelter(\"Queens\", 1)"
   ]
  },
  {
   "cell_type": "code",
   "execution_count": 47,
   "metadata": {},
   "outputs": [
    {
     "data": {
      "text/plain": [
       "'K20'"
      ]
     },
     "execution_count": 47,
     "metadata": {},
     "output_type": "execute_result"
    }
   ],
   "source": [
    "convertShelter(\"Brooklyn\", 20)"
   ]
  },
  {
   "cell_type": "code",
   "execution_count": 49,
   "metadata": {
    "id": "GPnlA3L04slM"
   },
   "outputs": [],
   "source": [
    "## use on shelter data \n",
    "dfshelter[\"updated_cdn\"] = \\\n",
    "dfshelter.apply(lambda x: convertShelter(x[\"Borough\"], x[\"Community District\"]), axis = 1)"
   ]
  },
  {
   "cell_type": "code",
   "execution_count": 51,
   "metadata": {
    "colab": {
     "base_uri": "https://localhost:8080/",
     "height": 339
    },
    "id": "rQIdIFjIVczE",
    "outputId": "c7b8b978-a35f-443d-c62e-c6771c965782"
   },
   "outputs": [
    {
     "data": {
      "text/html": [
       "<div>\n",
       "<style scoped>\n",
       "    .dataframe tbody tr th:only-of-type {\n",
       "        vertical-align: middle;\n",
       "    }\n",
       "\n",
       "    .dataframe tbody tr th {\n",
       "        vertical-align: top;\n",
       "    }\n",
       "\n",
       "    .dataframe thead th {\n",
       "        text-align: right;\n",
       "    }\n",
       "</style>\n",
       "<table border=\"1\" class=\"dataframe\">\n",
       "  <thead>\n",
       "    <tr style=\"text-align: right;\">\n",
       "      <th></th>\n",
       "      <th>Report Date</th>\n",
       "      <th>Borough</th>\n",
       "      <th>Community District</th>\n",
       "      <th>Census Type</th>\n",
       "      <th>Adult Family Commercial Hotel</th>\n",
       "      <th>Adult Family Shelter</th>\n",
       "      <th>Adult Shelter</th>\n",
       "      <th>Adult Shelter Commercial Hotel</th>\n",
       "      <th>Family Cluster</th>\n",
       "      <th>Family with Children Commercial Hotel</th>\n",
       "      <th>Family with Children Shelter</th>\n",
       "      <th>updated_cdn</th>\n",
       "    </tr>\n",
       "  </thead>\n",
       "  <tbody>\n",
       "    <tr>\n",
       "      <th>0</th>\n",
       "      <td>10/31/20</td>\n",
       "      <td>Bronx</td>\n",
       "      <td>1</td>\n",
       "      <td>Individuals</td>\n",
       "      <td>NaN</td>\n",
       "      <td>189.0</td>\n",
       "      <td>73.0</td>\n",
       "      <td>140.0</td>\n",
       "      <td>31.0</td>\n",
       "      <td>64.0</td>\n",
       "      <td>1202.0</td>\n",
       "      <td>B01</td>\n",
       "    </tr>\n",
       "    <tr>\n",
       "      <th>1</th>\n",
       "      <td>10/31/20</td>\n",
       "      <td>Bronx</td>\n",
       "      <td>2</td>\n",
       "      <td>Individuals</td>\n",
       "      <td>NaN</td>\n",
       "      <td>160.0</td>\n",
       "      <td>0.0</td>\n",
       "      <td>NaN</td>\n",
       "      <td>204.0</td>\n",
       "      <td>NaN</td>\n",
       "      <td>866.0</td>\n",
       "      <td>B02</td>\n",
       "    </tr>\n",
       "    <tr>\n",
       "      <th>2</th>\n",
       "      <td>10/31/20</td>\n",
       "      <td>Bronx</td>\n",
       "      <td>3</td>\n",
       "      <td>Individuals</td>\n",
       "      <td>NaN</td>\n",
       "      <td>258.0</td>\n",
       "      <td>218.0</td>\n",
       "      <td>123.0</td>\n",
       "      <td>62.0</td>\n",
       "      <td>115.0</td>\n",
       "      <td>1295.0</td>\n",
       "      <td>B03</td>\n",
       "    </tr>\n",
       "    <tr>\n",
       "      <th>3</th>\n",
       "      <td>10/31/20</td>\n",
       "      <td>Bronx</td>\n",
       "      <td>4</td>\n",
       "      <td>Individuals</td>\n",
       "      <td>NaN</td>\n",
       "      <td>NaN</td>\n",
       "      <td>206.0</td>\n",
       "      <td>99.0</td>\n",
       "      <td>910.0</td>\n",
       "      <td>NaN</td>\n",
       "      <td>2134.0</td>\n",
       "      <td>B04</td>\n",
       "    </tr>\n",
       "    <tr>\n",
       "      <th>4</th>\n",
       "      <td>10/31/20</td>\n",
       "      <td>Bronx</td>\n",
       "      <td>5</td>\n",
       "      <td>Individuals</td>\n",
       "      <td>NaN</td>\n",
       "      <td>203.0</td>\n",
       "      <td>0.0</td>\n",
       "      <td>NaN</td>\n",
       "      <td>755.0</td>\n",
       "      <td>NaN</td>\n",
       "      <td>1054.0</td>\n",
       "      <td>B05</td>\n",
       "    </tr>\n",
       "  </tbody>\n",
       "</table>\n",
       "</div>"
      ],
      "text/plain": [
       "  Report Date Borough  Community District  Census Type  \\\n",
       "0    10/31/20   Bronx                   1  Individuals   \n",
       "1    10/31/20   Bronx                   2  Individuals   \n",
       "2    10/31/20   Bronx                   3  Individuals   \n",
       "3    10/31/20   Bronx                   4  Individuals   \n",
       "4    10/31/20   Bronx                   5  Individuals   \n",
       "\n",
       "   Adult Family Commercial Hotel  Adult Family Shelter  Adult Shelter  \\\n",
       "0                            NaN                 189.0           73.0   \n",
       "1                            NaN                 160.0            0.0   \n",
       "2                            NaN                 258.0          218.0   \n",
       "3                            NaN                   NaN          206.0   \n",
       "4                            NaN                 203.0            0.0   \n",
       "\n",
       "   Adult Shelter Commercial Hotel  Family Cluster  \\\n",
       "0                           140.0            31.0   \n",
       "1                             NaN           204.0   \n",
       "2                           123.0            62.0   \n",
       "3                            99.0           910.0   \n",
       "4                             NaN           755.0   \n",
       "\n",
       "   Family with Children Commercial Hotel  Family with Children Shelter  \\\n",
       "0                                   64.0                        1202.0   \n",
       "1                                    NaN                         866.0   \n",
       "2                                  115.0                        1295.0   \n",
       "3                                    NaN                        2134.0   \n",
       "4                                    NaN                        1054.0   \n",
       "\n",
       "  updated_cdn  \n",
       "0         B01  \n",
       "1         B02  \n",
       "2         B03  \n",
       "3         B04  \n",
       "4         B05  "
      ]
     },
     "execution_count": 51,
     "metadata": {},
     "output_type": "execute_result"
    }
   ],
   "source": [
    "## verify\n",
    "dfshelter.head()"
   ]
  },
  {
   "cell_type": "code",
   "execution_count": 53,
   "metadata": {},
   "outputs": [
    {
     "data": {
      "text/html": [
       "<div>\n",
       "<style scoped>\n",
       "    .dataframe tbody tr th:only-of-type {\n",
       "        vertical-align: middle;\n",
       "    }\n",
       "\n",
       "    .dataframe tbody tr th {\n",
       "        vertical-align: top;\n",
       "    }\n",
       "\n",
       "    .dataframe thead th {\n",
       "        text-align: right;\n",
       "    }\n",
       "</style>\n",
       "<table border=\"1\" class=\"dataframe\">\n",
       "  <thead>\n",
       "    <tr style=\"text-align: right;\">\n",
       "      <th></th>\n",
       "      <th>Report Date</th>\n",
       "      <th>Borough</th>\n",
       "      <th>Community District</th>\n",
       "      <th>Census Type</th>\n",
       "      <th>Adult Family Commercial Hotel</th>\n",
       "      <th>Adult Family Shelter</th>\n",
       "      <th>Adult Shelter</th>\n",
       "      <th>Adult Shelter Commercial Hotel</th>\n",
       "      <th>Family Cluster</th>\n",
       "      <th>Family with Children Commercial Hotel</th>\n",
       "      <th>Family with Children Shelter</th>\n",
       "      <th>updated_cdn</th>\n",
       "    </tr>\n",
       "  </thead>\n",
       "  <tbody>\n",
       "    <tr>\n",
       "      <th>56</th>\n",
       "      <td>10/31/20</td>\n",
       "      <td>Staten Island</td>\n",
       "      <td>1</td>\n",
       "      <td>Individuals</td>\n",
       "      <td>NaN</td>\n",
       "      <td>NaN</td>\n",
       "      <td>NaN</td>\n",
       "      <td>NaN</td>\n",
       "      <td>NaN</td>\n",
       "      <td>NaN</td>\n",
       "      <td>94.0</td>\n",
       "      <td>S01</td>\n",
       "    </tr>\n",
       "    <tr>\n",
       "      <th>57</th>\n",
       "      <td>10/31/20</td>\n",
       "      <td>Staten Island</td>\n",
       "      <td>2</td>\n",
       "      <td>Individuals</td>\n",
       "      <td>NaN</td>\n",
       "      <td>NaN</td>\n",
       "      <td>NaN</td>\n",
       "      <td>NaN</td>\n",
       "      <td>NaN</td>\n",
       "      <td>NaN</td>\n",
       "      <td>NaN</td>\n",
       "      <td>S02</td>\n",
       "    </tr>\n",
       "    <tr>\n",
       "      <th>58</th>\n",
       "      <td>10/31/20</td>\n",
       "      <td>Staten Island</td>\n",
       "      <td>3</td>\n",
       "      <td>Individuals</td>\n",
       "      <td>NaN</td>\n",
       "      <td>NaN</td>\n",
       "      <td>NaN</td>\n",
       "      <td>NaN</td>\n",
       "      <td>NaN</td>\n",
       "      <td>NaN</td>\n",
       "      <td>NaN</td>\n",
       "      <td>S03</td>\n",
       "    </tr>\n",
       "  </tbody>\n",
       "</table>\n",
       "</div>"
      ],
      "text/plain": [
       "   Report Date        Borough  Community District  Census Type  \\\n",
       "56    10/31/20  Staten Island                   1  Individuals   \n",
       "57    10/31/20  Staten Island                   2  Individuals   \n",
       "58    10/31/20  Staten Island                   3  Individuals   \n",
       "\n",
       "    Adult Family Commercial Hotel  Adult Family Shelter  Adult Shelter  \\\n",
       "56                            NaN                   NaN            NaN   \n",
       "57                            NaN                   NaN            NaN   \n",
       "58                            NaN                   NaN            NaN   \n",
       "\n",
       "    Adult Shelter Commercial Hotel  Family Cluster  \\\n",
       "56                             NaN             NaN   \n",
       "57                             NaN             NaN   \n",
       "58                             NaN             NaN   \n",
       "\n",
       "    Family with Children Commercial Hotel  Family with Children Shelter  \\\n",
       "56                                    NaN                          94.0   \n",
       "57                                    NaN                           NaN   \n",
       "58                                    NaN                           NaN   \n",
       "\n",
       "   updated_cdn  \n",
       "56         S01  \n",
       "57         S02  \n",
       "58         S03  "
      ]
     },
     "execution_count": 53,
     "metadata": {},
     "output_type": "execute_result"
    }
   ],
   "source": [
    "## verifying staten island\n",
    "dfshelter.query(\"Borough == 'Staten Island'\").head(3)"
   ]
  },
  {
   "cell_type": "code",
   "execution_count": 55,
   "metadata": {},
   "outputs": [
    {
     "data": {
      "text/html": [
       "<div>\n",
       "<style scoped>\n",
       "    .dataframe tbody tr th:only-of-type {\n",
       "        vertical-align: middle;\n",
       "    }\n",
       "\n",
       "    .dataframe tbody tr th {\n",
       "        vertical-align: top;\n",
       "    }\n",
       "\n",
       "    .dataframe thead th {\n",
       "        text-align: right;\n",
       "    }\n",
       "</style>\n",
       "<table border=\"1\" class=\"dataframe\">\n",
       "  <thead>\n",
       "    <tr style=\"text-align: right;\">\n",
       "      <th></th>\n",
       "      <th>Report Date</th>\n",
       "      <th>Borough</th>\n",
       "      <th>Community District</th>\n",
       "      <th>Census Type</th>\n",
       "      <th>Adult Family Commercial Hotel</th>\n",
       "      <th>Adult Family Shelter</th>\n",
       "      <th>Adult Shelter</th>\n",
       "      <th>Adult Shelter Commercial Hotel</th>\n",
       "      <th>Family Cluster</th>\n",
       "      <th>Family with Children Commercial Hotel</th>\n",
       "      <th>Family with Children Shelter</th>\n",
       "      <th>updated_cdn</th>\n",
       "    </tr>\n",
       "  </thead>\n",
       "  <tbody>\n",
       "    <tr>\n",
       "      <th>12</th>\n",
       "      <td>10/31/20</td>\n",
       "      <td>Brooklyn</td>\n",
       "      <td>1</td>\n",
       "      <td>Individuals</td>\n",
       "      <td>NaN</td>\n",
       "      <td>145.0</td>\n",
       "      <td>330.0</td>\n",
       "      <td>227.0</td>\n",
       "      <td>NaN</td>\n",
       "      <td>101.0</td>\n",
       "      <td>NaN</td>\n",
       "      <td>K01</td>\n",
       "    </tr>\n",
       "    <tr>\n",
       "      <th>13</th>\n",
       "      <td>10/31/20</td>\n",
       "      <td>Brooklyn</td>\n",
       "      <td>2</td>\n",
       "      <td>Individuals</td>\n",
       "      <td>NaN</td>\n",
       "      <td>78.0</td>\n",
       "      <td>96.0</td>\n",
       "      <td>296.0</td>\n",
       "      <td>NaN</td>\n",
       "      <td>NaN</td>\n",
       "      <td>68.0</td>\n",
       "      <td>K02</td>\n",
       "    </tr>\n",
       "    <tr>\n",
       "      <th>14</th>\n",
       "      <td>10/31/20</td>\n",
       "      <td>Brooklyn</td>\n",
       "      <td>3</td>\n",
       "      <td>Individuals</td>\n",
       "      <td>NaN</td>\n",
       "      <td>NaN</td>\n",
       "      <td>31.0</td>\n",
       "      <td>100.0</td>\n",
       "      <td>69.0</td>\n",
       "      <td>235.0</td>\n",
       "      <td>487.0</td>\n",
       "      <td>K03</td>\n",
       "    </tr>\n",
       "  </tbody>\n",
       "</table>\n",
       "</div>"
      ],
      "text/plain": [
       "   Report Date   Borough  Community District  Census Type  \\\n",
       "12    10/31/20  Brooklyn                   1  Individuals   \n",
       "13    10/31/20  Brooklyn                   2  Individuals   \n",
       "14    10/31/20  Brooklyn                   3  Individuals   \n",
       "\n",
       "    Adult Family Commercial Hotel  Adult Family Shelter  Adult Shelter  \\\n",
       "12                            NaN                 145.0          330.0   \n",
       "13                            NaN                  78.0           96.0   \n",
       "14                            NaN                   NaN           31.0   \n",
       "\n",
       "    Adult Shelter Commercial Hotel  Family Cluster  \\\n",
       "12                           227.0             NaN   \n",
       "13                           296.0             NaN   \n",
       "14                           100.0            69.0   \n",
       "\n",
       "    Family with Children Commercial Hotel  Family with Children Shelter  \\\n",
       "12                                  101.0                           NaN   \n",
       "13                                    NaN                          68.0   \n",
       "14                                  235.0                         487.0   \n",
       "\n",
       "   updated_cdn  \n",
       "12         K01  \n",
       "13         K02  \n",
       "14         K03  "
      ]
     },
     "execution_count": 55,
     "metadata": {},
     "output_type": "execute_result"
    }
   ],
   "source": [
    "## verifying brooklyn\n",
    "dfshelter.query(\"Borough == 'Brooklyn'\").head(3)"
   ]
  },
  {
   "cell_type": "markdown",
   "metadata": {
    "id": "p-zecoVj4yVc"
   },
   "source": [
    "#### Reorder columns"
   ]
  },
  {
   "cell_type": "code",
   "execution_count": 57,
   "metadata": {
    "colab": {
     "base_uri": "https://localhost:8080/"
    },
    "id": "ZPlR5V7A4uTn",
    "outputId": "2387bb18-ab7d-49b5-83ad-402534cc9d92"
   },
   "outputs": [
    {
     "data": {
      "text/plain": [
       "['Report Date',\n",
       " 'Borough',\n",
       " 'Community District',\n",
       " 'Census Type',\n",
       " 'Adult Family Commercial Hotel',\n",
       " 'Adult Family Shelter',\n",
       " 'Adult Shelter',\n",
       " 'Adult Shelter Commercial Hotel',\n",
       " 'Family Cluster',\n",
       " 'Family with Children Commercial Hotel',\n",
       " 'Family with Children Shelter',\n",
       " 'updated_cdn']"
      ]
     },
     "execution_count": 57,
     "metadata": {},
     "output_type": "execute_result"
    }
   ],
   "source": [
    "## call columns into list\n",
    "list(dfshelter.columns)"
   ]
  },
  {
   "cell_type": "code",
   "execution_count": 59,
   "metadata": {
    "colab": {
     "base_uri": "https://localhost:8080/",
     "height": 496
    },
    "id": "i-TCGn8E4273",
    "outputId": "356bd10b-348a-42dd-a9e6-f2addc11f579"
   },
   "outputs": [
    {
     "data": {
      "text/html": [
       "<div>\n",
       "<style scoped>\n",
       "    .dataframe tbody tr th:only-of-type {\n",
       "        vertical-align: middle;\n",
       "    }\n",
       "\n",
       "    .dataframe tbody tr th {\n",
       "        vertical-align: top;\n",
       "    }\n",
       "\n",
       "    .dataframe thead th {\n",
       "        text-align: right;\n",
       "    }\n",
       "</style>\n",
       "<table border=\"1\" class=\"dataframe\">\n",
       "  <thead>\n",
       "    <tr style=\"text-align: right;\">\n",
       "      <th></th>\n",
       "      <th>Report Date</th>\n",
       "      <th>Borough</th>\n",
       "      <th>Community District</th>\n",
       "      <th>updated_cdn</th>\n",
       "      <th>Census Type</th>\n",
       "      <th>Adult Family Commercial Hotel</th>\n",
       "      <th>Adult Family Shelter</th>\n",
       "      <th>Adult Shelter</th>\n",
       "      <th>Adult Shelter Commercial Hotel</th>\n",
       "      <th>Family Cluster</th>\n",
       "      <th>Family with Children Commercial Hotel</th>\n",
       "      <th>Family with Children Shelter</th>\n",
       "    </tr>\n",
       "  </thead>\n",
       "  <tbody>\n",
       "    <tr>\n",
       "      <th>139</th>\n",
       "      <td>12/31/20</td>\n",
       "      <td>Brooklyn</td>\n",
       "      <td>10</td>\n",
       "      <td>K10</td>\n",
       "      <td>Individuals</td>\n",
       "      <td>NaN</td>\n",
       "      <td>NaN</td>\n",
       "      <td>NaN</td>\n",
       "      <td>NaN</td>\n",
       "      <td>NaN</td>\n",
       "      <td>NaN</td>\n",
       "      <td>NaN</td>\n",
       "    </tr>\n",
       "    <tr>\n",
       "      <th>3114</th>\n",
       "      <td>2/28/23</td>\n",
       "      <td>Queens</td>\n",
       "      <td>5</td>\n",
       "      <td>Q05</td>\n",
       "      <td>Individuals</td>\n",
       "      <td>NaN</td>\n",
       "      <td>NaN</td>\n",
       "      <td>191.0</td>\n",
       "      <td>NaN</td>\n",
       "      <td>NaN</td>\n",
       "      <td>NaN</td>\n",
       "      <td>283.0</td>\n",
       "    </tr>\n",
       "    <tr>\n",
       "      <th>2923</th>\n",
       "      <td>11/30/22</td>\n",
       "      <td>Manhattan</td>\n",
       "      <td>3</td>\n",
       "      <td>M03</td>\n",
       "      <td>Individuals</td>\n",
       "      <td>NaN</td>\n",
       "      <td>NaN</td>\n",
       "      <td>501.0</td>\n",
       "      <td>235.0</td>\n",
       "      <td>NaN</td>\n",
       "      <td>NaN</td>\n",
       "      <td>328.0</td>\n",
       "    </tr>\n",
       "    <tr>\n",
       "      <th>1888</th>\n",
       "      <td>6/30/19</td>\n",
       "      <td>Staten Island</td>\n",
       "      <td>3</td>\n",
       "      <td>S03</td>\n",
       "      <td>Individuals</td>\n",
       "      <td>NaN</td>\n",
       "      <td>NaN</td>\n",
       "      <td>NaN</td>\n",
       "      <td>NaN</td>\n",
       "      <td>NaN</td>\n",
       "      <td>NaN</td>\n",
       "      <td>NaN</td>\n",
       "    </tr>\n",
       "    <tr>\n",
       "      <th>2359</th>\n",
       "      <td>3/31/20</td>\n",
       "      <td>Staten Island</td>\n",
       "      <td>2</td>\n",
       "      <td>S02</td>\n",
       "      <td>Individuals</td>\n",
       "      <td>NaN</td>\n",
       "      <td>NaN</td>\n",
       "      <td>NaN</td>\n",
       "      <td>NaN</td>\n",
       "      <td>NaN</td>\n",
       "      <td>NaN</td>\n",
       "      <td>NaN</td>\n",
       "    </tr>\n",
       "    <tr>\n",
       "      <th>574</th>\n",
       "      <td>7/31/21</td>\n",
       "      <td>Brooklyn</td>\n",
       "      <td>5</td>\n",
       "      <td>K05</td>\n",
       "      <td>Individuals</td>\n",
       "      <td>NaN</td>\n",
       "      <td>NaN</td>\n",
       "      <td>563.0</td>\n",
       "      <td>323.0</td>\n",
       "      <td>NaN</td>\n",
       "      <td>57.0</td>\n",
       "      <td>359.0</td>\n",
       "    </tr>\n",
       "    <tr>\n",
       "      <th>2936</th>\n",
       "      <td>11/30/22</td>\n",
       "      <td>Queens</td>\n",
       "      <td>4</td>\n",
       "      <td>Q04</td>\n",
       "      <td>Individuals</td>\n",
       "      <td>NaN</td>\n",
       "      <td>NaN</td>\n",
       "      <td>NaN</td>\n",
       "      <td>245.0</td>\n",
       "      <td>NaN</td>\n",
       "      <td>NaN</td>\n",
       "      <td>537.0</td>\n",
       "    </tr>\n",
       "    <tr>\n",
       "      <th>2860</th>\n",
       "      <td>10/31/22</td>\n",
       "      <td>Brooklyn</td>\n",
       "      <td>17</td>\n",
       "      <td>K17</td>\n",
       "      <td>Individuals</td>\n",
       "      <td>NaN</td>\n",
       "      <td>NaN</td>\n",
       "      <td>NaN</td>\n",
       "      <td>NaN</td>\n",
       "      <td>NaN</td>\n",
       "      <td>172.0</td>\n",
       "      <td>1137.0</td>\n",
       "    </tr>\n",
       "    <tr>\n",
       "      <th>888</th>\n",
       "      <td>2/28/22</td>\n",
       "      <td>Bronx</td>\n",
       "      <td>4</td>\n",
       "      <td>B04</td>\n",
       "      <td>Individuals</td>\n",
       "      <td>NaN</td>\n",
       "      <td>NaN</td>\n",
       "      <td>346.0</td>\n",
       "      <td>NaN</td>\n",
       "      <td>NaN</td>\n",
       "      <td>NaN</td>\n",
       "      <td>2111.0</td>\n",
       "    </tr>\n",
       "    <tr>\n",
       "      <th>442</th>\n",
       "      <td>4/30/21</td>\n",
       "      <td>Brooklyn</td>\n",
       "      <td>13</td>\n",
       "      <td>K13</td>\n",
       "      <td>Individuals</td>\n",
       "      <td>NaN</td>\n",
       "      <td>NaN</td>\n",
       "      <td>NaN</td>\n",
       "      <td>65.0</td>\n",
       "      <td>NaN</td>\n",
       "      <td>NaN</td>\n",
       "      <td>10.0</td>\n",
       "    </tr>\n",
       "  </tbody>\n",
       "</table>\n",
       "</div>"
      ],
      "text/plain": [
       "     Report Date        Borough  Community District updated_cdn  Census Type  \\\n",
       "139     12/31/20       Brooklyn                  10         K10  Individuals   \n",
       "3114     2/28/23         Queens                   5         Q05  Individuals   \n",
       "2923    11/30/22      Manhattan                   3         M03  Individuals   \n",
       "1888     6/30/19  Staten Island                   3         S03  Individuals   \n",
       "2359     3/31/20  Staten Island                   2         S02  Individuals   \n",
       "574      7/31/21       Brooklyn                   5         K05  Individuals   \n",
       "2936    11/30/22         Queens                   4         Q04  Individuals   \n",
       "2860    10/31/22       Brooklyn                  17         K17  Individuals   \n",
       "888      2/28/22          Bronx                   4         B04  Individuals   \n",
       "442      4/30/21       Brooklyn                  13         K13  Individuals   \n",
       "\n",
       "      Adult Family Commercial Hotel  Adult Family Shelter  Adult Shelter  \\\n",
       "139                             NaN                   NaN            NaN   \n",
       "3114                            NaN                   NaN          191.0   \n",
       "2923                            NaN                   NaN          501.0   \n",
       "1888                            NaN                   NaN            NaN   \n",
       "2359                            NaN                   NaN            NaN   \n",
       "574                             NaN                   NaN          563.0   \n",
       "2936                            NaN                   NaN            NaN   \n",
       "2860                            NaN                   NaN            NaN   \n",
       "888                             NaN                   NaN          346.0   \n",
       "442                             NaN                   NaN            NaN   \n",
       "\n",
       "      Adult Shelter Commercial Hotel  Family Cluster  \\\n",
       "139                              NaN             NaN   \n",
       "3114                             NaN             NaN   \n",
       "2923                           235.0             NaN   \n",
       "1888                             NaN             NaN   \n",
       "2359                             NaN             NaN   \n",
       "574                            323.0             NaN   \n",
       "2936                           245.0             NaN   \n",
       "2860                             NaN             NaN   \n",
       "888                              NaN             NaN   \n",
       "442                             65.0             NaN   \n",
       "\n",
       "      Family with Children Commercial Hotel  Family with Children Shelter  \n",
       "139                                     NaN                           NaN  \n",
       "3114                                    NaN                         283.0  \n",
       "2923                                    NaN                         328.0  \n",
       "1888                                    NaN                           NaN  \n",
       "2359                                    NaN                           NaN  \n",
       "574                                    57.0                         359.0  \n",
       "2936                                    NaN                         537.0  \n",
       "2860                                  172.0                        1137.0  \n",
       "888                                     NaN                        2111.0  \n",
       "442                                     NaN                          10.0  "
      ]
     },
     "execution_count": 59,
     "metadata": {},
     "output_type": "execute_result"
    }
   ],
   "source": [
    "## redorder and call\n",
    "dfshelter  = dfshelter[['Report Date',\n",
    " 'Borough',\n",
    " 'Community District',\n",
    " 'updated_cdn',\n",
    " 'Census Type',\n",
    " 'Adult Family Commercial Hotel',\n",
    " 'Adult Family Shelter',\n",
    " 'Adult Shelter',\n",
    " 'Adult Shelter Commercial Hotel',\n",
    " 'Family Cluster',\n",
    " 'Family with Children Commercial Hotel',\n",
    " 'Family with Children Shelter']]\n",
    "\n",
    "dfshelter.sample(10)"
   ]
  },
  {
   "cell_type": "markdown",
   "metadata": {
    "id": "dALYyuDw5WIR"
   },
   "source": [
    "## WILL DO IN CLASS next week Merge dataframes"
   ]
  },
  {
   "cell_type": "code",
   "execution_count": null,
   "metadata": {
    "colab": {
     "base_uri": "https://localhost:8080/",
     "height": 297
    },
    "id": "7OSrYWqu5iLU",
    "outputId": "cc7acc6b-de98-4b8a-dffc-ab87052336f3"
   },
   "outputs": [],
   "source": [
    "#call a few rows of census\n"
   ]
  },
  {
   "cell_type": "code",
   "execution_count": null,
   "metadata": {
    "colab": {
     "base_uri": "https://localhost:8080/",
     "height": 112
    },
    "id": "NGZksy175tiz",
    "outputId": "9ea34137-416c-44bc-92cf-a2f7f2219db8"
   },
   "outputs": [],
   "source": [
    "#call a few rows of snap\n"
   ]
  },
  {
   "cell_type": "code",
   "execution_count": null,
   "metadata": {
    "colab": {
     "base_uri": "https://localhost:8080/",
     "height": 887
    },
    "id": "hJSNCCGZ47TP",
    "outputId": "23df9642-af28-4ecc-8486-af49a1b743c6"
   },
   "outputs": [],
   "source": [
    "## merge 2 at a time\n"
   ]
  },
  {
   "cell_type": "code",
   "execution_count": null,
   "metadata": {},
   "outputs": [],
   "source": [
    "## Homework \n",
    "## merge shelter into previous dataframe"
   ]
  },
  {
   "cell_type": "code",
   "execution_count": null,
   "metadata": {
    "id": "hYZkZEKO5aLs"
   },
   "outputs": [],
   "source": [
    "## call shelter data\n"
   ]
  },
  {
   "cell_type": "code",
   "execution_count": null,
   "metadata": {
    "colab": {
     "base_uri": "https://localhost:8080/",
     "height": 904
    },
    "id": "ipOFVb8f6IEQ",
    "outputId": "12ac37d1-24dd-4e65-d261-06c6a408aa97"
   },
   "outputs": [],
   "source": [
    "## instead of 2 at a time, we do in one go:\n",
    "df = dfcensus.merge(dfsnap, on = \"updated_cdn\").merge(dfshelter, on = \"updated_cdn\")\n",
    "df"
   ]
  },
  {
   "cell_type": "code",
   "execution_count": null,
   "metadata": {
    "colab": {
     "base_uri": "https://localhost:8080/"
    },
    "id": "OfqTTJjN7WPL",
    "outputId": "2f3f499e-a6c8-47fb-ef98-90a43b75e059"
   },
   "outputs": [],
   "source": [
    "df.info()"
   ]
  }
 ],
 "metadata": {
  "colab": {
   "collapsed_sections": [
    "kN2Hjh2VzdHU",
    "o-tYzEX1znw1",
    "2F9zMVLQ2X0m",
    "dALYyuDw5WIR"
   ],
   "provenance": []
  },
  "kernelspec": {
   "display_name": "Python [conda env:base] *",
   "language": "python",
   "name": "conda-base-py"
  },
  "language_info": {
   "codemirror_mode": {
    "name": "ipython",
    "version": 3
   },
   "file_extension": ".py",
   "mimetype": "text/x-python",
   "name": "python",
   "nbconvert_exporter": "python",
   "pygments_lexer": "ipython3",
   "version": "3.12.7"
  }
 },
 "nbformat": 4,
 "nbformat_minor": 4
}
