{
 "cells": [
  {
   "cell_type": "code",
   "execution_count": null,
   "id": "820f2eb6-5f51-4643-a0cb-f0342c5fe6de",
   "metadata": {},
   "outputs": [],
   "source": []
  }
 ],
 "metadata": {
  "kernelspec": {
   "display_name": "",
   "name": ""
  },
  "language_info": {
   "name": ""
  }
 },
 "nbformat": 4,
 "nbformat_minor": 5
}
