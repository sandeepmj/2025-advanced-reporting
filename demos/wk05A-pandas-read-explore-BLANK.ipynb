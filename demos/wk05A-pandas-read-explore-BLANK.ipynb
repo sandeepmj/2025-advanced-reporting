{
 "cells": [
  {
   "cell_type": "markdown",
   "metadata": {
    "id": "tQHRcUlBeieU"
   },
   "source": [
    "# And now introducing Pandas..."
   ]
  },
  {
   "cell_type": "markdown",
   "metadata": {
    "id": "sPvbJUgteieV"
   },
   "source": [
    "- Named after a cute animal?\n",
    "- Open source (free) Python library.\n",
    "- Most widely used package for data analysis.\n",
    "- Future-proof: used for AI and machine learning tasks."
   ]
  },
  {
   "cell_type": "markdown",
   "metadata": {
    "id": "eoxby-SPBCjT"
   },
   "source": [
    "# Import & Explore\n",
    "\n",
    "Before we can analyze data, we have to learn how to:\n",
    "\n",
    "- import different types of spreadsheet files,\n",
    "- get a quick sense of what our data holds,\n",
    "- explore different sections of our data in Pandas context.\n",
    "- call different rows of data"
   ]
  },
  {
   "cell_type": "markdown",
   "metadata": {
    "id": "H15_HoboL_ii"
   },
   "source": [
    "## Import Pandas\n",
    "\n",
    "Unlike the \"Vanilla Python\" we've written so far, we have to import Pandas which brings ALL its functionality into our iPython Notebook (```.ipynb```).\n"
   ]
  },
  {
   "cell_type": "code",
   "execution_count": 1,
   "metadata": {
    "id": "QQRPuja6eieW"
   },
   "outputs": [],
   "source": [
    "## import pandas\n",
    "import pandas as pd"
   ]
  },
  {
   "cell_type": "markdown",
   "metadata": {
    "id": "64zvOr8_MGUL"
   },
   "source": [
    "## Import CSV data into our Colab notebook\n",
    "\n",
    "Download this data:\n",
    "\n",
    "\n",
    "*   <a href=\"https://github.com/sandeepmj/datasets/blob/main/importing/insurance.csv\">Insurance by region</a>\n",
    "\n"
   ]
  },
  {
   "cell_type": "markdown",
   "metadata": {
    "id": "dvFmrkip43C9"
   },
   "source": [
    "### Read a CSV file into your notebook\n",
    "\n",
    "#### Bring in ```insurance.csv``` into Pandas\n",
    "\n",
    "- You must provide a ```path``` to the file you are importing.\n",
    "\n",
    "Syntax: ```pd.read_csv(\"path_to_file\")```"
   ]
  },
  {
   "cell_type": "code",
   "execution_count": null,
   "metadata": {
    "colab": {
     "base_uri": "https://localhost:8080/",
     "height": 423
    },
    "id": "IizhF__t40NM",
    "outputId": "71aa346c-8a9d-4150-fe03-b99ca9abfe7f"
   },
   "outputs": [],
   "source": [
    "## simply read the csv file when data file is at the same level\n"
   ]
  },
  {
   "cell_type": "markdown",
   "metadata": {},
   "source": [
    "#### Folder path\n",
    "\n",
    "Now duplicate ```insurance.csv``` and move it into a folder called ```data_raw```.\n",
    "\n"
   ]
  },
  {
   "cell_type": "code",
   "execution_count": null,
   "metadata": {
    "colab": {
     "base_uri": "https://localhost:8080/",
     "height": 443
    },
    "id": "yH_sH_f1eieX",
    "outputId": "411cbaac-604c-42a4-8c77-fa5a9daf5ec7"
   },
   "outputs": [],
   "source": [
    "## simply provide the path to read the csv file when data file is in a different folder\n",
    "\n"
   ]
  },
  {
   "cell_type": "markdown",
   "metadata": {
    "id": "ggzzmH7geieX"
   },
   "source": [
    "### Read and hold CSV content into a ```dataframe```\n",
    "\n",
    "The naming convention is to call it a ```df```"
   ]
  },
  {
   "cell_type": "code",
   "execution_count": null,
   "metadata": {
    "id": "Vk_1QahueieX"
   },
   "outputs": [],
   "source": [
    "## read and store csv in a datafram\n"
   ]
  },
  {
   "cell_type": "markdown",
   "metadata": {
    "id": "hVVFZkQ5eieX"
   },
   "source": [
    "## Explore our dataframe"
   ]
  },
  {
   "cell_type": "code",
   "execution_count": null,
   "metadata": {
    "colab": {
     "base_uri": "https://localhost:8080/",
     "height": 423
    },
    "id": "IPUlKwNneieY",
    "outputId": "f15411ba-014b-4d93-9205-8f63e7143347"
   },
   "outputs": [],
   "source": [
    "## call the df\n",
    "## returns the first 5 and last 5 rows\n"
   ]
  },
  {
   "cell_type": "code",
   "execution_count": null,
   "metadata": {
    "colab": {
     "base_uri": "https://localhost:8080/",
     "height": 204
    },
    "id": "nVpomUJDUJeL",
    "outputId": "7d3fd66f-942a-4590-d967-95e43e8a0e4b"
   },
   "outputs": [],
   "source": [
    "## type df\n",
    "\n"
   ]
  },
  {
   "cell_type": "code",
   "execution_count": null,
   "metadata": {
    "colab": {
     "base_uri": "https://localhost:8080/",
     "height": 206
    },
    "id": "lYkZ0ByVeieY",
    "outputId": "05a7edb6-d588-4f11-ecac-c6d47dd609f3"
   },
   "outputs": [],
   "source": [
    "## call the top only\n",
    "## returns first 5\n"
   ]
  },
  {
   "cell_type": "code",
   "execution_count": null,
   "metadata": {
    "colab": {
     "base_uri": "https://localhost:8080/",
     "height": 143
    },
    "id": "ZKbKhwAveieY",
    "outputId": "c80b36d0-f9da-421d-afb4-71a41712be8c"
   },
   "outputs": [],
   "source": [
    "## call the top n rows\n"
   ]
  },
  {
   "cell_type": "code",
   "execution_count": null,
   "metadata": {
    "colab": {
     "base_uri": "https://localhost:8080/",
     "height": 206
    },
    "id": "nbFsLb_reieY",
    "outputId": "72394f7d-8a89-4c0e-f17b-e184a6984bfc"
   },
   "outputs": [],
   "source": [
    "## call the last 5\n"
   ]
  },
  {
   "cell_type": "code",
   "execution_count": null,
   "metadata": {
    "colab": {
     "base_uri": "https://localhost:8080/",
     "height": 425
    },
    "id": "YBfhLg2DeieY",
    "outputId": "5081ff3d-b103-42fb-d1c9-300414429687"
   },
   "outputs": [],
   "source": [
    "## call the last n\n"
   ]
  },
  {
   "cell_type": "code",
   "execution_count": null,
   "metadata": {
    "colab": {
     "base_uri": "https://localhost:8080/",
     "height": 676
    },
    "id": "PTIgg3zgeieY",
    "outputId": "d8fe5800-5962-4b5e-f156-49323d7383dd"
   },
   "outputs": [],
   "source": [
    "## call a random sample n number of rows\n"
   ]
  },
  {
   "cell_type": "code",
   "execution_count": null,
   "metadata": {
    "colab": {
     "base_uri": "https://localhost:8080/"
    },
    "id": "rs3-DheOeieY",
    "outputId": "3d6066c1-6f43-49eb-87f9-33d01f6b2d11"
   },
   "outputs": [],
   "source": [
    "## get basic overview of the data\n",
    "\n"
   ]
  },
  {
   "cell_type": "markdown",
   "metadata": {},
   "source": [
    "### Dataframe objects\n",
    "Like \"Vanilla Python\" floats are floats, integers are integers.\n",
    "\n",
    "The big difference is that a ```string``` value is known as an ```object```."
   ]
  },
  {
   "cell_type": "markdown",
   "metadata": {
    "id": "SgA4tAyc7Vr2"
   },
   "source": [
    "## Importing a simple Excel file\n",
    "\n",
    "Download this    <a href=\"https://github.com/sandeepmj/datasets/blob/main/importing/global_life.xlsx\">Life expectancy called ```global_life.xlsx``` </a> and then read it into Pandas"
   ]
  },
  {
   "cell_type": "code",
   "execution_count": null,
   "metadata": {
    "colab": {
     "base_uri": "https://localhost:8080/",
     "height": 423
    },
    "id": "8V8A7FMC7Xqs",
    "outputId": "a9362daa-f404-47b1-e4b8-88917bc9c35c"
   },
   "outputs": [],
   "source": [
    "## step 1. confirm that read returns a df\n",
    "## step 2. place it into a df, call the df\n"
   ]
  },
  {
   "cell_type": "code",
   "execution_count": null,
   "metadata": {
    "colab": {
     "base_uri": "https://localhost:8080/",
     "height": 519
    },
    "id": "nrD6L2BAeieZ",
    "outputId": "d8c3a1ec-64dc-4792-fa64-8e1f5e2d8943"
   },
   "outputs": [],
   "source": [
    "## call the top 15 values\n"
   ]
  },
  {
   "cell_type": "code",
   "execution_count": null,
   "metadata": {
    "colab": {
     "base_uri": "https://localhost:8080/",
     "height": 143
    },
    "id": "aFFuzR5EeieZ",
    "outputId": "0a8cda65-d7b0-4a4d-abb9-1df2a1ca4c75"
   },
   "outputs": [],
   "source": [
    "## call the last 3 values\n"
   ]
  },
  {
   "cell_type": "code",
   "execution_count": null,
   "metadata": {
    "colab": {
     "base_uri": "https://localhost:8080/",
     "height": 457
    },
    "id": "-jc2BX4LeieZ",
    "outputId": "d383603c-9b91-455d-c27f-cc89a80579c5"
   },
   "outputs": [],
   "source": [
    "## show 13 random rows\n"
   ]
  },
  {
   "cell_type": "markdown",
   "metadata": {},
   "source": [
    "## Open this ```.xlsx``` file using Excel\n",
    "\n",
    "What do you notice?"
   ]
  },
  {
   "cell_type": "markdown",
   "metadata": {
    "id": "E0EcSK-ZNR-p"
   },
   "source": [
    "## Read a specific sheet in an Excel file\n",
    "\n",
    "From ```global_life.xlsx```, import only ```global life expectancy``` sheet (Target  from an .xlsx file)\n",
    "\n",
    "```pd.read_excel(\"path_to_file\", sheet_name = \"name of sheet\")```"
   ]
  },
  {
   "cell_type": "code",
   "execution_count": null,
   "metadata": {
    "colab": {
     "base_uri": "https://localhost:8080/",
     "height": 982
    },
    "id": "ghD4bqxeNgjW",
    "outputId": "703a04ce-9cca-402a-ee56-00f904e82200"
   },
   "outputs": [],
   "source": [
    "## read the excel file and provide the sheet_name parameter\n"
   ]
  },
  {
   "cell_type": "markdown",
   "metadata": {},
   "source": [
    "But if you have a Excel workbook with hundred of sheets, you won't want to type in the name of each one. You'll also want to automate it. So we'll reference the sheet with as a number instead:\n",
    "\n",
    "```pd.read_excel(\"path_to_file\", sheet_name = \"sheet_number\")```"
   ]
  },
  {
   "cell_type": "code",
   "execution_count": null,
   "metadata": {
    "colab": {
     "base_uri": "https://localhost:8080/",
     "height": 982
    },
    "id": "8HVv_qI2eieZ",
    "outputId": "c07842aa-ef22-4ec1-e4eb-e0352f2b4526"
   },
   "outputs": [],
   "source": [
    "## read the excel file and provide the sheet_name parameter\n"
   ]
  },
  {
   "cell_type": "markdown",
   "metadata": {
    "id": "zjFvAoTXeieZ"
   },
   "source": [
    "## Special import cases\n",
    "\n",
    "Download this <a href=\"https://github.com/sandeepmj/datasets/blob/main/importing/SBA_Disaster_Loan_Data_FY18.xlsx\">SBA disaster loan FY 2018</a> file.\n",
    "\n",
    "\n",
    "Import the sheet ```FY18 Business``` from ```sba-disaster-loans-18.xlsx```."
   ]
  },
  {
   "cell_type": "code",
   "execution_count": null,
   "metadata": {
    "colab": {
     "base_uri": "https://localhost:8080/",
     "height": 704
    },
    "id": "rN253dmxeiea",
    "outputId": "43086a71-dbc7-470b-9cb4-3b26bc2c7192"
   },
   "outputs": [],
   "source": [
    "## import here\n",
    "## what do you that's not right?\n"
   ]
  },
  {
   "cell_type": "markdown",
   "metadata": {},
   "source": [
    "## Does anything appear strange?"
   ]
  },
  {
   "cell_type": "markdown",
   "metadata": {
    "id": "DrwLv5f7UXi2"
   },
   "source": [
    "## Read a specific sheet in an Excel file but **this time skip the first few rows of formatting**\n",
    "\n",
    "From ```SBA_Disaster_Loan_Data_FY18.xlsx```, import ```FY18 Business``` sheet (You have to skip the first 5 rows)\n"
   ]
  },
  {
   "cell_type": "code",
   "execution_count": null,
   "metadata": {
    "colab": {
     "base_uri": "https://localhost:8080/",
     "height": 617
    },
    "id": "JvbYfwK7U13v",
    "outputId": "c9a67b29-af4d-416d-f977-25ad8aae9664"
   },
   "outputs": [],
   "source": [
    "## read the excel file, provide the sheet_name parameter AND the skiprows parameter\n",
    "## once it works, store in df\n"
   ]
  }
 ],
 "metadata": {
  "celltoolbar": "Slideshow",
  "colab": {
   "provenance": []
  },
  "kernelspec": {
   "display_name": "Python [conda env:base] *",
   "language": "python",
   "name": "conda-base-py"
  },
  "language_info": {
   "codemirror_mode": {
    "name": "ipython",
    "version": 3
   },
   "file_extension": ".py",
   "mimetype": "text/x-python",
   "name": "python",
   "nbconvert_exporter": "python",
   "pygments_lexer": "ipython3",
   "version": "3.12.7"
  }
 },
 "nbformat": 4,
 "nbformat_minor": 4
}
