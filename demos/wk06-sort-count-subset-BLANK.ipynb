{
 "cells": [
  {
   "cell_type": "markdown",
   "metadata": {
    "id": "PTYY-5ZgQanj"
   },
   "source": [
    "# Sorting, Counting, Subsetting"
   ]
  },
  {
   "cell_type": "markdown",
   "metadata": {
    "id": "YiVZ8MSIQvtB"
   },
   "source": [
    "## Import libraries"
   ]
  },
  {
   "cell_type": "code",
   "execution_count": null,
   "metadata": {
    "id": "t1dS8JNuQanp"
   },
   "outputs": [],
   "source": [
    "## import libraries\n"
   ]
  },
  {
   "cell_type": "markdown",
   "metadata": {
    "id": "m327Z0HZQanq"
   },
   "source": [
    "## Upload Olympics datasets to this notebook.\n",
    "\n",
    "### Import ```olympics-summer.csv``` and store in a dataframe called ```dfs``` (<a href=\"https://raw.githubusercontent.com/sandeepmj/datasets/main/olympics-summer.csv\">link</a>).\n",
    "\n",
    "\n",
    "### Import ```olympics-winter.csv``` and store in a dataframe called ```dfw``` (<a href=\"https://raw.githubusercontent.com/sandeepmj/datasets/main/olympics-winter.csv\">link</a>)."
   ]
  }
 ],
 "metadata": {
  "celltoolbar": "Slideshow",
  "colab": {
   "provenance": []
  },
  "kernelspec": {
   "display_name": "Python [conda env:base] *",
   "language": "python",
   "name": "conda-base-py"
  },
  "language_info": {
   "codemirror_mode": {
    "name": "ipython",
    "version": 3
   },
   "file_extension": ".py",
   "mimetype": "text/x-python",
   "name": "python",
   "nbconvert_exporter": "python",
   "pygments_lexer": "ipython3",
   "version": "3.12.7"
  }
 },
 "nbformat": 4,
 "nbformat_minor": 4
}
