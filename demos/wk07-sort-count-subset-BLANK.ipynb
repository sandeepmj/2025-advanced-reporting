{
 "cells": [
  {
   "cell_type": "markdown",
   "metadata": {
    "id": "PTYY-5ZgQanj"
   },
   "source": [
    "# Sorting, Counting, Subsetting"
   ]
  },
  {
   "cell_type": "markdown",
   "metadata": {
    "id": "YiVZ8MSIQvtB"
   },
   "source": [
    "## Import libraries"
   ]
  },
  {
   "cell_type": "code",
   "execution_count": null,
   "metadata": {
    "executionInfo": {
     "elapsed": 473,
     "status": "ok",
     "timestamp": 1711426003117,
     "user": {
      "displayName": "Sandeep Junnarkar",
      "userId": "15658885848901522782"
     },
     "user_tz": 240
    },
    "id": "t1dS8JNuQanp"
   },
   "outputs": [],
   "source": [
    "## import libraries\n"
   ]
  },
  {
   "cell_type": "markdown",
   "metadata": {
    "id": "m327Z0HZQanq"
   },
   "source": [
    "## Upload Olympics datasets to this notebook.\n",
    "\n",
    "### Import ```olympics-summer.csv``` and store in a dataframe called ```dfs``` (<a href=\"https://raw.githubusercontent.com/sandeepmj/datasets/main/olympics-summer.csv\">link</a>).\n",
    "\n",
    "\n",
    "### Import ```olympics-winter.csv``` and store in a dataframe called ```dfw``` (<a href=\"https://raw.githubusercontent.com/sandeepmj/datasets/main/olympics-winter.csv\">link</a>)."
   ]
  },
  {
   "cell_type": "code",
   "execution_count": null,
   "metadata": {
    "colab": {
     "base_uri": "https://localhost:8080/",
     "height": 736
    },
    "executionInfo": {
     "elapsed": 1660,
     "status": "ok",
     "timestamp": 1711426004776,
     "user": {
      "displayName": "Sandeep Junnarkar",
      "userId": "15658885848901522782"
     },
     "user_tz": 240
    },
    "id": "8t3VRwaBQanq",
    "outputId": "233c2f5d-a475-4f30-e673-a49b29672cab"
   },
   "outputs": [],
   "source": [
    "## import summer data\n"
   ]
  },
  {
   "cell_type": "code",
   "execution_count": null,
   "metadata": {
    "colab": {
     "base_uri": "https://localhost:8080/",
     "height": 805
    },
    "executionInfo": {
     "elapsed": 1315,
     "status": "ok",
     "timestamp": 1711426006090,
     "user": {
      "displayName": "Sandeep Junnarkar",
      "userId": "15658885848901522782"
     },
     "user_tz": 240
    },
    "id": "020gARVnQanr",
    "outputId": "d974a969-97e5-4be8-b6d2-ec7ed0ac1394"
   },
   "outputs": [],
   "source": [
    "## import winter data\n"
   ]
  },
  {
   "cell_type": "markdown",
   "metadata": {
    "id": "E5fU1dgxQans"
   },
   "source": [
    "## Get a sense of the data"
   ]
  },
  {
   "cell_type": "code",
   "execution_count": null,
   "metadata": {
    "colab": {
     "base_uri": "https://localhost:8080/"
    },
    "executionInfo": {
     "elapsed": 877,
     "status": "ok",
     "timestamp": 1711426006965,
     "user": {
      "displayName": "Sandeep Junnarkar",
      "userId": "15658885848901522782"
     },
     "user_tz": 240
    },
    "id": "iwBtMtplQans",
    "outputId": "93eae2c6-8456-48b3-b54a-f5149d0a4b55"
   },
   "outputs": [],
   "source": [
    "## SUMMER\n",
    "## what exactly do we have: columns, datatypes, etc.\n"
   ]
  },
  {
   "cell_type": "code",
   "execution_count": null,
   "metadata": {
    "colab": {
     "base_uri": "https://localhost:8080/"
    },
    "executionInfo": {
     "elapsed": 5,
     "status": "ok",
     "timestamp": 1711426007122,
     "user": {
      "displayName": "Sandeep Junnarkar",
      "userId": "15658885848901522782"
     },
     "user_tz": 240
    },
    "id": "MhEqovNFQans",
    "outputId": "73428177-8234-4761-d755-da4992bb6337"
   },
   "outputs": [],
   "source": [
    "## WINTER\n",
    "## what exactly do we have: columns, datatypes, etc.\n"
   ]
  },
  {
   "cell_type": "markdown",
   "metadata": {
    "id": "KxFwReg7FG7P"
   },
   "source": [
    "## Subsetting dataframes into smaller, targeted dataframes\n",
    "\n",
    "When you subset a dataframe, you are filtering down based on selecting specific columns. We want to winnow a large dataset to manageable size by including only relevant columns.\n",
    "\n",
    "There are two ways of doing this. One simple method is very common (you'll see many people use it), but the other method (also simple) is way more powerful and flexible."
   ]
  },
  {
   "cell_type": "markdown",
   "metadata": {
    "id": "ycqXdhZMi0Mn"
   },
   "source": [
    "### Method 1 - Pass a list of multiple column headers, it returns dataframe with only those columns\n",
    "This is like calling a series (```df[\"Year\"]```), but multiple columns:\n",
    "\n",
    "####  ```df[[\"Column 1\", \"Column 2\"]]```"
   ]
  },
  {
   "cell_type": "code",
   "execution_count": null,
   "metadata": {
    "colab": {
     "base_uri": "https://localhost:8080/",
     "height": 423
    },
    "executionInfo": {
     "elapsed": 4,
     "status": "ok",
     "timestamp": 1711426007122,
     "user": {
      "displayName": "Sandeep Junnarkar",
      "userId": "15658885848901522782"
     },
     "user_tz": 240
    },
    "id": "OwmuRSMFi0Mn",
    "outputId": "2e160c08-80fa-4abb-bdca-2ea778f65684"
   },
   "outputs": [],
   "source": [
    "## Create a dataframe that for only summer games years and cities\n"
   ]
  },
  {
   "cell_type": "markdown",
   "metadata": {
    "id": "lgvY_W7Ji0Mn"
   },
   "source": [
    "## Sorting by single value\n",
    "\n",
    "```dataframe.sort_values(by=\"Value 1\", ascending = True)``` for A-Z or smaller numbers to bigger numbers\n",
    "\n",
    "```ascending = False``` for Z-A or bigger to smaller numbers."
   ]
  },
  {
   "cell_type": "code",
   "execution_count": null,
   "metadata": {
    "colab": {
     "base_uri": "https://localhost:8080/",
     "height": 753
    },
    "executionInfo": {
     "elapsed": 694,
     "status": "ok",
     "timestamp": 1711426008578,
     "user": {
      "displayName": "Sandeep Junnarkar",
      "userId": "15658885848901522782"
     },
     "user_tz": 240
    },
    "id": "K-Xfm4dui0Mn",
    "outputId": "6f22b3ef-857d-4c07-bb14-798a1aef497f"
   },
   "outputs": [],
   "source": [
    "## sort by athlete names A-Z for winter olympics\n"
   ]
  },
  {
   "cell_type": "code",
   "execution_count": null,
   "metadata": {
    "colab": {
     "base_uri": "https://localhost:8080/",
     "height": 822
    },
    "executionInfo": {
     "elapsed": 551,
     "status": "ok",
     "timestamp": 1711426009127,
     "user": {
      "displayName": "Sandeep Junnarkar",
      "userId": "15658885848901522782"
     },
     "user_tz": 240
    },
    "id": "LP4hdRwZQLvO",
    "outputId": "e28d7c08-b556-4863-812f-c86d534da516"
   },
   "outputs": [],
   "source": [
    "## sort city z-a\n"
   ]
  },
  {
   "cell_type": "markdown",
   "metadata": {
    "id": "twYaCOZWi0Mn"
   },
   "source": [
    "## Sorting by multiple values\n",
    "\n",
    "```dataframe.sort_values(by=[\"Value 1\", \"Value 2\"], ascending = True)``` for A-Z or smaller numbers to bigger numbers\n",
    "\n",
    "```ascending = False``` for Z-A or bigger to smaller numbers.\n"
   ]
  },
  {
   "cell_type": "code",
   "execution_count": null,
   "metadata": {
    "colab": {
     "base_uri": "https://localhost:8080/",
     "height": 788
    },
    "executionInfo": {
     "elapsed": 443,
     "status": "ok",
     "timestamp": 1711426009569,
     "user": {
      "displayName": "Sandeep Junnarkar",
      "userId": "15658885848901522782"
     },
     "user_tz": 240
    },
    "id": "LXtaNGS3i0Mn",
    "outputId": "bd7f7c0a-c3fb-42a6-88b4-8f1e362c177c",
    "scrolled": true
   },
   "outputs": [],
   "source": [
    "## Sort by values (City and Year) for winter olympics\n"
   ]
  },
  {
   "cell_type": "code",
   "execution_count": null,
   "metadata": {
    "colab": {
     "base_uri": "https://localhost:8080/",
     "height": 805
    },
    "executionInfo": {
     "elapsed": 332,
     "status": "ok",
     "timestamp": 1711426009900,
     "user": {
      "displayName": "Sandeep Junnarkar",
      "userId": "15658885848901522782"
     },
     "user_tz": 240
    },
    "id": "oO7yaUHz6whX",
    "outputId": "78b12d3e-50c9-4fc6-a8ee-23b8847b5bbd"
   },
   "outputs": [],
   "source": [
    "## sort by year and then city\n"
   ]
  },
  {
   "cell_type": "code",
   "execution_count": null,
   "metadata": {
    "colab": {
     "base_uri": "https://localhost:8080/",
     "height": 788
    },
    "executionInfo": {
     "elapsed": 3,
     "status": "ok",
     "timestamp": 1711426009900,
     "user": {
      "displayName": "Sandeep Junnarkar",
      "userId": "15658885848901522782"
     },
     "user_tz": 240
    },
    "id": "EeaMZVWei0Mn",
    "outputId": "a74afedc-2e68-4386-8eb6-f8a59d2916d2"
   },
   "outputs": [],
   "source": [
    "## sort by city and year but descending for summer games\n"
   ]
  },
  {
   "cell_type": "code",
   "execution_count": null,
   "metadata": {
    "colab": {
     "base_uri": "https://localhost:8080/",
     "height": 788
    },
    "executionInfo": {
     "elapsed": 200,
     "status": "ok",
     "timestamp": 1711426010098,
     "user": {
      "displayName": "Sandeep Junnarkar",
      "userId": "15658885848901522782"
     },
     "user_tz": 240
    },
    "id": "OeKdcLnfi0Mn",
    "outputId": "3d355cd6-3c90-4d4c-d7b7-aaf64c54a490"
   },
   "outputs": [],
   "source": [
    "## you can store into a new df\n"
   ]
  },
  {
   "cell_type": "markdown",
   "metadata": {
    "id": "ci_-fXr3Qant"
   },
   "source": [
    "## Please don't open till instructed"
   ]
  },
  {
   "cell_type": "markdown",
   "metadata": {
    "id": "Xeu0qe06i0Mn"
   },
   "source": [
    "### Should Winter and Summer data remain separate?\n",
    "\n",
    "### What if we want to know total gold medals for any country?\n",
    "\n",
    "### But if we combine them, how to we easily distinguish between summer and winter?"
   ]
  },
  {
   "cell_type": "markdown",
   "metadata": {
    "id": "-o1rbsaWVNZ5"
   },
   "source": [
    "### Creating a new column with a default value"
   ]
  },
  {
   "cell_type": "code",
   "execution_count": null,
   "metadata": {
    "colab": {
     "base_uri": "https://localhost:8080/",
     "height": 345
    },
    "executionInfo": {
     "elapsed": 3,
     "status": "ok",
     "timestamp": 1711426010098,
     "user": {
      "displayName": "Sandeep Junnarkar",
      "userId": "15658885848901522782"
     },
     "user_tz": 240
    },
    "id": "iqjWlqJwQant",
    "outputId": "0db80ad2-aa0b-4429-97f7-1af882e30df1"
   },
   "outputs": [],
   "source": [
    "## In the summer dataframe, add \"Season\" column with the value \"Summer\"\n"
   ]
  },
  {
   "cell_type": "code",
   "execution_count": null,
   "metadata": {
    "colab": {
     "base_uri": "https://localhost:8080/",
     "height": 483
    },
    "executionInfo": {
     "elapsed": 526,
     "status": "ok",
     "timestamp": 1711426010621,
     "user": {
      "displayName": "Sandeep Junnarkar",
      "userId": "15658885848901522782"
     },
     "user_tz": 240
    },
    "id": "UcGdH1GRQant",
    "outputId": "3d4e0593-acff-4a95-a741-5c8c12c308e9"
   },
   "outputs": [],
   "source": [
    "## In the winter dataframe, add \"Season\" column with the value \"Winter\"\n"
   ]
  },
  {
   "cell_type": "code",
   "execution_count": null,
   "metadata": {
    "colab": {
     "base_uri": "https://localhost:8080/"
    },
    "executionInfo": {
     "elapsed": 2,
     "status": "ok",
     "timestamp": 1711426010621,
     "user": {
      "displayName": "Sandeep Junnarkar",
      "userId": "15658885848901522782"
     },
     "user_tz": 240
    },
    "id": "SZLEZIHii0Mn",
    "outputId": "d99e8f7d-baec-4b3f-e265-7931d80e4a42"
   },
   "outputs": [],
   "source": [
    "## are the two column headers identical?\n"
   ]
  },
  {
   "cell_type": "code",
   "execution_count": null,
   "metadata": {
    "colab": {
     "base_uri": "https://localhost:8080/",
     "height": 753
    },
    "executionInfo": {
     "elapsed": 279,
     "status": "ok",
     "timestamp": 1711426010899,
     "user": {
      "displayName": "Sandeep Junnarkar",
      "userId": "15658885848901522782"
     },
     "user_tz": 240
    },
    "id": "CpzKchqtQanu",
    "outputId": "f2635b72-8e87-4899-f107-5913feffc017"
   },
   "outputs": [],
   "source": [
    "## join winter and summer dataframes together into a dataframe called df\n"
   ]
  },
  {
   "cell_type": "code",
   "execution_count": null,
   "metadata": {
    "colab": {
     "base_uri": "https://localhost:8080/"
    },
    "executionInfo": {
     "elapsed": 3,
     "status": "ok",
     "timestamp": 1711426010899,
     "user": {
      "displayName": "Sandeep Junnarkar",
      "userId": "15658885848901522782"
     },
     "user_tz": 240
    },
    "id": "kFO2VZokWpDg",
    "outputId": "764d8e36-8e42-407b-8c8f-363608298712"
   },
   "outputs": [],
   "source": [
    "### confirm that you have the correct number of rows after the join.\n",
    "### you can scroll up to count the number of entries in oly_w and oly_s.\n",
    "### The totals should be equal to the value generated below\n"
   ]
  },
  {
   "cell_type": "markdown",
   "metadata": {
    "id": "9enrYGS9Qanw"
   },
   "source": [
    "## Improving memory allocation\n",
    "\n",
    "If we were working with a massive dataset, we'd want to find ways to improve processing power.\n",
    "\n",
    "For example, the following columns have only a few values that repeat again and again as strings. This is highly inefficient.\n",
    "\n",
    "- The \"Season\" column has \"winter\" and \"summer\",\n",
    "- The \"Medal\" column only has \"gold\", \"silver\" and \"bronze\",\n",
    "- \"Gender\" at this point in the Olympics only has \"male\" and \"female\".\n",
    "\n",
    "One way to improve memory allocation is to take columns with that contain only a few data points and turn them into categories.\n",
    "\n"
   ]
  },
  {
   "cell_type": "code",
   "execution_count": null,
   "metadata": {
    "colab": {
     "base_uri": "https://localhost:8080/"
    },
    "executionInfo": {
     "elapsed": 250,
     "status": "ok",
     "timestamp": 1711426011147,
     "user": {
      "displayName": "Sandeep Junnarkar",
      "userId": "15658885848901522782"
     },
     "user_tz": 240
    },
    "id": "uNNqfn6gQanw",
    "outputId": "72a39eeb-0204-4be1-e704-3567f268866f"
   },
   "outputs": [],
   "source": [
    "## you should see how \"Season\", \"Medal\" and \"Gender\" are all string objects.\n",
    "## Note that memory usage: 29+ MB\n"
   ]
  },
  {
   "cell_type": "markdown",
   "metadata": {
    "id": "To8Vb_Vfi0Mo"
   },
   "source": [
    "### Convert to single column to category\n",
    "```df[\"column_name\"].astype(\"category\")```"
   ]
  },
  {
   "cell_type": "code",
   "execution_count": null,
   "metadata": {
    "executionInfo": {
     "elapsed": 116,
     "status": "ok",
     "timestamp": 1711426011262,
     "user": {
      "displayName": "Sandeep Junnarkar",
      "userId": "15658885848901522782"
     },
     "user_tz": 240
    },
    "id": "Y4lHoZUHFG7Q"
   },
   "outputs": [],
   "source": [
    "## convert gender to category\n"
   ]
  },
  {
   "cell_type": "code",
   "execution_count": null,
   "metadata": {
    "colab": {
     "base_uri": "https://localhost:8080/"
    },
    "executionInfo": {
     "elapsed": 351,
     "status": "ok",
     "timestamp": 1711426011612,
     "user": {
      "displayName": "Sandeep Junnarkar",
      "userId": "15658885848901522782"
     },
     "user_tz": 240
    },
    "id": "ABFNHFf1Vh2w",
    "outputId": "9624e7e7-ee6e-49a9-9cd7-b7ca837c4165"
   },
   "outputs": [],
   "source": [
    "## INFO\n"
   ]
  },
  {
   "cell_type": "markdown",
   "metadata": {
    "id": "n_5DvbWHFG7Q"
   },
   "source": [
    "### Convert to multiple columns to category\n",
    "\n",
    " ```df[[\"column_name1\", \"column_name2]].astype(\"category\")```"
   ]
  },
  {
   "cell_type": "code",
   "execution_count": null,
   "metadata": {
    "executionInfo": {
     "elapsed": 178,
     "status": "ok",
     "timestamp": 1711426011789,
     "user": {
      "displayName": "Sandeep Junnarkar",
      "userId": "15658885848901522782"
     },
     "user_tz": 240
    },
    "id": "dwdNOcjjQanw"
   },
   "outputs": [],
   "source": [
    "## convert medal and season  to catagory\n"
   ]
  },
  {
   "cell_type": "code",
   "execution_count": null,
   "metadata": {
    "colab": {
     "base_uri": "https://localhost:8080/"
    },
    "executionInfo": {
     "elapsed": 308,
     "status": "ok",
     "timestamp": 1711426012096,
     "user": {
      "displayName": "Sandeep Junnarkar",
      "userId": "15658885848901522782"
     },
     "user_tz": 240
    },
    "id": "txD6wVuUQanw",
    "outputId": "2a19bb19-9707-4cf7-880a-68a98d240915"
   },
   "outputs": [],
   "source": [
    "## See what the memory allocation is now using info()\n"
   ]
  },
  {
   "cell_type": "markdown",
   "metadata": {
    "id": "z5WLiR4OaivH"
   },
   "source": [
    "# It should have dropped to 23.5MB.\n",
    "That's a big descrease for just about 270,000 rows.\n",
    "\n",
    "This would have an even bigger impact on larger datasets."
   ]
  },
  {
   "cell_type": "markdown",
   "metadata": {
    "id": "ROXHvi1Kjt16"
   },
   "source": [
    "# Query to subset\n",
    "\n",
    "Create smaller datasets with only the information you want\n",
    "\n"
   ]
  },
  {
   "cell_type": "markdown",
   "metadata": {
    "id": "T0yf0CIk6f3g"
   },
   "source": [
    "### Create a subset that holds the results from the Sochi Olympics\n",
    "\n",
    "```df.query(\"ColumnName == 'some_value'\")```"
   ]
  },
  {
   "cell_type": "code",
   "execution_count": null,
   "metadata": {
    "colab": {
     "base_uri": "https://localhost:8080/",
     "height": 736
    },
    "executionInfo": {
     "elapsed": 3,
     "status": "ok",
     "timestamp": 1711426012097,
     "user": {
      "displayName": "Sandeep Junnarkar",
      "userId": "15658885848901522782"
     },
     "user_tz": 240
    },
    "id": "AyJZvrWDi0Mo",
    "outputId": "acbdd869-1328-4756-d095-8b7f426702b6"
   },
   "outputs": [],
   "source": [
    "## return df that holds only Sochi data\n",
    "\n"
   ]
  },
  {
   "cell_type": "markdown",
   "metadata": {
    "id": "P2w_IJS-FG7R"
   },
   "source": [
    "### Note the order of the single and double quotes:\n",
    "\n",
    "If you open with double quotes, the inner quotes have to be single quotes:\n",
    "\n",
    "```df.query(\"City == 'Sochi'\")```\n",
    "\n",
    "If you open with single quotes, the inner quotes have to be double quotes:\n",
    "\n",
    "```df.query('City == \"Sochi\"')```\n",
    "\n",
    "\n",
    "Using the same outer and inner quotes will break your code:\n",
    "</br>\n",
    "```df.query(\"City == \"Sochi\"\") ## will break ```"
   ]
  },
  {
   "cell_type": "code",
   "execution_count": null,
   "metadata": {
    "colab": {
     "base_uri": "https://localhost:8080/",
     "height": 736
    },
    "executionInfo": {
     "elapsed": 152,
     "status": "ok",
     "timestamp": 1711426012247,
     "user": {
      "displayName": "Sandeep Junnarkar",
      "userId": "15658885848901522782"
     },
     "user_tz": 240
    },
    "id": "L0OynpIdknE5",
    "outputId": "89bfe572-8651-467a-c80f-0c796d4e05e6"
   },
   "outputs": [],
   "source": [
    "## Store subset into dataframe called sochi_df\n"
   ]
  },
  {
   "cell_type": "markdown",
   "metadata": {
    "id": "mEHqPM870mTo"
   },
   "source": [
    "**Syntax for querying multi-word column names:**\n",
    "\n",
    "```dataframe.query('`column name` comparison_operator value')```\n",
    "\n",
    "Note the opening and closing tick marks ``` ` ```"
   ]
  },
  {
   "cell_type": "code",
   "execution_count": null,
   "metadata": {
    "colab": {
     "base_uri": "https://localhost:8080/",
     "height": 766
    },
    "executionInfo": {
     "elapsed": 235,
     "status": "error",
     "timestamp": 1711426042183,
     "user": {
      "displayName": "Sandeep Junnarkar",
      "userId": "15658885848901522782"
     },
     "user_tz": 240
    },
    "id": "aSEZGLOaYZ98",
    "outputId": "0d40f4f4-7c37-4072-e836-705c41554c51"
   },
   "outputs": [],
   "source": [
    "#will break\n"
   ]
  },
  {
   "cell_type": "code",
   "execution_count": null,
   "metadata": {
    "colab": {
     "base_uri": "https://localhost:8080/",
     "height": 296
    },
    "executionInfo": {
     "elapsed": 138,
     "status": "ok",
     "timestamp": 1711426012382,
     "user": {
      "displayName": "Sandeep Junnarkar",
      "userId": "15658885848901522782"
     },
     "user_tz": 240
    },
    "id": "AoGlTulbxh3J",
    "outputId": "26dd4fd5-9738-4c7c-ee0b-993377b09a29"
   },
   "outputs": [],
   "source": [
    "## query to return on french athletes\n"
   ]
  },
  {
   "cell_type": "markdown",
   "metadata": {
    "id": "9khuEizDbAOx"
   },
   "source": [
    "## Filtering by dates\n",
    "\n",
    "You'll learn more about date and time in the coming week. For now, please note how the ```Year``` column is a  ```int64``` object and NOT a ```datetime``` object. We can still work with it for our needs."
   ]
  },
  {
   "cell_type": "code",
   "execution_count": null,
   "metadata": {
    "colab": {
     "base_uri": "https://localhost:8080/"
    },
    "executionInfo": {
     "elapsed": 342,
     "status": "ok",
     "timestamp": 1711426012722,
     "user": {
      "displayName": "Sandeep Junnarkar",
      "userId": "15658885848901522782"
     },
     "user_tz": 240
    },
    "id": "nlpQIvsuZcQG",
    "outputId": "31c3383f-7091-4475-ccd6-5ea8f390a3b9"
   },
   "outputs": [],
   "source": [
    "## GET INFO\n"
   ]
  },
  {
   "cell_type": "code",
   "execution_count": null,
   "metadata": {
    "colab": {
     "base_uri": "https://localhost:8080/",
     "height": 999
    },
    "executionInfo": {
     "elapsed": 3,
     "status": "ok",
     "timestamp": 1711426012722,
     "user": {
      "displayName": "Sandeep Junnarkar",
      "userId": "15658885848901522782"
     },
     "user_tz": 240
    },
    "id": "uGc1mesMmydi",
    "outputId": "85cff8f2-b335-4e64-8d0d-255f7a6c7bba"
   },
   "outputs": [],
   "source": [
    "## Find all the 1900 competitions\n"
   ]
  },
  {
   "cell_type": "code",
   "execution_count": null,
   "metadata": {
    "colab": {
     "base_uri": "https://localhost:8080/",
     "height": 1000
    },
    "executionInfo": {
     "elapsed": 163,
     "status": "ok",
     "timestamp": 1711426012883,
     "user": {
      "displayName": "Sandeep Junnarkar",
      "userId": "15658885848901522782"
     },
     "user_tz": 240
    },
    "id": "08w1FWYMomHC",
    "outputId": "938ffbca-05cd-458b-d868-12eeabaa790e"
   },
   "outputs": [],
   "source": [
    "### return all the competitions between 1920 and 1950 (inclusive)\n",
    "\n"
   ]
  },
  {
   "cell_type": "code",
   "execution_count": null,
   "metadata": {
    "colab": {
     "base_uri": "https://localhost:8080/",
     "height": 53
    },
    "executionInfo": {
     "elapsed": 3,
     "status": "ok",
     "timestamp": 1711426012883,
     "user": {
      "displayName": "Sandeep Junnarkar",
      "userId": "15658885848901522782"
     },
     "user_tz": 240
    },
    "id": "J4yZlXUIaQOX",
    "outputId": "b90770d0-dc4b-4b96-d976-948a67a368eb"
   },
   "outputs": [],
   "source": [
    "## Were there any games in 1950\n"
   ]
  },
  {
   "cell_type": "code",
   "execution_count": null,
   "metadata": {
    "colab": {
     "base_uri": "https://localhost:8080/",
     "height": 805
    },
    "executionInfo": {
     "elapsed": 179,
     "status": "ok",
     "timestamp": 1711426013059,
     "user": {
      "displayName": "Sandeep Junnarkar",
      "userId": "15658885848901522782"
     },
     "user_tz": 240
    },
    "id": "HgjDED49qb1h",
    "outputId": "2992d69e-1a24-4269-cc50-a8c092306584"
   },
   "outputs": [],
   "source": [
    "## return only Tennis competitions between 1920 and 1950 (inclusive)\n"
   ]
  },
  {
   "cell_type": "code",
   "execution_count": null,
   "metadata": {
    "colab": {
     "base_uri": "https://localhost:8080/",
     "height": 770
    },
    "executionInfo": {
     "elapsed": 3,
     "status": "ok",
     "timestamp": 1711426013059,
     "user": {
      "displayName": "Sandeep Junnarkar",
      "userId": "15658885848901522782"
     },
     "user_tz": 240
    },
    "id": "FTJB9DD0rC-7",
    "outputId": "b4bb71ad-4635-4383-81b7-70eb0e5706ca"
   },
   "outputs": [],
   "source": [
    "## return only Women's Tennis competitions results\n",
    "## between 1996 and 2018 inclusive\n"
   ]
  },
  {
   "cell_type": "code",
   "execution_count": null,
   "metadata": {
    "colab": {
     "base_uri": "https://localhost:8080/",
     "height": 927
    },
    "executionInfo": {
     "elapsed": 124,
     "status": "ok",
     "timestamp": 1711426013181,
     "user": {
      "displayName": "Sandeep Junnarkar",
      "userId": "15658885848901522782"
     },
     "user_tz": 240
    },
    "id": "RkpXn1fWcE6v",
    "outputId": "7167031a-8237-4cd0-92f0-a4a28f582882"
   },
   "outputs": [],
   "source": [
    "## volleyball or rowing for only Male\n",
    "\n"
   ]
  },
  {
   "cell_type": "markdown",
   "metadata": {
    "id": "etIkIijOzHES"
   },
   "source": [
    "## What year was women's boxing introduced to the olympics?"
   ]
  },
  {
   "cell_type": "code",
   "execution_count": null,
   "metadata": {
    "colab": {
     "base_uri": "https://localhost:8080/"
    },
    "executionInfo": {
     "elapsed": 3,
     "status": "ok",
     "timestamp": 1711426013181,
     "user": {
      "displayName": "Sandeep Junnarkar",
      "userId": "15658885848901522782"
     },
     "user_tz": 240
    },
    "id": "xhESZkE3zfGd",
    "outputId": "6512467b-ead9-49fa-eee8-8f9ebf8bd099"
   },
   "outputs": [],
   "source": [
    "## find all the names of sports first just to confirm boxing\n",
    "## does not appear in different names\n",
    "## how is boxing listed?\n"
   ]
  },
  {
   "cell_type": "markdown",
   "metadata": {
    "id": "hLGDjaWDi0Mp"
   },
   "source": [
    "### When did boxing first appear as a sport in which women competed at the olympics?"
   ]
  },
  {
   "cell_type": "code",
   "execution_count": null,
   "metadata": {
    "colab": {
     "base_uri": "https://localhost:8080/",
     "height": 788
    },
    "executionInfo": {
     "elapsed": 287,
     "status": "ok",
     "timestamp": 1711426013466,
     "user": {
      "displayName": "Sandeep Junnarkar",
      "userId": "15658885848901522782"
     },
     "user_tz": 240
    },
    "id": "TmEPhJu0zF-j",
    "outputId": "686252b5-509c-476e-eda6-1f2caff7228e"
   },
   "outputs": [],
   "source": [
    "## query for boxing and women\n",
    "## store in new df\n"
   ]
  },
  {
   "cell_type": "markdown",
   "metadata": {
    "id": "XhcfAbhli0Mp"
   },
   "source": [
    "### How many values in a column?\n",
    "\n"
   ]
  },
  {
   "cell_type": "markdown",
   "metadata": {
    "id": "3RdhPwke2ra5"
   },
   "source": [
    "## Counting\n",
    "\n",
    "- The ```sum``` adds up all the values in a dataset, to give you the total amount.\n",
    "\n",
    "- The ```count``` tells you how many items of particular values exist in a dataset. It doesn't care about the values themselves, just the number of entries.\n",
    "\n",
    "We use the ```.value_counts()``` method:\n",
    "\n",
    "```df_name[\"column_name\"].value_counts()```\n",
    "\n",
    "### Summer v. Winter\n",
    "\n",
    "How many athletes participated in the summer games v. the winter games?"
   ]
  },
  {
   "cell_type": "code",
   "execution_count": null,
   "metadata": {
    "colab": {
     "base_uri": "https://localhost:8080/"
    },
    "executionInfo": {
     "elapsed": 5,
     "status": "ok",
     "timestamp": 1711426013466,
     "user": {
      "displayName": "Sandeep Junnarkar",
      "userId": "15658885848901522782"
     },
     "user_tz": 240
    },
    "id": "mywEHxSPefWb",
    "outputId": "126199c0-c2a2-442f-bc74-052d9b6f600d"
   },
   "outputs": [],
   "source": [
    "## total number of athletes\n"
   ]
  },
  {
   "cell_type": "markdown",
   "metadata": {},
   "source": [
    "### ```value_counts()``` parameter\n",
    "\n",
    "By default, it is ```.value_counts(normalize = False)```\n",
    "\n",
    "This gives you want we calculated above\n",
    "\n",
    "But ```.value_counts(normalize = True)``` returns  proportions (fractions of the total)."
   ]
  },
  {
   "cell_type": "code",
   "execution_count": null,
   "metadata": {},
   "outputs": [],
   "source": [
    "## get as proportion\n"
   ]
  },
  {
   "cell_type": "code",
   "execution_count": null,
   "metadata": {},
   "outputs": [],
   "source": [
    "## convert to you want it as a percentage\n",
    "\n"
   ]
  },
  {
   "cell_type": "code",
   "execution_count": null,
   "metadata": {
    "colab": {
     "base_uri": "https://localhost:8080/"
    },
    "executionInfo": {
     "elapsed": 4,
     "status": "ok",
     "timestamp": 1711426013466,
     "user": {
      "displayName": "Sandeep Junnarkar",
      "userId": "15658885848901522782"
     },
     "user_tz": 240
    },
    "id": "NuQRPigEIjap",
    "outputId": "02007900-8927-4ac8-91a1-98ac90fd7139"
   },
   "outputs": [],
   "source": [
    "## subset data to hold only medals\n"
   ]
  },
  {
   "cell_type": "code",
   "execution_count": null,
   "metadata": {},
   "outputs": [],
   "source": [
    "## what is the total medal count for winter v. summer?\n"
   ]
  },
  {
   "cell_type": "markdown",
   "metadata": {
    "id": "SZ2HjYPHgAdX"
   },
   "source": [
    "# DRY\n",
    "\n",
    "Do not repeat yourself"
   ]
  },
  {
   "cell_type": "code",
   "execution_count": null,
   "metadata": {
    "colab": {
     "base_uri": "https://localhost:8080/"
    },
    "executionInfo": {
     "elapsed": 3,
     "status": "ok",
     "timestamp": 1711426255147,
     "user": {
      "displayName": "Sandeep Junnarkar",
      "userId": "15658885848901522782"
     },
     "user_tz": 240
    },
    "id": "nNtCHiK89DCF",
    "outputId": "9d288fa6-9178-48a5-e1ea-333929007000"
   },
   "outputs": [],
   "source": [
    "##get list of uniques\n"
   ]
  },
  {
   "cell_type": "code",
   "execution_count": null,
   "metadata": {
    "colab": {
     "base_uri": "https://localhost:8080/"
    },
    "executionInfo": {
     "elapsed": 5,
     "status": "ok",
     "timestamp": 1711426013467,
     "user": {
      "displayName": "Sandeep Junnarkar",
      "userId": "15658885848901522782"
     },
     "user_tz": 240
    },
    "id": "RemP2xZafRs_",
    "outputId": "4049b3d6-3655-48fa-c2b7-afcf324ec47a"
   },
   "outputs": [],
   "source": [
    "# target_medals = [\"Gold\", \"Silver\", \"Bronze\"]\n"
   ]
  },
  {
   "cell_type": "code",
   "execution_count": null,
   "metadata": {
    "colab": {
     "base_uri": "https://localhost:8080/",
     "height": 146
    },
    "executionInfo": {
     "elapsed": 147,
     "status": "ok",
     "timestamp": 1711426013610,
     "user": {
      "displayName": "Sandeep Junnarkar",
      "userId": "15658885848901522782"
     },
     "user_tz": 240
    },
    "id": "zrZP53VmgU0A",
    "outputId": "a5f2634d-479b-4cca-8a73-ee9ab0650964"
   },
   "outputs": [],
   "source": [
    "## get head\n"
   ]
  },
  {
   "cell_type": "code",
   "execution_count": null,
   "metadata": {
    "colab": {
     "base_uri": "https://localhost:8080/",
     "height": 1000
    },
    "executionInfo": {
     "elapsed": 147,
     "status": "ok",
     "timestamp": 1711426013610,
     "user": {
      "displayName": "Sandeep Junnarkar",
      "userId": "15658885848901522782"
     },
     "user_tz": 240
    },
    "id": "0VKttIqjfR3r",
    "outputId": "63b0dbd9-741e-49e3-e439-6c004ecfd767"
   },
   "outputs": [],
   "source": [
    "## call winners\n"
   ]
  },
  {
   "cell_type": "code",
   "execution_count": null,
   "metadata": {
    "executionInfo": {
     "elapsed": 5,
     "status": "ok",
     "timestamp": 1711426013610,
     "user": {
      "displayName": "Sandeep Junnarkar",
      "userId": "15658885848901522782"
     },
     "user_tz": 240
    },
    "id": "_DYsoSoDfSaA"
   },
   "outputs": [],
   "source": []
  },
  {
   "cell_type": "code",
   "execution_count": null,
   "metadata": {
    "colab": {
     "base_uri": "https://localhost:8080/"
    },
    "executionInfo": {
     "elapsed": 5,
     "status": "ok",
     "timestamp": 1711426013610,
     "user": {
      "displayName": "Sandeep Junnarkar",
      "userId": "15658885848901522782"
     },
     "user_tz": 240
    },
    "id": "1e1Kk-yH2pGy",
    "outputId": "b0ca4034-e908-4f47-8db3-90f960709072"
   },
   "outputs": [],
   "source": [
    "## what is the total medal count for winter v. summer?\n"
   ]
  },
  {
   "cell_type": "markdown",
   "metadata": {
    "id": "kIT1NcYN11cP"
   },
   "source": [
    "## How many medals were handed out at each olympics between 1896 and 2014?\n",
    "\n",
    "Show the result from highest to lowest."
   ]
  },
  {
   "cell_type": "code",
   "execution_count": null,
   "metadata": {
    "colab": {
     "base_uri": "https://localhost:8080/"
    },
    "executionInfo": {
     "elapsed": 4,
     "status": "ok",
     "timestamp": 1711426013610,
     "user": {
      "displayName": "Sandeep Junnarkar",
      "userId": "15658885848901522782"
     },
     "user_tz": 240
    },
    "id": "bNS4BNau12NM",
    "outputId": "7d9d24b7-65c9-4f3e-edad-e051ca47b6bd"
   },
   "outputs": [],
   "source": [
    "## how many medals were handed out at each olympics?\n",
    "## show the result in descending order\n"
   ]
  },
  {
   "cell_type": "code",
   "execution_count": null,
   "metadata": {
    "colab": {
     "base_uri": "https://localhost:8080/"
    },
    "executionInfo": {
     "elapsed": 3,
     "status": "ok",
     "timestamp": 1711426013610,
     "user": {
      "displayName": "Sandeep Junnarkar",
      "userId": "15658885848901522782"
     },
     "user_tz": 240
    },
    "id": "P_fcUq8m7lgs",
    "outputId": "190e54e2-6b17-46cd-a9bc-f7df8fd241f0"
   },
   "outputs": [],
   "source": [
    "## how many medals were handed out at each olympics each\n",
    "## year from as recent as possible down to 1896.\n"
   ]
  },
  {
   "cell_type": "code",
   "execution_count": null,
   "metadata": {
    "colab": {
     "base_uri": "https://localhost:8080/",
     "height": 394
    },
    "executionInfo": {
     "elapsed": 230,
     "status": "ok",
     "timestamp": 1711426013838,
     "user": {
      "displayName": "Sandeep Junnarkar",
      "userId": "15658885848901522782"
     },
     "user_tz": 240
    },
    "id": "XNrhpk-wFG7S",
    "outputId": "73e8edf9-3b2d-4d86-81ba-a5500d6643dd"
   },
   "outputs": [],
   "source": [
    "## top 10 count of gold medals by country\n"
   ]
  },
  {
   "cell_type": "code",
   "execution_count": null,
   "metadata": {
    "colab": {
     "base_uri": "https://localhost:8080/",
     "height": 1000
    },
    "executionInfo": {
     "elapsed": 3,
     "status": "ok",
     "timestamp": 1711426013838,
     "user": {
      "displayName": "Sandeep Junnarkar",
      "userId": "15658885848901522782"
     },
     "user_tz": 240
    },
    "id": "_sd3NGoiFG7S",
    "outputId": "77c267c2-39d8-433f-9cca-bd3465b41fc8"
   },
   "outputs": [],
   "source": [
    "## count of gold medals by country by percent\n",
    "## only gold winner df\n"
   ]
  },
  {
   "cell_type": "code",
   "execution_count": null,
   "metadata": {
    "colab": {
     "base_uri": "https://localhost:8080/",
     "height": 394
    },
    "executionInfo": {
     "elapsed": 211,
     "status": "ok",
     "timestamp": 1711426014046,
     "user": {
      "displayName": "Sandeep Junnarkar",
      "userId": "15658885848901522782"
     },
     "user_tz": 240
    },
    "id": "dY6gCXcxj00J",
    "outputId": "34a929f1-ea6a-468e-9f5f-509c0ac1118a"
   },
   "outputs": [],
   "source": [
    "## as percent\n",
    "\n"
   ]
  },
  {
   "cell_type": "code",
   "execution_count": null,
   "metadata": {
    "executionInfo": {
     "elapsed": 2,
     "status": "ok",
     "timestamp": 1711426014046,
     "user": {
      "displayName": "Sandeep Junnarkar",
      "userId": "15658885848901522782"
     },
     "user_tz": 240
    },
    "id": "YeyshcYLFG7S"
   },
   "outputs": [],
   "source": [
    "## how many times did Russia win the gold?\n"
   ]
  }
 ],
 "metadata": {
  "celltoolbar": "Slideshow",
  "colab": {
   "provenance": []
  },
  "kernelspec": {
   "display_name": "Python [conda env:base] *",
   "language": "python",
   "name": "conda-base-py"
  },
  "language_info": {
   "codemirror_mode": {
    "name": "ipython",
    "version": 3
   },
   "file_extension": ".py",
   "mimetype": "text/x-python",
   "name": "python",
   "nbconvert_exporter": "python",
   "pygments_lexer": "ipython3",
   "version": "3.12.7"
  }
 },
 "nbformat": 4,
 "nbformat_minor": 4
}
