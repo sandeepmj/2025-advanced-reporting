{
 "cells": [
  {
   "cell_type": "markdown",
   "id": "5ecd2b4e",
   "metadata": {},
   "source": [
    "# Pivot & Calculating Z-Scores in Pandas\n",
    "\n",
    "\n",
    "Recall that the Z-score tells you the precise numerical value of the standard deviation for an individual data point in your sample.\n",
    "\n",
    "When you know the Z-score for two things that are measured in different ways, we know their \"standard\" scores which allows us to compare one against the other!\n",
    "\n",
    "For example, we have <a href = \"https://raw.githubusercontent.com/sandeepmj/datasets/main/standardized-test-scores.csv\">a dataset of test scores</a> for 100 students who have taken both both the ACT and SAT.\n",
    "- The composite ACT had a mean score of 20.9 and SD of  6.\n",
    "- The composite SAT had a mean score of 1060 and SD of 196.\n",
    "\n",
    "**Create a column that tell us which score is better for each student.**\n"
   ]
  },
  {
   "cell_type": "code",
   "execution_count": 1,
   "id": "84d588f3",
   "metadata": {},
   "outputs": [],
   "source": [
    "## import libraries and packages\n",
    "import pandas as pd\n",
    "\n",
    "## mad math functions package\n",
    "from scipy.stats import zscore \n",
    "\n",
    "\n",
    "## run the display code here\n",
    "pd.options.display.float_format = '{:,.2f}'.format\n",
    "\n"
   ]
  },
  {
   "cell_type": "code",
   "execution_count": 9,
   "id": "82cf606c",
   "metadata": {},
   "outputs": [],
   "source": [
    "\n"
   ]
  },
  {
   "cell_type": "code",
   "execution_count": null,
   "id": "c6183d6e",
   "metadata": {},
   "outputs": [],
   "source": []
  }
 ],
 "metadata": {
  "kernelspec": {
   "display_name": "Python [conda env:base] *",
   "language": "python",
   "name": "conda-base-py"
  },
  "language_info": {
   "codemirror_mode": {
    "name": "ipython",
    "version": 3
   },
   "file_extension": ".py",
   "mimetype": "text/x-python",
   "name": "python",
   "nbconvert_exporter": "python",
   "pygments_lexer": "ipython3",
   "version": "3.12.7"
  }
 },
 "nbformat": 4,
 "nbformat_minor": 5
}
