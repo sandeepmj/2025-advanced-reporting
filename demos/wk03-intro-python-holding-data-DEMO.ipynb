{
 "cells": [
  {
   "cell_type": "code",
   "execution_count": 1,
   "id": "100cd0f7-9e6a-4c19-838a-ea090ec685d1",
   "metadata": {},
   "outputs": [
    {
     "data": {
      "text/plain": [
       "192"
      ]
     },
     "execution_count": 1,
     "metadata": {},
     "output_type": "execute_result"
    }
   ],
   "source": [
    "## write a 3-digit number\n",
    "192"
   ]
  },
  {
   "cell_type": "code",
   "execution_count": 3,
   "id": "997bffb1-532a-4cb0-9268-2836553422ad",
   "metadata": {},
   "outputs": [
    {
     "data": {
      "text/plain": [
       "600890"
      ]
     },
     "execution_count": 3,
     "metadata": {},
     "output_type": "execute_result"
    }
   ],
   "source": [
    "## write a 6-digit number\n",
    "600890"
   ]
  },
  {
   "cell_type": "markdown",
   "id": "1e514c11-4804-4df1-ac52-63d970383311",
   "metadata": {},
   "source": [
    "#### Write the following number:five hundred and fourty-seven billion three hundred and ninety-two million four hundred and six thousand and twenty two"
   ]
  },
  {
   "cell_type": "code",
   "execution_count": 5,
   "id": "2c8ff145-ff22-476a-85f6-29369cfa42be",
   "metadata": {},
   "outputs": [
    {
     "data": {
      "text/plain": [
       "547392406022"
      ]
     },
     "execution_count": 5,
     "metadata": {},
     "output_type": "execute_result"
    }
   ],
   "source": [
    "## write it here\n",
    "\n",
    "547392406022"
   ]
  },
  {
   "cell_type": "code",
   "execution_count": 9,
   "id": "321978a5-32a0-4bcd-9b92-af456d06c72a",
   "metadata": {},
   "outputs": [
    {
     "data": {
      "text/plain": [
       "(547, 392, 406, 122)"
      ]
     },
     "execution_count": 9,
     "metadata": {},
     "output_type": "execute_result"
    }
   ],
   "source": [
    "## write with commas\n",
    "547,392,406,122"
   ]
  },
  {
   "cell_type": "code",
   "execution_count": 11,
   "id": "7f0c5223-bc02-487a-9d90-58a02eb61f36",
   "metadata": {},
   "outputs": [
    {
     "data": {
      "text/plain": [
       "547392406122"
      ]
     },
     "execution_count": 11,
     "metadata": {},
     "output_type": "execute_result"
    }
   ],
   "source": [
    "## thousand seps\n",
    "547_392_406_122"
   ]
  },
  {
   "cell_type": "markdown",
   "id": "038ec83d",
   "metadata": {},
   "source": [
    "### Basic calculations and naming conventions\n",
    "\n",
    "\n",
    "In 2023 these roomates paid the following rents:\n",
    "- Alfred pays 900 for a room in an apartment.\n",
    "- Fatima pays $1200 for the largest room.\n",
    "- Trina pays 700 for the closet size room.\n",
    "\n",
    "What percent of the total rent does Trina pay?"
   ]
  },
  {
   "cell_type": "code",
   "execution_count": 13,
   "id": "96914bbf",
   "metadata": {},
   "outputs": [
    {
     "data": {
      "text/plain": [
       "71200.77777777778"
      ]
     },
     "execution_count": 13,
     "metadata": {},
     "output_type": "execute_result"
    }
   ],
   "source": [
    "## CALCULATE HERE Trina's share of the rent\n",
    "700 / 900 + 1_200 + 700 * 100"
   ]
  },
  {
   "cell_type": "markdown",
   "id": "5c914a77",
   "metadata": {},
   "source": [
    "### Order of Operations \n",
    "\n",
    "#### PEMDAS\n",
    "\n",
    "This stands for \n",
    "- **parenthesis**, \n",
    "- **exponents**, \n",
    "- **multiplication**, \n",
    "- **division**, \n",
    "- **addition**, \n",
    "- **subtraction**.\n",
    "\n",
    "If you have to do more than one of these in an expression, PEMDAS dictates the order of operations."
   ]
  },
  {
   "cell_type": "code",
   "execution_count": 19,
   "id": "7409de5d",
   "metadata": {},
   "outputs": [
    {
     "data": {
      "text/plain": [
       "25.0"
      ]
     },
     "execution_count": 19,
     "metadata": {},
     "output_type": "execute_result"
    }
   ],
   "source": [
    "## WITH parenthesis)\n",
    "700 / (900 + 1_200 + 700) * 100"
   ]
  },
  {
   "cell_type": "markdown",
   "id": "9f8cf6ad",
   "metadata": {},
   "source": [
    "### Naming Variables\n",
    "\n",
    "The idea is to give meaningful names so you aren't confused by what they stand for. Apart from that, here are some basic rules:\n",
    "\n",
    "-   They ARE case sensitive.\n",
    "-   Cannot begin with numbers.\n",
    "-   Make them unique (just like IDs, you should only have ONE variable with a particular name).\n",
    "-   No spaces between words, but don't use compound words (```monthlyexpensessandeep```) because they are hard to read. Instead use:\n",
    "    - camelCase (```monthlyExpensesSandeep```)\n",
    "    - **underscores or snake_case: (```monthly_expenses_sandeep```)**\n",
    "\n",
    "    \n",
    "-   Don't use any Python programming terms [reserved words](https://betterprogramming.pub/all-33-reserved-keywords-in-python-98e55f6c8ded).\n",
    "-   Think of code as story. Each variable is like a character/actor. Naming each in a relevant way such makes the narrative (the code) easier to follow.\n",
    "-   Keep the variables short but make sure they make sense.\n"
   ]
  },
  {
   "cell_type": "code",
   "execution_count": 21,
   "id": "061ff149",
   "metadata": {},
   "outputs": [],
   "source": [
    "## assign values to variables\n",
    "monthly_rent_alfred = 900\n",
    "monthly_rent_fatima = 1_200\n",
    "monthly_rent_trina = 700\n"
   ]
  },
  {
   "cell_type": "code",
   "execution_count": 23,
   "id": "46218e92-32b4-4652-b380-3f896137747c",
   "metadata": {},
   "outputs": [
    {
     "data": {
      "text/plain": [
       "1200"
      ]
     },
     "execution_count": 23,
     "metadata": {},
     "output_type": "execute_result"
    }
   ],
   "source": [
    "monthly_rent_fatima"
   ]
  },
  {
   "cell_type": "code",
   "execution_count": 25,
   "id": "039ca3c1",
   "metadata": {},
   "outputs": [],
   "source": [
    "## can also assign like this:\n",
    "m_alfred, m_fatima, m_trina = 900, 1_200, 700"
   ]
  },
  {
   "cell_type": "code",
   "execution_count": 27,
   "id": "9b1c07f1",
   "metadata": {},
   "outputs": [
    {
     "data": {
      "text/plain": [
       "700"
      ]
     },
     "execution_count": 27,
     "metadata": {},
     "output_type": "execute_result"
    }
   ],
   "source": [
    "## call variables\n",
    "m_trina"
   ]
  },
  {
   "cell_type": "code",
   "execution_count": 29,
   "id": "b47fa703-1983-4bce-be24-417393a1816a",
   "metadata": {},
   "outputs": [
    {
     "name": "stdout",
     "output_type": "stream",
     "text": [
      "700\n"
     ]
    }
   ],
   "source": [
    "print(m_trina)"
   ]
  },
  {
   "cell_type": "code",
   "execution_count": 31,
   "id": "5befbd05",
   "metadata": {},
   "outputs": [
    {
     "data": {
      "text/plain": [
       "25.0"
      ]
     },
     "execution_count": 31,
     "metadata": {},
     "output_type": "execute_result"
    }
   ],
   "source": [
    "## calculate trina's share using variables\n",
    "m_trina / (m_alfred + m_trina + m_fatima) * 100"
   ]
  },
  {
   "cell_type": "code",
   "execution_count": 142,
   "id": "256dc46e",
   "metadata": {},
   "outputs": [
    {
     "data": {
      "text/plain": [
       "25.0"
      ]
     },
     "execution_count": 142,
     "metadata": {},
     "output_type": "execute_result"
    }
   ],
   "source": [
    "## place result into in variable\n",
    "share_trina_rent = m_trina / (m_alfred + m_trina + m_fatima) * 100\n",
    "share_trina_rent"
   ]
  },
  {
   "cell_type": "markdown",
   "id": "a97f78fe-b5f1-4cdb-85ea-6e8e6f3c987f",
   "metadata": {},
   "source": [
    "## Built-in Functions\n",
    "You've encountered a built-in function in ```print()```\n",
    "\n",
    "In simplest terms (good for now), a ```built-in function``` comes as standard part of Python and carries out one or more steps on something we aim it at. What we target for the function goes inside the parenthesis. You've already used a built-in function:\n",
    "\n",
    "```print(\"output something\")```\n"
   ]
  },
  {
   "cell_type": "code",
   "execution_count": 138,
   "id": "01803156",
   "metadata": {
    "scrolled": true
   },
   "outputs": [
    {
     "data": {
      "text/plain": [
       "11"
      ]
     },
     "execution_count": 138,
     "metadata": {},
     "output_type": "execute_result"
    }
   ],
   "source": [
    "## write a negative number\n",
    "-11 * -1"
   ]
  },
  {
   "cell_type": "code",
   "execution_count": 43,
   "id": "c83a62cf-13dc-4b4e-86fd-c7fb21af1345",
   "metadata": {},
   "outputs": [
    {
     "data": {
      "text/plain": [
       "11"
      ]
     },
     "execution_count": 43,
     "metadata": {},
     "output_type": "execute_result"
    }
   ],
   "source": [
    "##### Convert a number into an absolute \n",
    "## create a variable called some_number with a negative value\n",
    "## covert it to an absolute number\n",
    "\n",
    "abs(-11)"
   ]
  },
  {
   "cell_type": "code",
   "execution_count": 47,
   "id": "9202b2c4-7c91-4504-8cda-d0c1de200737",
   "metadata": {},
   "outputs": [
    {
     "data": {
      "text/plain": [
       "7"
      ]
     },
     "execution_count": 47,
     "metadata": {},
     "output_type": "execute_result"
    }
   ],
   "source": [
    "## how long was our super long number?\n",
    "len(\"sandeep\")"
   ]
  },
  {
   "cell_type": "code",
   "execution_count": 51,
   "id": "9ecbd453-64d2-4004-85bd-95e41af62c68",
   "metadata": {},
   "outputs": [
    {
     "data": {
      "text/plain": [
       "'5555'"
      ]
     },
     "execution_count": 51,
     "metadata": {},
     "output_type": "execute_result"
    }
   ],
   "source": [
    "\"55\" * 2"
   ]
  },
  {
   "cell_type": "code",
   "execution_count": 53,
   "id": "4512e6a4-7c85-4150-b233-f2da6c2f3f09",
   "metadata": {},
   "outputs": [
    {
     "data": {
      "text/plain": [
       "str"
      ]
     },
     "execution_count": 53,
     "metadata": {},
     "output_type": "execute_result"
    }
   ],
   "source": [
    "type(\"Sandeep\")"
   ]
  },
  {
   "cell_type": "code",
   "execution_count": 63,
   "id": "608be73f-5a0f-4f85-a30f-ddf7ce32510e",
   "metadata": {},
   "outputs": [
    {
     "ename": "NameError",
     "evalue": "name 'Sandeep' is not defined",
     "output_type": "error",
     "traceback": [
      "\u001b[0;31m---------------------------------------------------------------------------\u001b[0m",
      "\u001b[0;31mNameError\u001b[0m                                 Traceback (most recent call last)",
      "Cell \u001b[0;32mIn[63], line 1\u001b[0m\n\u001b[0;32m----> 1\u001b[0m \u001b[38;5;28mtype\u001b[39m(Sandeep)\n",
      "\u001b[0;31mNameError\u001b[0m: name 'Sandeep' is not defined"
     ]
    }
   ],
   "source": [
    "type(Sandeep)"
   ]
  },
  {
   "cell_type": "code",
   "execution_count": 65,
   "id": "650a5589-9748-4430-b1df-8ef4577e2780",
   "metadata": {},
   "outputs": [
    {
     "data": {
      "text/plain": [
       "str"
      ]
     },
     "execution_count": 65,
     "metadata": {},
     "output_type": "execute_result"
    }
   ],
   "source": [
    "type(\"45\")"
   ]
  },
  {
   "cell_type": "code",
   "execution_count": 69,
   "id": "646d9e75-119c-4ad2-98b2-54187f453ae7",
   "metadata": {},
   "outputs": [],
   "source": [
    "sandeep = 100"
   ]
  },
  {
   "cell_type": "code",
   "execution_count": 71,
   "id": "1c60cc45-6de2-4c3a-8c77-4e12791b2d5b",
   "metadata": {},
   "outputs": [
    {
     "data": {
      "text/plain": [
       "int"
      ]
     },
     "execution_count": 71,
     "metadata": {},
     "output_type": "execute_result"
    }
   ],
   "source": [
    "type(sandeep)"
   ]
  },
  {
   "cell_type": "code",
   "execution_count": 57,
   "id": "391fbdf5-4ef7-438e-90ac-e8e57c290083",
   "metadata": {},
   "outputs": [
    {
     "data": {
      "text/plain": [
       "int"
      ]
     },
     "execution_count": 57,
     "metadata": {},
     "output_type": "execute_result"
    }
   ],
   "source": [
    "## what type of data is a 45?\n",
    "type(45)"
   ]
  },
  {
   "cell_type": "code",
   "execution_count": 59,
   "id": "9f1eada1-3e94-4c08-ad99-a0250b0ce22e",
   "metadata": {},
   "outputs": [
    {
     "data": {
      "text/plain": [
       "float"
      ]
     },
     "execution_count": 59,
     "metadata": {},
     "output_type": "execute_result"
    }
   ],
   "source": [
    "## what type of data is 3.28\n",
    "type(3.28)"
   ]
  },
  {
   "cell_type": "code",
   "execution_count": null,
   "id": "392d1344-16c5-428e-85d0-f20d4b05a7a1",
   "metadata": {},
   "outputs": [],
   "source": [
    "## what type of data is \"Sandeep\""
   ]
  },
  {
   "cell_type": "markdown",
   "id": "9335d8db-a8f9-401f-92cb-43a9f66fa46e",
   "metadata": {},
   "source": [
    "I will introduce others through the course as need. There are <a href=\"https://docs.python.org/3/library/functions.html\">dozens of built-in functions</a>, but I will be introducing the most useful ones little by little."
   ]
  },
  {
   "cell_type": "code",
   "execution_count": 73,
   "id": "f11f748b",
   "metadata": {},
   "outputs": [
    {
     "data": {
      "text/plain": [
       "25.0"
      ]
     },
     "execution_count": 73,
     "metadata": {},
     "output_type": "execute_result"
    }
   ],
   "source": [
    "#### Back to our rental numbers \n",
    "## our print variables\n",
    "m_alfred\n",
    "m_fatima\n",
    "sandeep\n",
    "m_trina\n",
    "share_trina_rent"
   ]
  },
  {
   "cell_type": "code",
   "execution_count": 75,
   "id": "6da12642-67c2-4461-bf1b-082dabc30b92",
   "metadata": {},
   "outputs": [
    {
     "name": "stdout",
     "output_type": "stream",
     "text": [
      "900\n",
      "1200\n",
      "100\n",
      "25.0\n",
      "700\n"
     ]
    }
   ],
   "source": [
    "print(m_alfred)\n",
    "print(m_fatima)\n",
    "print(sandeep)\n",
    "print(share_trina_rent)\n",
    "print(m_trina)"
   ]
  },
  {
   "cell_type": "markdown",
   "id": "98f11df7",
   "metadata": {},
   "source": [
    "## f-string literals (or f-strings)\n",
    "\n",
    "```print(f\"Some identifier words: {actual_variable}\")```\n"
   ]
  },
  {
   "cell_type": "code",
   "execution_count": 83,
   "id": "49d778bf",
   "metadata": {},
   "outputs": [
    {
     "name": "stdout",
     "output_type": "stream",
     "text": [
      "Ms. Fatima's rent per month is: 1200\n",
      "Alfred rent: 900\n",
      "Trina rent: 700\n"
     ]
    }
   ],
   "source": [
    "## using f-string\n",
    "## print total all the monthly rents plus totals using f-strings\n",
    "print(f\"Ms. Fatima's rent per month is: {m_fatima}\")\n",
    "print(f\"Alfred rent: {m_alfred}\")\n",
    "print(f\"Trina rent: {m_trina}\")"
   ]
  },
  {
   "cell_type": "markdown",
   "id": "ace0aa7f-95e7-48a4-93cc-1308011b7ffe",
   "metadata": {},
   "source": [
    "## f-strings with thousands separators\n",
    "\n",
    "```print(f\"Some identifier words: {actual_variable:,}\")```"
   ]
  },
  {
   "cell_type": "code",
   "execution_count": 93,
   "id": "0fee2ff3-f2af-4800-a126-01a9229c9aa1",
   "metadata": {},
   "outputs": [
    {
     "name": "stdout",
     "output_type": "stream",
     "text": [
      "82108860918300\n"
     ]
    }
   ],
   "source": [
    "## put our big number into a variable and make it even bigger by multiplying it by 150\n",
    "\n",
    "big_number = 547_392_406_122\n",
    "bigger_number = big_number * 150\n",
    "print(bigger_number)"
   ]
  },
  {
   "cell_type": "code",
   "execution_count": 106,
   "id": "f2cfddc4-3cc7-4713-a1f9-0374c6310700",
   "metadata": {},
   "outputs": [
    {
     "name": "stdout",
     "output_type": "stream",
     "text": [
      "Big Number got bigger: $82,108,860,918,300\n"
     ]
    }
   ],
   "source": [
    "## f-print with thousand sep\n",
    "\n",
    "print(f\"Big Number got bigger: ${bigger_number:,}\")"
   ]
  },
  {
   "cell_type": "markdown",
   "id": "48510ea2-48bb-48cb-b108-ae6faf734c96",
   "metadata": {},
   "source": [
    "## f-strings with thousands separators and rounding (round to 2 decimal places)\n",
    "\n",
    "```print(f\"Some identifier words: {actual_variable:,.2F}\")```"
   ]
  },
  {
   "cell_type": "code",
   "execution_count": 131,
   "id": "4a863625-7316-4865-8a96-1626d63a7fff",
   "metadata": {},
   "outputs": [],
   "source": [
    "## f-string also do calculations divive 27 by 4.2 and store it in a variable\n",
    "\n",
    "result = 27/4.2\n"
   ]
  },
  {
   "cell_type": "code",
   "execution_count": 135,
   "id": "e65705a6-2357-49ab-86cc-360680e33eac",
   "metadata": {},
   "outputs": [
    {
     "data": {
      "text/plain": [
       "6.428571428571428"
      ]
     },
     "execution_count": 135,
     "metadata": {},
     "output_type": "execute_result"
    }
   ],
   "source": [
    "result"
   ]
  },
  {
   "cell_type": "code",
   "execution_count": 133,
   "id": "35eb1ff6-554e-4551-aca7-83147fe69f38",
   "metadata": {},
   "outputs": [
    {
     "name": "stdout",
     "output_type": "stream",
     "text": [
      "The gap is: 6.43\n"
     ]
    }
   ],
   "source": [
    "## f-print with variable rounded to 2 places\n",
    "\n",
    "print(f\"The gap is: {result:,.2F}\")"
   ]
  }
 ],
 "metadata": {
  "kernelspec": {
   "display_name": "Python [conda env:base] *",
   "language": "python",
   "name": "conda-base-py"
  },
  "language_info": {
   "codemirror_mode": {
    "name": "ipython",
    "version": 3
   },
   "file_extension": ".py",
   "mimetype": "text/x-python",
   "name": "python",
   "nbconvert_exporter": "python",
   "pygments_lexer": "ipython3",
   "version": "3.12.7"
  }
 },
 "nbformat": 4,
 "nbformat_minor": 5
}
