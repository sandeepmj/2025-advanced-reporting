{
 "cells": [
  {
   "cell_type": "markdown",
   "id": "163c0f36-fc90-4eec-8970-e386a31c8604",
   "metadata": {},
   "source": [
    "# Data Aggregation/Summary Analysis \n",
    "\n",
    "### Education loans data\n",
    "\n",
    "Let's analyze a few years of Federal direct loans <a href=\"https://studentaid.gov/data-center/student/title-iv\">taken from here</a>.\n",
    "\n",
    "For our exercise, we have <a href=\"https://raw.githubusercontent.com/sandeepmj/datasets/main/student-loan-data-comparable-quarters.csv\">student loan data</a> for **first quarters** of academic years **2021-2022** and **2022-2023**."
   ]
  },
  {
   "cell_type": "code",
   "execution_count": null,
   "id": "ded1af0a-cdd3-4109-95a1-05a429453ba5",
   "metadata": {},
   "outputs": [],
   "source": []
  }
 ],
 "metadata": {
  "kernelspec": {
   "display_name": "Python [conda env:base] *",
   "language": "python",
   "name": "conda-base-py"
  },
  "language_info": {
   "codemirror_mode": {
    "name": "ipython",
    "version": 3
   },
   "file_extension": ".py",
   "mimetype": "text/x-python",
   "name": "python",
   "nbconvert_exporter": "python",
   "pygments_lexer": "ipython3",
   "version": "3.12.7"
  }
 },
 "nbformat": 4,
 "nbformat_minor": 5
}
