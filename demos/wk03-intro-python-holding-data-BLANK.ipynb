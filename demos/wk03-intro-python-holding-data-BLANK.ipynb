{
 "cells": [
  {
   "cell_type": "markdown",
   "id": "95583ab6-ece5-48b8-af0e-2f0bedecb766",
   "metadata": {},
   "source": [
    "# Python's Basic Computational Powers"
   ]
  },
  {
   "cell_type": "code",
   "execution_count": null,
   "id": "100cd0f7-9e6a-4c19-838a-ea090ec685d1",
   "metadata": {},
   "outputs": [],
   "source": [
    "## write a 3-digit number\n"
   ]
  },
  {
   "cell_type": "code",
   "execution_count": null,
   "id": "997bffb1-532a-4cb0-9268-2836553422ad",
   "metadata": {},
   "outputs": [],
   "source": [
    "## write a 6-digit number\n"
   ]
  },
  {
   "cell_type": "markdown",
   "id": "1e514c11-4804-4df1-ac52-63d970383311",
   "metadata": {},
   "source": [
    "#### Write the following number:five hundred and fourty-seven billion three hundred and ninety-two million four hundred and six thousand and one hundred and twenty two"
   ]
  },
  {
   "cell_type": "code",
   "execution_count": null,
   "id": "2c8ff145-ff22-476a-85f6-29369cfa42be",
   "metadata": {},
   "outputs": [],
   "source": [
    "## write it here\n",
    "\n"
   ]
  },
  {
   "cell_type": "code",
   "execution_count": null,
   "id": "321978a5-32a0-4bcd-9b92-af456d06c72a",
   "metadata": {},
   "outputs": [],
   "source": [
    "## write with thousands separators\n"
   ]
  },
  {
   "cell_type": "code",
   "execution_count": null,
   "id": "7f0c5223-bc02-487a-9d90-58a02eb61f36",
   "metadata": {},
   "outputs": [],
   "source": [
    "## Pythonic thousand seps\n"
   ]
  },
  {
   "cell_type": "markdown",
   "id": "038ec83d",
   "metadata": {},
   "source": [
    "### Basic calculations and naming conventions\n",
    "\n",
    "\n",
    "In 2023 these roomates paid the following rents:\n",
    "- Alfred pays 900 for a room in an apartment.\n",
    "- Fatima pays $1200 for the largest room.\n",
    "- Trina pays 700 for the closet size room.\n",
    "\n",
    "What percent of the total rent does Trina pay?"
   ]
  },
  {
   "cell_type": "code",
   "execution_count": null,
   "id": "96914bbf",
   "metadata": {},
   "outputs": [],
   "source": [
    "## CALCULATE HERE Trina's share of the rent\n"
   ]
  },
  {
   "cell_type": "markdown",
   "id": "5c914a77",
   "metadata": {},
   "source": [
    "### Order of Operations \n",
    "\n",
    "#### PEMDAS\n",
    "\n",
    "This stands for \n",
    "- **parenthesis**, \n",
    "- **exponents**, \n",
    "- **multiplication**, \n",
    "- **division**, \n",
    "- **addition**, \n",
    "- **subtraction**.\n",
    "\n",
    "If you have to do more than one of these in an expression, PEMDAS dictates the order of operations."
   ]
  },
  {
   "cell_type": "code",
   "execution_count": null,
   "id": "7409de5d",
   "metadata": {},
   "outputs": [],
   "source": [
    "## WITH parenthesis)\n"
   ]
  },
  {
   "cell_type": "markdown",
   "id": "9f8cf6ad",
   "metadata": {},
   "source": [
    "### Naming Variables\n",
    "\n",
    "The idea is to give meaningful names so you aren't confused by what they stand for. Apart from that, here are some basic rules:\n",
    "\n",
    "-   They ARE case sensitive.\n",
    "-   Cannot begin with numbers.\n",
    "-   Make them unique (just like IDs, you should only have ONE variable with a particular name).\n",
    "-   No spaces between words, but don't use compound words (```monthlyexpensessandeep```) because they are hard to read. Instead use:\n",
    "    - camelCase (```monthlyExpensesSandeep```)\n",
    "    - **underscores or snake_case: (```monthly_expenses_sandeep```)**\n",
    "\n",
    "    \n",
    "-   Don't use any Python programming terms [reserved words](https://betterprogramming.pub/all-33-reserved-keywords-in-python-98e55f6c8ded).\n",
    "-   Think of code as story. Each variable is like a character/actor. Naming each in a relevant way such makes the narrative (the code) easier to follow.\n",
    "-   Keep the variables short but make sure they make sense.\n"
   ]
  },
  {
   "cell_type": "code",
   "execution_count": null,
   "id": "061ff149",
   "metadata": {},
   "outputs": [],
   "source": [
    "## assign values to variables\n",
    "\n"
   ]
  },
  {
   "cell_type": "code",
   "execution_count": null,
   "id": "039ca3c1",
   "metadata": {},
   "outputs": [],
   "source": [
    "## can also assign like this:\n"
   ]
  },
  {
   "cell_type": "code",
   "execution_count": null,
   "id": "9b1c07f1",
   "metadata": {},
   "outputs": [],
   "source": [
    "## call variables\n"
   ]
  },
  {
   "cell_type": "code",
   "execution_count": null,
   "id": "b47fa703-1983-4bce-be24-417393a1816a",
   "metadata": {},
   "outputs": [],
   "source": []
  },
  {
   "cell_type": "code",
   "execution_count": null,
   "id": "5befbd05",
   "metadata": {},
   "outputs": [],
   "source": [
    "## calculate trina's share using variables\n"
   ]
  },
  {
   "cell_type": "code",
   "execution_count": null,
   "id": "256dc46e",
   "metadata": {},
   "outputs": [],
   "source": [
    "## place result into in variable\n"
   ]
  },
  {
   "cell_type": "markdown",
   "id": "a97f78fe-b5f1-4cdb-85ea-6e8e6f3c987f",
   "metadata": {},
   "source": [
    "## Built-in Functions\n",
    "You've encountered a built-in function in ```print()```\n",
    "\n",
    "In simplest terms (good for now), a ```built-in function``` comes as standard part of Python and carries out one or more steps on something we aim it at. What we target for the function goes inside the parenthesis. You've already used a built-in function:\n",
    "\n",
    "```print(\"output something\")```\n"
   ]
  },
  {
   "cell_type": "code",
   "execution_count": null,
   "id": "01803156",
   "metadata": {
    "scrolled": true
   },
   "outputs": [],
   "source": [
    "## write a negative number\n"
   ]
  },
  {
   "cell_type": "code",
   "execution_count": null,
   "id": "c83a62cf-13dc-4b4e-86fd-c7fb21af1345",
   "metadata": {},
   "outputs": [],
   "source": [
    "##### Convert a number into an absolute \n",
    "## create a variable called some_number with a negative value\n",
    "## covert it to an absolute number\n",
    "\n"
   ]
  },
  {
   "cell_type": "code",
   "execution_count": null,
   "id": "9202b2c4-7c91-4504-8cda-d0c1de200737",
   "metadata": {},
   "outputs": [],
   "source": [
    "## how long was our super long number?\n"
   ]
  },
  {
   "cell_type": "code",
   "execution_count": null,
   "id": "391fbdf5-4ef7-438e-90ac-e8e57c290083",
   "metadata": {},
   "outputs": [],
   "source": [
    "## what type of data is a 45?\n"
   ]
  },
  {
   "cell_type": "code",
   "execution_count": null,
   "id": "9f1eada1-3e94-4c08-ad99-a0250b0ce22e",
   "metadata": {},
   "outputs": [],
   "source": [
    "## what type of data is 3.28\n"
   ]
  },
  {
   "cell_type": "code",
   "execution_count": null,
   "id": "392d1344-16c5-428e-85d0-f20d4b05a7a1",
   "metadata": {},
   "outputs": [],
   "source": [
    "## what type of data is \"Sandeep\""
   ]
  },
  {
   "cell_type": "markdown",
   "id": "9335d8db-a8f9-401f-92cb-43a9f66fa46e",
   "metadata": {},
   "source": [
    "I will introduce others through the course as need. There are <a href=\"https://docs.python.org/3/library/functions.html\">dozens of built-in functions</a>, but I will be introducing the most useful ones little by little."
   ]
  },
  {
   "cell_type": "code",
   "execution_count": null,
   "id": "f11f748b",
   "metadata": {},
   "outputs": [],
   "source": [
    "#### Back to our rental numbers \n",
    "## our print variables\n"
   ]
  },
  {
   "cell_type": "code",
   "execution_count": null,
   "id": "6da12642-67c2-4461-bf1b-082dabc30b92",
   "metadata": {},
   "outputs": [],
   "source": [
    "## print all our variables\n"
   ]
  },
  {
   "cell_type": "markdown",
   "id": "98f11df7",
   "metadata": {},
   "source": [
    "## f-string literals (or f-strings)\n",
    "\n",
    "```print(f\"Some identifier words: {actual_variable}\")```\n"
   ]
  },
  {
   "cell_type": "code",
   "execution_count": null,
   "id": "49d778bf",
   "metadata": {},
   "outputs": [],
   "source": [
    "## using f-string\n",
    "## print total all the monthly rents plus totals using f-strings\n"
   ]
  },
  {
   "cell_type": "markdown",
   "id": "ace0aa7f-95e7-48a4-93cc-1308011b7ffe",
   "metadata": {},
   "source": [
    "## f-strings with thousands separators\n",
    "\n",
    "```print(f\"Some identifier words: {actual_variable:,}\")```"
   ]
  },
  {
   "cell_type": "code",
   "execution_count": null,
   "id": "0fee2ff3-f2af-4800-a126-01a9229c9aa1",
   "metadata": {},
   "outputs": [],
   "source": [
    "## put our big number into a variable and make it even bigger by multiplying it by 150\n"
   ]
  },
  {
   "cell_type": "code",
   "execution_count": null,
   "id": "f2cfddc4-3cc7-4713-a1f9-0374c6310700",
   "metadata": {},
   "outputs": [],
   "source": [
    "## f-print with thousand sep\n"
   ]
  },
  {
   "cell_type": "markdown",
   "id": "48510ea2-48bb-48cb-b108-ae6faf734c96",
   "metadata": {},
   "source": [
    "## f-strings with thousands separators and rounding (round to 2 decimal places)\n",
    "\n",
    "```print(f\"Some identifier words: {actual_variable:,.2F}\")```"
   ]
  },
  {
   "cell_type": "code",
   "execution_count": null,
   "id": "4a863625-7316-4865-8a96-1626d63a7fff",
   "metadata": {},
   "outputs": [],
   "source": [
    "## f-string also do calculations divive 27 by 4.2 and store it in a variable\n",
    "\n"
   ]
  },
  {
   "cell_type": "code",
   "execution_count": null,
   "id": "35eb1ff6-554e-4551-aca7-83147fe69f38",
   "metadata": {},
   "outputs": [],
   "source": [
    "## f-print with variable rounded to 2 places\n"
   ]
  }
 ],
 "metadata": {
  "kernelspec": {
   "display_name": "Python [conda env:base] *",
   "language": "python",
   "name": "conda-base-py"
  },
  "language_info": {
   "codemirror_mode": {
    "name": "ipython",
    "version": 3
   },
   "file_extension": ".py",
   "mimetype": "text/x-python",
   "name": "python",
   "nbconvert_exporter": "python",
   "pygments_lexer": "ipython3",
   "version": "3.12.7"
  }
 },
 "nbformat": 4,
 "nbformat_minor": 5
}
